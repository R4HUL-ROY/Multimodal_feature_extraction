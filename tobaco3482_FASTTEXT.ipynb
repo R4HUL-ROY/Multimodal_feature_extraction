{
  "nbformat": 4,
  "nbformat_minor": 0,
  "metadata": {
    "colab": {
      "name": "tobaco3482_FASTTEXT.ipynb",
      "provenance": [],
      "collapsed_sections": [],
      "mount_file_id": "1Elv6yVWrHY3zOVu25YWNCZCB9b7y93T_",
      "authorship_tag": "ABX9TyODrNlGLGyfjkNHxKYNFwhh",
      "include_colab_link": true
    },
    "kernelspec": {
      "name": "python3",
      "display_name": "Python 3"
    },
    "language_info": {
      "name": "python"
    }
  },
  "cells": [
    {
      "cell_type": "markdown",
      "metadata": {
        "id": "view-in-github",
        "colab_type": "text"
      },
      "source": [
        "<a href=\"https://colab.research.google.com/github/R4HUL-ROY/Multimodal_feature_extraction/blob/main/tobaco3482_FASTTEXT.ipynb\" target=\"_parent\"><img src=\"https://colab.research.google.com/assets/colab-badge.svg\" alt=\"Open In Colab\"/></a>"
      ]
    },
    {
      "cell_type": "code",
      "execution_count": 1,
      "metadata": {
        "id": "ejoGZZRKFArL"
      },
      "outputs": [],
      "source": [
        "import numpy as np\n",
        "import pandas as pd\n",
        "import os\n",
        "import pathlib"
      ]
    },
    {
      "cell_type": "markdown",
      "source": [
        "# Download and load fasttext model"
      ],
      "metadata": {
        "id": "y00CalXc-BpZ"
      }
    },
    {
      "cell_type": "code",
      "source": [
        "pip install fasttext"
      ],
      "metadata": {
        "colab": {
          "base_uri": "https://localhost:8080/"
        },
        "id": "tf43YSkE9eBC",
        "outputId": "fb4eb926-fe67-4beb-8482-29ae78cf168e"
      },
      "execution_count": 2,
      "outputs": [
        {
          "output_type": "stream",
          "name": "stdout",
          "text": [
            "Collecting fasttext\n",
            "  Downloading fasttext-0.9.2.tar.gz (68 kB)\n",
            "\u001b[?25l\r\u001b[K     |████▊                           | 10 kB 14.1 MB/s eta 0:00:01\r\u001b[K     |█████████▌                      | 20 kB 15.1 MB/s eta 0:00:01\r\u001b[K     |██████████████▎                 | 30 kB 10.4 MB/s eta 0:00:01\r\u001b[K     |███████████████████             | 40 kB 9.4 MB/s eta 0:00:01\r\u001b[K     |███████████████████████▉        | 51 kB 5.0 MB/s eta 0:00:01\r\u001b[K     |████████████████████████████▋   | 61 kB 5.8 MB/s eta 0:00:01\r\u001b[K     |████████████████████████████████| 68 kB 3.2 MB/s \n",
            "\u001b[?25hCollecting pybind11>=2.2\n",
            "  Using cached pybind11-2.9.2-py2.py3-none-any.whl (213 kB)\n",
            "Requirement already satisfied: setuptools>=0.7.0 in /usr/local/lib/python3.7/dist-packages (from fasttext) (57.4.0)\n",
            "Requirement already satisfied: numpy in /usr/local/lib/python3.7/dist-packages (from fasttext) (1.21.6)\n",
            "Building wheels for collected packages: fasttext\n",
            "  Building wheel for fasttext (setup.py) ... \u001b[?25l\u001b[?25hdone\n",
            "  Created wheel for fasttext: filename=fasttext-0.9.2-cp37-cp37m-linux_x86_64.whl size=3141315 sha256=2bfe54f8a14e6c8a8f5cff61f79584a8f3fe92ce1a161b32f6664021eed04460\n",
            "  Stored in directory: /root/.cache/pip/wheels/4e/ca/bf/b020d2be95f7641801a6597a29c8f4f19e38f9c02a345bab9b\n",
            "Successfully built fasttext\n",
            "Installing collected packages: pybind11, fasttext\n",
            "Successfully installed fasttext-0.9.2 pybind11-2.9.2\n"
          ]
        }
      ]
    },
    {
      "cell_type": "code",
      "source": [
        "import fasttext.util\n",
        "fasttext.util.download_model('en', if_exists='ignore')  # English\n",
        "ft = fasttext.load_model('cc.en.300.bin')"
      ],
      "metadata": {
        "colab": {
          "base_uri": "https://localhost:8080/"
        },
        "id": "XQEzuj699eDG",
        "outputId": "0afa3498-43a1-4484-e6ca-44676a1b2766"
      },
      "execution_count": 3,
      "outputs": [
        {
          "output_type": "stream",
          "name": "stdout",
          "text": [
            "Downloading https://dl.fbaipublicfiles.com/fasttext/vectors-crawl/cc.en.300.bin.gz\n",
            "\n"
          ]
        },
        {
          "output_type": "stream",
          "name": "stderr",
          "text": [
            "Warning : `load_model` does not return WordVectorModel or SupervisedModel any more, but a `FastText` object which is very similar.\n"
          ]
        }
      ]
    },
    {
      "cell_type": "code",
      "source": [
        "a = ft.get_word_vector(\"another\")\n",
        "# ft.get_word_vector(\"dkjeri37id20hnd\")"
      ],
      "metadata": {
        "id": "h7Uiq_MN9eFG"
      },
      "execution_count": 5,
      "outputs": []
    },
    {
      "cell_type": "markdown",
      "source": [
        "# Load the Tobaco dataset"
      ],
      "metadata": {
        "id": "X1BEg6-X-GDZ"
      }
    },
    {
      "cell_type": "code",
      "source": [
        "data_root = pathlib.Path('/content/drive/MyDrive/tobaco_OCR/')\n",
        "\n",
        "print(data_root)\n",
        "for item in data_root.iterdir():\n",
        "  print(item)"
      ],
      "metadata": {
        "colab": {
          "base_uri": "https://localhost:8080/"
        },
        "id": "Ulmix5uzJ6wL",
        "outputId": "0e32e8f9-5303-4fbb-b2fb-8e143171ead4"
      },
      "execution_count": 8,
      "outputs": [
        {
          "output_type": "stream",
          "name": "stdout",
          "text": [
            "/content/drive/MyDrive/tobaco_OCR\n",
            "/content/drive/MyDrive/tobaco_OCR/Resume\n",
            "/content/drive/MyDrive/tobaco_OCR/Memo\n",
            "/content/drive/MyDrive/tobaco_OCR/Letter\n",
            "/content/drive/MyDrive/tobaco_OCR/Report\n",
            "/content/drive/MyDrive/tobaco_OCR/Email\n",
            "/content/drive/MyDrive/tobaco_OCR/ADVE\n",
            "/content/drive/MyDrive/tobaco_OCR/News\n",
            "/content/drive/MyDrive/tobaco_OCR/Note\n",
            "/content/drive/MyDrive/tobaco_OCR/Form\n",
            "/content/drive/MyDrive/tobaco_OCR/Scientific\n"
          ]
        }
      ]
    },
    {
      "cell_type": "code",
      "source": [
        "def get_file_paths_and_labels(data_root):\n",
        "     text_paths = [str(path) for path in data_root.glob('*/*.txt')]\n",
        "     labels = [p.split(\"/\")[-2] for p in text_paths]\n",
        "     return text_paths, labels\n",
        "\n",
        "text_paths, labels = get_file_paths_and_labels(data_root)\n",
        "print(text_paths[1:3400:100])\n",
        "print(labels[1:3400:100])\n",
        "print(len(text_paths))\n",
        "print(len(labels))"
      ],
      "metadata": {
        "id": "yFa0ssSKFgEK",
        "colab": {
          "base_uri": "https://localhost:8080/"
        },
        "outputId": "3c47b5c1-8c64-4601-8b87-5cf363a96276"
      },
      "execution_count": 9,
      "outputs": [
        {
          "output_type": "stream",
          "name": "stdout",
          "text": [
            "['/content/drive/MyDrive/tobaco_OCR/Resume/50630631-0632.txt', '/content/drive/MyDrive/tobaco_OCR/Resume/40002609-2610.txt', '/content/drive/MyDrive/tobaco_OCR/Memo/0000168771.txt', '/content/drive/MyDrive/tobaco_OCR/Memo/1003723216_1003723218.txt', '/content/drive/MyDrive/tobaco_OCR/Memo/0000108319.txt', '/content/drive/MyDrive/tobaco_OCR/Memo/0013140948.txt', '/content/drive/MyDrive/tobaco_OCR/Memo/0000391492.txt', '/content/drive/MyDrive/tobaco_OCR/Memo/2022209162.txt', '/content/drive/MyDrive/tobaco_OCR/Letter/50166929-6929.txt', '/content/drive/MyDrive/tobaco_OCR/Letter/10021964.txt', '/content/drive/MyDrive/tobaco_OCR/Letter/ti16310640.txt', '/content/drive/MyDrive/tobaco_OCR/Letter/504789202_504789204.txt', '/content/drive/MyDrive/tobaco_OCR/Letter/ti03840086_0087.txt', '/content/drive/MyDrive/tobaco_OCR/Letter/94002714.txt', '/content/drive/MyDrive/tobaco_OCR/Report/510907182_510907183.txt', '/content/drive/MyDrive/tobaco_OCR/Report/515245506+-5506.txt', '/content/drive/MyDrive/tobaco_OCR/Email/531298458+-8472.txt', '/content/drive/MyDrive/tobaco_OCR/Email/2085764028a.txt', '/content/drive/MyDrive/tobaco_OCR/Email/2078851793.txt', '/content/drive/MyDrive/tobaco_OCR/Email/2070091787d.txt', '/content/drive/MyDrive/tobaco_OCR/Email/2085141399a.txt', '/content/drive/MyDrive/tobaco_OCR/Email/2078349619.txt', '/content/drive/MyDrive/tobaco_OCR/ADVE/503783036+-3036.txt', '/content/drive/MyDrive/tobaco_OCR/ADVE/71374678.txt', '/content/drive/MyDrive/tobaco_OCR/News/1003044581-a.txt', '/content/drive/MyDrive/tobaco_OCR/News/2025028644.txt', '/content/drive/MyDrive/tobaco_OCR/Note/2030053173.txt', '/content/drive/MyDrive/tobaco_OCR/Note/2021333139.txt', '/content/drive/MyDrive/tobaco_OCR/Form/89338038.txt', '/content/drive/MyDrive/tobaco_OCR/Form/2502293263.txt', '/content/drive/MyDrive/tobaco_OCR/Form/2077883186.txt', '/content/drive/MyDrive/tobaco_OCR/Form/2028880483.txt', '/content/drive/MyDrive/tobaco_OCR/Form/2082989787.txt', '/content/drive/MyDrive/tobaco_OCR/Scientific/502497872_502497879.txt']\n",
            "['Resume', 'Resume', 'Memo', 'Memo', 'Memo', 'Memo', 'Memo', 'Memo', 'Letter', 'Letter', 'Letter', 'Letter', 'Letter', 'Letter', 'Report', 'Report', 'Email', 'Email', 'Email', 'Email', 'Email', 'Email', 'ADVE', 'ADVE', 'News', 'News', 'Note', 'Note', 'Form', 'Form', 'Form', 'Form', 'Form', 'Scientific']\n",
            "3482\n",
            "3482\n"
          ]
        }
      ]
    },
    {
      "cell_type": "code",
      "source": [
        "def get_text_from_path(path):    \n",
        "    with open(path) as f:\n",
        "        lines = f.readlines()\n",
        "        lines  = ' '.join(lines)\n",
        "        f.close()\n",
        "    return lines"
      ],
      "metadata": {
        "id": "jLdJ6h4VK3oA"
      },
      "execution_count": 10,
      "outputs": []
    },
    {
      "cell_type": "code",
      "source": [
        "texts = []\n",
        "c = 0\n",
        "for this_path in text_paths:\n",
        "    texts.append(get_text_from_path(this_path))\n",
        "    print(c, end= \" \")\n",
        "    c += 1"
      ],
      "metadata": {
        "colab": {
          "base_uri": "https://localhost:8080/"
        },
        "id": "m27uk-sPNRHZ",
        "outputId": "45a2421f-82fc-4cfb-83e9-0e94a0846c19"
      },
      "execution_count": 11,
      "outputs": [
        {
          "output_type": "stream",
          "name": "stdout",
          "text": [
            "0 1 2 3 4 5 6 7 8 9 10 11 12 13 14 15 16 17 18 19 20 21 22 23 24 25 26 27 28 29 30 31 32 33 34 35 36 37 38 39 40 41 42 43 44 45 46 47 48 49 50 51 52 53 54 55 56 57 58 59 60 61 62 63 64 65 66 67 68 69 70 71 72 73 74 75 76 77 78 79 80 81 82 83 84 85 86 87 88 89 90 91 92 93 94 95 96 97 98 99 100 101 102 103 104 105 106 107 108 109 110 111 112 113 114 115 116 117 118 119 120 121 122 123 124 125 126 127 128 129 130 131 132 133 134 135 136 137 138 139 140 141 142 143 144 145 146 147 148 149 150 151 152 153 154 155 156 157 158 159 160 161 162 163 164 165 166 167 168 169 170 171 172 173 174 175 176 177 178 179 180 181 182 183 184 185 186 187 188 189 190 191 192 193 194 195 196 197 198 199 200 201 202 203 204 205 206 207 208 209 210 211 212 213 214 215 216 217 218 219 220 221 222 223 224 225 226 227 228 229 230 231 232 233 234 235 236 237 238 239 240 241 242 243 244 245 246 247 248 249 250 251 252 253 254 255 256 257 258 259 260 261 262 263 264 265 266 267 268 269 270 271 272 273 274 275 276 277 278 279 280 281 282 283 284 285 286 287 288 289 290 291 292 293 294 295 296 297 298 299 300 301 302 303 304 305 306 307 308 309 310 311 312 313 314 315 316 317 318 319 320 321 322 323 324 325 326 327 328 329 330 331 332 333 334 335 336 337 338 339 340 341 342 343 344 345 346 347 348 349 350 351 352 353 354 355 356 357 358 359 360 361 362 363 364 365 366 367 368 369 370 371 372 373 374 375 376 377 378 379 380 381 382 383 384 385 386 387 388 389 390 391 392 393 394 395 396 397 398 399 400 401 402 403 404 405 406 407 408 409 410 411 412 413 414 415 416 417 418 419 420 421 422 423 424 425 426 427 428 429 430 431 432 433 434 435 436 437 438 439 440 441 442 443 444 445 446 447 448 449 450 451 452 453 454 455 456 457 458 459 460 461 462 463 464 465 466 467 468 469 470 471 472 473 474 475 476 477 478 479 480 481 482 483 484 485 486 487 488 489 490 491 492 493 494 495 496 497 498 499 500 501 502 503 504 505 506 507 508 509 510 511 512 513 514 515 516 517 518 519 520 521 522 523 524 525 526 527 528 529 530 531 532 533 534 535 536 537 538 539 540 541 542 543 544 545 546 547 548 549 550 551 552 553 554 555 556 557 558 559 560 561 562 563 564 565 566 567 568 569 570 571 572 573 574 575 576 577 578 579 580 581 582 583 584 585 586 587 588 589 590 591 592 593 594 595 596 597 598 599 600 601 602 603 604 605 606 607 608 609 610 611 612 613 614 615 616 617 618 619 620 621 622 623 624 625 626 627 628 629 630 631 632 633 634 635 636 637 638 639 640 641 642 643 644 645 646 647 648 649 650 651 652 653 654 655 656 657 658 659 660 661 662 663 664 665 666 667 668 669 670 671 672 673 674 675 676 677 678 679 680 681 682 683 684 685 686 687 688 689 690 691 692 693 694 695 696 697 698 699 700 701 702 703 704 705 706 707 708 709 710 711 712 713 714 715 716 717 718 719 720 721 722 723 724 725 726 727 728 729 730 731 732 733 734 735 736 737 738 739 740 741 742 743 744 745 746 747 748 749 750 751 752 753 754 755 756 757 758 759 760 761 762 763 764 765 766 767 768 769 770 771 772 773 774 775 776 777 778 779 780 781 782 783 784 785 786 787 788 789 790 791 792 793 794 795 796 797 798 799 800 801 802 803 804 805 806 807 808 809 810 811 812 813 814 815 816 817 818 819 820 821 822 823 824 825 826 827 828 829 830 831 832 833 834 835 836 837 838 839 840 841 842 843 844 845 846 847 848 849 850 851 852 853 854 855 856 857 858 859 860 861 862 863 864 865 866 867 868 869 870 871 872 873 874 875 876 877 878 879 880 881 882 883 884 885 886 887 888 889 890 891 892 893 894 895 896 897 898 899 900 901 902 903 904 905 906 907 908 909 910 911 912 913 914 915 916 917 918 919 920 921 922 923 924 925 926 927 928 929 930 931 932 933 934 935 936 937 938 939 940 941 942 943 944 945 946 947 948 949 950 951 952 953 954 955 956 957 958 959 960 961 962 963 964 965 966 967 968 969 970 971 972 973 974 975 976 977 978 979 980 981 982 983 984 985 986 987 988 989 990 991 992 993 994 995 996 997 998 999 1000 1001 1002 1003 1004 1005 1006 1007 1008 1009 1010 1011 1012 1013 1014 1015 1016 1017 1018 1019 1020 1021 1022 1023 1024 1025 1026 1027 1028 1029 1030 1031 1032 1033 1034 1035 1036 1037 1038 1039 1040 1041 1042 1043 1044 1045 1046 1047 1048 1049 1050 1051 1052 1053 1054 1055 1056 1057 1058 1059 1060 1061 1062 1063 1064 1065 1066 1067 1068 1069 1070 1071 1072 1073 1074 1075 1076 1077 1078 1079 1080 1081 1082 1083 1084 1085 1086 1087 1088 1089 1090 1091 1092 1093 1094 1095 1096 1097 1098 1099 1100 1101 1102 1103 1104 1105 1106 1107 1108 1109 1110 1111 1112 1113 1114 1115 1116 1117 1118 1119 1120 1121 1122 1123 1124 1125 1126 1127 1128 1129 1130 1131 1132 1133 1134 1135 1136 1137 1138 1139 1140 1141 1142 1143 1144 1145 1146 1147 1148 1149 1150 1151 1152 1153 1154 1155 1156 1157 1158 1159 1160 1161 1162 1163 1164 1165 1166 1167 1168 1169 1170 1171 1172 1173 1174 1175 1176 1177 1178 1179 1180 1181 1182 1183 1184 1185 1186 1187 1188 1189 1190 1191 1192 1193 1194 1195 1196 1197 1198 1199 1200 1201 1202 1203 1204 1205 1206 1207 1208 1209 1210 1211 1212 1213 1214 1215 1216 1217 1218 1219 1220 1221 1222 1223 1224 1225 1226 1227 1228 1229 1230 1231 1232 1233 1234 1235 1236 1237 1238 1239 1240 1241 1242 1243 1244 1245 1246 1247 1248 1249 1250 1251 1252 1253 1254 1255 1256 1257 1258 1259 1260 1261 1262 1263 1264 1265 1266 1267 1268 1269 1270 1271 1272 1273 1274 1275 1276 1277 1278 1279 1280 1281 1282 1283 1284 1285 1286 1287 1288 1289 1290 1291 1292 1293 1294 1295 1296 1297 1298 1299 1300 1301 1302 1303 1304 1305 1306 1307 1308 1309 1310 1311 1312 1313 1314 1315 1316 1317 1318 1319 1320 1321 1322 1323 1324 1325 1326 1327 1328 1329 1330 1331 1332 1333 1334 1335 1336 1337 1338 1339 1340 1341 1342 1343 1344 1345 1346 1347 1348 1349 1350 1351 1352 1353 1354 1355 1356 1357 1358 1359 1360 1361 1362 1363 1364 1365 1366 1367 1368 1369 1370 1371 1372 1373 1374 1375 1376 1377 1378 1379 1380 1381 1382 1383 1384 1385 1386 1387 1388 1389 1390 1391 1392 1393 1394 1395 1396 1397 1398 1399 1400 1401 1402 1403 1404 1405 1406 1407 1408 1409 1410 1411 1412 1413 1414 1415 1416 1417 1418 1419 1420 1421 1422 1423 1424 1425 1426 1427 1428 1429 1430 1431 1432 1433 1434 1435 1436 1437 1438 1439 1440 1441 1442 1443 1444 1445 1446 1447 1448 1449 1450 1451 1452 1453 1454 1455 1456 1457 1458 1459 1460 1461 1462 1463 1464 1465 1466 1467 1468 1469 1470 1471 1472 1473 1474 1475 1476 1477 1478 1479 1480 1481 1482 1483 1484 1485 1486 1487 1488 1489 1490 1491 1492 1493 1494 1495 1496 1497 1498 1499 1500 1501 1502 1503 1504 1505 1506 1507 1508 1509 1510 1511 1512 1513 1514 1515 1516 1517 1518 1519 1520 1521 1522 1523 1524 1525 1526 1527 1528 1529 1530 1531 1532 1533 1534 1535 1536 1537 1538 1539 1540 1541 1542 1543 1544 1545 1546 1547 1548 1549 1550 1551 1552 1553 1554 1555 1556 1557 1558 1559 1560 1561 1562 1563 1564 1565 1566 1567 1568 1569 1570 1571 1572 1573 1574 1575 1576 1577 1578 1579 1580 1581 1582 1583 1584 1585 1586 1587 1588 1589 1590 1591 1592 1593 1594 1595 1596 1597 1598 1599 1600 1601 1602 1603 1604 1605 1606 1607 1608 1609 1610 1611 1612 1613 1614 1615 1616 1617 1618 1619 1620 1621 1622 1623 1624 1625 1626 1627 1628 1629 1630 1631 1632 1633 1634 1635 1636 1637 1638 1639 1640 1641 1642 1643 1644 1645 1646 1647 1648 1649 1650 1651 1652 1653 1654 1655 1656 1657 1658 1659 1660 1661 1662 1663 1664 1665 1666 1667 1668 1669 1670 1671 1672 1673 1674 1675 1676 1677 1678 1679 1680 1681 1682 1683 1684 1685 1686 1687 1688 1689 1690 1691 1692 1693 1694 1695 1696 1697 1698 1699 1700 1701 1702 1703 1704 1705 1706 1707 1708 1709 1710 1711 1712 1713 1714 1715 1716 1717 1718 1719 1720 1721 1722 1723 1724 1725 1726 1727 1728 1729 1730 1731 1732 1733 1734 1735 1736 1737 1738 1739 1740 1741 1742 1743 1744 1745 1746 1747 1748 1749 1750 1751 1752 1753 1754 1755 1756 1757 1758 1759 1760 1761 1762 1763 1764 1765 1766 1767 1768 1769 1770 1771 1772 1773 1774 1775 1776 1777 1778 1779 1780 1781 1782 1783 1784 1785 1786 1787 1788 1789 1790 1791 1792 1793 1794 1795 1796 1797 1798 1799 1800 1801 1802 1803 1804 1805 1806 1807 1808 1809 1810 1811 1812 1813 1814 1815 1816 1817 1818 1819 1820 1821 1822 1823 1824 1825 1826 1827 1828 1829 1830 1831 1832 1833 1834 1835 1836 1837 1838 1839 1840 1841 1842 1843 1844 1845 1846 1847 1848 1849 1850 1851 1852 1853 1854 1855 1856 1857 1858 1859 1860 1861 1862 1863 1864 1865 1866 1867 1868 1869 1870 1871 1872 1873 1874 1875 1876 1877 1878 1879 1880 1881 1882 1883 1884 1885 1886 1887 1888 1889 1890 1891 1892 1893 1894 1895 1896 1897 1898 1899 1900 1901 1902 1903 1904 1905 1906 1907 1908 1909 1910 1911 1912 1913 1914 1915 1916 1917 1918 1919 1920 1921 1922 1923 1924 1925 1926 1927 1928 1929 1930 1931 1932 1933 1934 1935 1936 1937 1938 1939 1940 1941 1942 1943 1944 1945 1946 1947 1948 1949 1950 1951 1952 1953 1954 1955 1956 1957 1958 1959 1960 1961 1962 1963 1964 1965 1966 1967 1968 1969 1970 1971 1972 1973 1974 1975 1976 1977 1978 1979 1980 1981 1982 1983 1984 1985 1986 1987 1988 1989 1990 1991 1992 1993 1994 1995 1996 1997 1998 1999 2000 2001 2002 2003 2004 2005 2006 2007 2008 2009 2010 2011 2012 2013 2014 2015 2016 2017 2018 2019 2020 2021 2022 2023 2024 2025 2026 2027 2028 2029 2030 2031 2032 2033 2034 2035 2036 2037 2038 2039 2040 2041 2042 2043 2044 2045 2046 2047 2048 2049 2050 2051 2052 2053 2054 2055 2056 2057 2058 2059 2060 2061 2062 2063 2064 2065 2066 2067 2068 2069 2070 2071 2072 2073 2074 2075 2076 2077 2078 2079 2080 2081 2082 2083 2084 2085 2086 2087 2088 2089 2090 2091 2092 2093 2094 2095 2096 2097 2098 2099 2100 2101 2102 2103 2104 2105 2106 2107 2108 2109 2110 2111 2112 2113 2114 2115 2116 2117 2118 2119 2120 2121 2122 2123 2124 2125 2126 2127 2128 2129 2130 2131 2132 2133 2134 2135 2136 2137 2138 2139 2140 2141 2142 2143 2144 2145 2146 2147 2148 2149 2150 2151 2152 2153 2154 2155 2156 2157 2158 2159 2160 2161 2162 2163 2164 2165 2166 2167 2168 2169 2170 2171 2172 2173 2174 2175 2176 2177 2178 2179 2180 2181 2182 2183 2184 2185 2186 2187 2188 2189 2190 2191 2192 2193 2194 2195 2196 2197 2198 2199 2200 2201 2202 2203 2204 2205 2206 2207 2208 2209 2210 2211 2212 2213 2214 2215 2216 2217 2218 2219 2220 2221 2222 2223 2224 2225 2226 2227 2228 2229 2230 2231 2232 2233 2234 2235 2236 2237 2238 2239 2240 2241 2242 2243 2244 2245 2246 2247 2248 2249 2250 2251 2252 2253 2254 2255 2256 2257 2258 2259 2260 2261 2262 2263 2264 2265 2266 2267 2268 2269 2270 2271 2272 2273 2274 2275 2276 2277 2278 2279 2280 2281 2282 2283 2284 2285 2286 2287 2288 2289 2290 2291 2292 2293 2294 2295 2296 2297 2298 2299 2300 2301 2302 2303 2304 2305 2306 2307 2308 2309 2310 2311 2312 2313 2314 2315 2316 2317 2318 2319 2320 2321 2322 2323 2324 2325 2326 2327 2328 2329 2330 2331 2332 2333 2334 2335 2336 2337 2338 2339 2340 2341 2342 2343 2344 2345 2346 2347 2348 2349 2350 2351 2352 2353 2354 2355 2356 2357 2358 2359 2360 2361 2362 2363 2364 2365 2366 2367 2368 2369 2370 2371 2372 2373 2374 2375 2376 2377 2378 2379 2380 2381 2382 2383 2384 2385 2386 2387 2388 2389 2390 2391 2392 2393 2394 2395 2396 2397 2398 2399 2400 2401 2402 2403 2404 2405 2406 2407 2408 2409 2410 2411 2412 2413 2414 2415 2416 2417 2418 2419 2420 2421 2422 2423 2424 2425 2426 2427 2428 2429 2430 2431 2432 2433 2434 2435 2436 2437 2438 2439 2440 2441 2442 2443 2444 2445 2446 2447 2448 2449 2450 2451 2452 2453 2454 2455 2456 2457 2458 2459 2460 2461 2462 2463 2464 2465 2466 2467 2468 2469 2470 2471 2472 2473 2474 2475 2476 2477 2478 2479 2480 2481 2482 2483 2484 2485 2486 2487 2488 2489 2490 2491 2492 2493 2494 2495 2496 2497 2498 2499 2500 2501 2502 2503 2504 2505 2506 2507 2508 2509 2510 2511 2512 2513 2514 2515 2516 2517 2518 2519 2520 2521 2522 2523 2524 2525 2526 2527 2528 2529 2530 2531 2532 2533 2534 2535 2536 2537 2538 2539 2540 2541 2542 2543 2544 2545 2546 2547 2548 2549 2550 2551 2552 2553 2554 2555 2556 2557 2558 2559 2560 2561 2562 2563 2564 2565 2566 2567 2568 2569 2570 2571 2572 2573 2574 2575 2576 2577 2578 2579 2580 2581 2582 2583 2584 2585 2586 2587 2588 2589 2590 2591 2592 2593 2594 2595 2596 2597 2598 2599 2600 2601 2602 2603 2604 2605 2606 2607 2608 2609 2610 2611 2612 2613 2614 2615 2616 2617 2618 2619 2620 2621 2622 2623 2624 2625 2626 2627 2628 2629 2630 2631 2632 2633 2634 2635 2636 2637 2638 2639 2640 2641 2642 2643 2644 2645 2646 2647 2648 2649 2650 2651 2652 2653 2654 2655 2656 2657 2658 2659 2660 2661 2662 2663 2664 2665 2666 2667 2668 2669 2670 2671 2672 2673 2674 2675 2676 2677 2678 2679 2680 2681 2682 2683 2684 2685 2686 2687 2688 2689 2690 2691 2692 2693 2694 2695 2696 2697 2698 2699 2700 2701 2702 2703 2704 2705 2706 2707 2708 2709 2710 2711 2712 2713 2714 2715 2716 2717 2718 2719 2720 2721 2722 2723 2724 2725 2726 2727 2728 2729 2730 2731 2732 2733 2734 2735 2736 2737 2738 2739 2740 2741 2742 2743 2744 2745 2746 2747 2748 2749 2750 2751 2752 2753 2754 2755 2756 2757 2758 2759 2760 2761 2762 2763 2764 2765 2766 2767 2768 2769 2770 2771 2772 2773 2774 2775 2776 2777 2778 2779 2780 2781 2782 2783 2784 2785 2786 2787 2788 2789 2790 2791 2792 2793 2794 2795 2796 2797 2798 2799 2800 2801 2802 2803 2804 2805 2806 2807 2808 2809 2810 2811 2812 2813 2814 2815 2816 2817 2818 2819 2820 2821 2822 2823 2824 2825 2826 2827 2828 2829 2830 2831 2832 2833 2834 2835 2836 2837 2838 2839 2840 2841 2842 2843 2844 2845 2846 2847 2848 2849 2850 2851 2852 2853 2854 2855 2856 2857 2858 2859 2860 2861 2862 2863 2864 2865 2866 2867 2868 2869 2870 2871 2872 2873 2874 2875 2876 2877 2878 2879 2880 2881 2882 2883 2884 2885 2886 2887 2888 2889 2890 2891 2892 2893 2894 2895 2896 2897 2898 2899 2900 2901 2902 2903 2904 2905 2906 2907 2908 2909 2910 2911 2912 2913 2914 2915 2916 2917 2918 2919 2920 2921 2922 2923 2924 2925 2926 2927 2928 2929 2930 2931 2932 2933 2934 2935 2936 2937 2938 2939 2940 2941 2942 2943 2944 2945 2946 2947 2948 2949 2950 2951 2952 2953 2954 2955 2956 2957 2958 2959 2960 2961 2962 2963 2964 2965 2966 2967 2968 2969 2970 2971 2972 2973 2974 2975 2976 2977 2978 2979 2980 2981 2982 2983 2984 2985 2986 2987 2988 2989 2990 2991 2992 2993 2994 2995 2996 2997 2998 2999 3000 3001 3002 3003 3004 3005 3006 3007 3008 3009 3010 3011 3012 3013 3014 3015 3016 3017 3018 3019 3020 3021 3022 3023 3024 3025 3026 3027 3028 3029 3030 3031 3032 3033 3034 3035 3036 3037 3038 3039 3040 3041 3042 3043 3044 3045 3046 3047 3048 3049 3050 3051 3052 3053 3054 3055 3056 3057 3058 3059 3060 3061 3062 3063 3064 3065 3066 3067 3068 3069 3070 3071 3072 3073 3074 3075 3076 3077 3078 3079 3080 3081 3082 3083 3084 3085 3086 3087 3088 3089 3090 3091 3092 3093 3094 3095 3096 3097 3098 3099 3100 3101 3102 3103 3104 3105 3106 3107 3108 3109 3110 3111 3112 3113 3114 3115 3116 3117 3118 3119 3120 3121 3122 3123 3124 3125 3126 3127 3128 3129 3130 3131 3132 3133 3134 3135 3136 3137 3138 3139 3140 3141 3142 3143 3144 3145 3146 3147 3148 3149 3150 3151 3152 3153 3154 3155 3156 3157 3158 3159 3160 3161 3162 3163 3164 3165 3166 3167 3168 3169 3170 3171 3172 3173 3174 3175 3176 3177 3178 3179 3180 3181 3182 3183 3184 3185 3186 3187 3188 3189 3190 3191 3192 3193 3194 3195 3196 3197 3198 3199 3200 3201 3202 3203 3204 3205 3206 3207 3208 3209 3210 3211 3212 3213 3214 3215 3216 3217 3218 3219 3220 3221 3222 3223 3224 3225 3226 3227 3228 3229 3230 3231 3232 3233 3234 3235 3236 3237 3238 3239 3240 3241 3242 3243 3244 3245 3246 3247 3248 3249 3250 3251 3252 3253 3254 3255 3256 3257 3258 3259 3260 3261 3262 3263 3264 3265 3266 3267 3268 3269 3270 3271 3272 3273 3274 3275 3276 3277 3278 3279 3280 3281 3282 3283 3284 3285 3286 3287 3288 3289 3290 3291 3292 3293 3294 3295 3296 3297 3298 3299 3300 3301 3302 3303 3304 3305 3306 3307 3308 3309 3310 3311 3312 3313 3314 3315 3316 3317 3318 3319 3320 3321 3322 3323 3324 3325 3326 3327 3328 3329 3330 3331 3332 3333 3334 3335 3336 3337 3338 3339 3340 3341 3342 3343 3344 3345 3346 3347 3348 3349 3350 3351 3352 3353 3354 3355 3356 3357 3358 3359 3360 3361 3362 3363 3364 3365 3366 3367 3368 3369 3370 3371 3372 3373 3374 3375 3376 3377 3378 3379 3380 3381 3382 3383 3384 3385 3386 3387 3388 3389 3390 3391 3392 3393 3394 3395 3396 3397 3398 3399 3400 3401 3402 3403 3404 3405 3406 3407 3408 3409 3410 3411 3412 3413 3414 3415 3416 3417 3418 3419 3420 3421 3422 3423 3424 3425 3426 3427 3428 3429 3430 3431 3432 3433 3434 3435 3436 3437 3438 3439 3440 3441 3442 3443 3444 3445 3446 3447 3448 3449 3450 3451 3452 3453 3454 3455 3456 3457 3458 3459 3460 3461 3462 3463 3464 3465 3466 3467 3468 3469 3470 3471 3472 3473 3474 3475 3476 3477 3478 3479 3480 3481 "
          ]
        }
      ]
    },
    {
      "cell_type": "code",
      "source": [
        "df = pd.DataFrame(list(zip(text_paths, texts, labels)),\n",
        "               columns =['text_path', 'texts', 'data_label'])\n",
        "df.head()"
      ],
      "metadata": {
        "colab": {
          "base_uri": "https://localhost:8080/",
          "height": 206
        },
        "id": "5h4AM27PRWI2",
        "outputId": "400e5e67-8ee3-406e-924e-8c1a074263c8"
      },
      "execution_count": 12,
      "outputs": [
        {
          "output_type": "execute_result",
          "data": {
            "text/plain": [
              "                                           text_path  \\\n",
              "0  /content/drive/MyDrive/tobaco_OCR/Resume/50521...   \n",
              "1  /content/drive/MyDrive/tobaco_OCR/Resume/50630...   \n",
              "2  /content/drive/MyDrive/tobaco_OCR/Resume/40028...   \n",
              "3  /content/drive/MyDrive/tobaco_OCR/Resume/10150...   \n",
              "4  /content/drive/MyDrive/tobaco_OCR/Resume/50538...   \n",
              "\n",
              "                                               texts data_label  \n",
              "0  \\n \\n \\n \\n \\n \\n \\n \\n \\n \\n \\n \\n \\n \\n CURR...     Resume  \n",
              "1  FF Principal investigator/Program Director (La...     Resume  \n",
              "2  Name:\\n Address:\\n Date of Birth:\\n Place of B...     Resume  \n",
              "3  \\n _ UNIVERSITY OF MIAMI\\n CURRICULUM VITAE\\n ...     Resume  \n",
              "4  BIOGRAPHICAL SKETCH\\n Provide the following in...     Resume  "
            ],
            "text/html": [
              "\n",
              "  <div id=\"df-21e7b778-75bf-4a64-a378-96f891ade5c4\">\n",
              "    <div class=\"colab-df-container\">\n",
              "      <div>\n",
              "<style scoped>\n",
              "    .dataframe tbody tr th:only-of-type {\n",
              "        vertical-align: middle;\n",
              "    }\n",
              "\n",
              "    .dataframe tbody tr th {\n",
              "        vertical-align: top;\n",
              "    }\n",
              "\n",
              "    .dataframe thead th {\n",
              "        text-align: right;\n",
              "    }\n",
              "</style>\n",
              "<table border=\"1\" class=\"dataframe\">\n",
              "  <thead>\n",
              "    <tr style=\"text-align: right;\">\n",
              "      <th></th>\n",
              "      <th>text_path</th>\n",
              "      <th>texts</th>\n",
              "      <th>data_label</th>\n",
              "    </tr>\n",
              "  </thead>\n",
              "  <tbody>\n",
              "    <tr>\n",
              "      <th>0</th>\n",
              "      <td>/content/drive/MyDrive/tobaco_OCR/Resume/50521...</td>\n",
              "      <td>\\n \\n \\n \\n \\n \\n \\n \\n \\n \\n \\n \\n \\n \\n CURR...</td>\n",
              "      <td>Resume</td>\n",
              "    </tr>\n",
              "    <tr>\n",
              "      <th>1</th>\n",
              "      <td>/content/drive/MyDrive/tobaco_OCR/Resume/50630...</td>\n",
              "      <td>FF Principal investigator/Program Director (La...</td>\n",
              "      <td>Resume</td>\n",
              "    </tr>\n",
              "    <tr>\n",
              "      <th>2</th>\n",
              "      <td>/content/drive/MyDrive/tobaco_OCR/Resume/40028...</td>\n",
              "      <td>Name:\\n Address:\\n Date of Birth:\\n Place of B...</td>\n",
              "      <td>Resume</td>\n",
              "    </tr>\n",
              "    <tr>\n",
              "      <th>3</th>\n",
              "      <td>/content/drive/MyDrive/tobaco_OCR/Resume/10150...</td>\n",
              "      <td>\\n _ UNIVERSITY OF MIAMI\\n CURRICULUM VITAE\\n ...</td>\n",
              "      <td>Resume</td>\n",
              "    </tr>\n",
              "    <tr>\n",
              "      <th>4</th>\n",
              "      <td>/content/drive/MyDrive/tobaco_OCR/Resume/50538...</td>\n",
              "      <td>BIOGRAPHICAL SKETCH\\n Provide the following in...</td>\n",
              "      <td>Resume</td>\n",
              "    </tr>\n",
              "  </tbody>\n",
              "</table>\n",
              "</div>\n",
              "      <button class=\"colab-df-convert\" onclick=\"convertToInteractive('df-21e7b778-75bf-4a64-a378-96f891ade5c4')\"\n",
              "              title=\"Convert this dataframe to an interactive table.\"\n",
              "              style=\"display:none;\">\n",
              "        \n",
              "  <svg xmlns=\"http://www.w3.org/2000/svg\" height=\"24px\"viewBox=\"0 0 24 24\"\n",
              "       width=\"24px\">\n",
              "    <path d=\"M0 0h24v24H0V0z\" fill=\"none\"/>\n",
              "    <path d=\"M18.56 5.44l.94 2.06.94-2.06 2.06-.94-2.06-.94-.94-2.06-.94 2.06-2.06.94zm-11 1L8.5 8.5l.94-2.06 2.06-.94-2.06-.94L8.5 2.5l-.94 2.06-2.06.94zm10 10l.94 2.06.94-2.06 2.06-.94-2.06-.94-.94-2.06-.94 2.06-2.06.94z\"/><path d=\"M17.41 7.96l-1.37-1.37c-.4-.4-.92-.59-1.43-.59-.52 0-1.04.2-1.43.59L10.3 9.45l-7.72 7.72c-.78.78-.78 2.05 0 2.83L4 21.41c.39.39.9.59 1.41.59.51 0 1.02-.2 1.41-.59l7.78-7.78 2.81-2.81c.8-.78.8-2.07 0-2.86zM5.41 20L4 18.59l7.72-7.72 1.47 1.35L5.41 20z\"/>\n",
              "  </svg>\n",
              "      </button>\n",
              "      \n",
              "  <style>\n",
              "    .colab-df-container {\n",
              "      display:flex;\n",
              "      flex-wrap:wrap;\n",
              "      gap: 12px;\n",
              "    }\n",
              "\n",
              "    .colab-df-convert {\n",
              "      background-color: #E8F0FE;\n",
              "      border: none;\n",
              "      border-radius: 50%;\n",
              "      cursor: pointer;\n",
              "      display: none;\n",
              "      fill: #1967D2;\n",
              "      height: 32px;\n",
              "      padding: 0 0 0 0;\n",
              "      width: 32px;\n",
              "    }\n",
              "\n",
              "    .colab-df-convert:hover {\n",
              "      background-color: #E2EBFA;\n",
              "      box-shadow: 0px 1px 2px rgba(60, 64, 67, 0.3), 0px 1px 3px 1px rgba(60, 64, 67, 0.15);\n",
              "      fill: #174EA6;\n",
              "    }\n",
              "\n",
              "    [theme=dark] .colab-df-convert {\n",
              "      background-color: #3B4455;\n",
              "      fill: #D2E3FC;\n",
              "    }\n",
              "\n",
              "    [theme=dark] .colab-df-convert:hover {\n",
              "      background-color: #434B5C;\n",
              "      box-shadow: 0px 1px 3px 1px rgba(0, 0, 0, 0.15);\n",
              "      filter: drop-shadow(0px 1px 2px rgba(0, 0, 0, 0.3));\n",
              "      fill: #FFFFFF;\n",
              "    }\n",
              "  </style>\n",
              "\n",
              "      <script>\n",
              "        const buttonEl =\n",
              "          document.querySelector('#df-21e7b778-75bf-4a64-a378-96f891ade5c4 button.colab-df-convert');\n",
              "        buttonEl.style.display =\n",
              "          google.colab.kernel.accessAllowed ? 'block' : 'none';\n",
              "\n",
              "        async function convertToInteractive(key) {\n",
              "          const element = document.querySelector('#df-21e7b778-75bf-4a64-a378-96f891ade5c4');\n",
              "          const dataTable =\n",
              "            await google.colab.kernel.invokeFunction('convertToInteractive',\n",
              "                                                     [key], {});\n",
              "          if (!dataTable) return;\n",
              "\n",
              "          const docLinkHtml = 'Like what you see? Visit the ' +\n",
              "            '<a target=\"_blank\" href=https://colab.research.google.com/notebooks/data_table.ipynb>data table notebook</a>'\n",
              "            + ' to learn more about interactive tables.';\n",
              "          element.innerHTML = '';\n",
              "          dataTable['output_type'] = 'display_data';\n",
              "          await google.colab.output.renderOutput(dataTable, element);\n",
              "          const docLink = document.createElement('div');\n",
              "          docLink.innerHTML = docLinkHtml;\n",
              "          element.appendChild(docLink);\n",
              "        }\n",
              "      </script>\n",
              "    </div>\n",
              "  </div>\n",
              "  "
            ]
          },
          "metadata": {},
          "execution_count": 12
        }
      ]
    },
    {
      "cell_type": "markdown",
      "source": [
        "# Text Preprocessing and spacy"
      ],
      "metadata": {
        "id": "tQLCqtvGNxNY"
      }
    },
    {
      "cell_type": "code",
      "source": [
        "import re\n",
        "def remove_punctuations(input_str):\n",
        "    preprocessed_string = re.sub(r'[^\\w\\s]','', input_str)\n",
        "    preprocessed_string = preprocessed_string.replace('\\n',' ')\n",
        "    preprocessed_string = re.sub('_', ' ', preprocessed_string)\n",
        "    preprocessed_string = re.sub(' +', ' ', preprocessed_string)\n",
        "    return preprocessed_string\n"
      ],
      "metadata": {
        "id": "O90R-3vvCrY6"
      },
      "execution_count": 14,
      "outputs": []
    },
    {
      "cell_type": "code",
      "source": [
        "## Tokenize, Lemmatize, stopwords removal\n",
        "import spacy \n",
        "import nltk\n",
        "nlp = spacy.load(\"en\", disable=['parser', 'tagger', 'ner'])\n",
        "from nltk.corpus import stopwords\n",
        "nltk.download('stopwords')\n",
        "stops = stopwords.words(\"english\")\n",
        "\n",
        "def normalize(comment, lowercase, remove_stopwords):\n",
        "    if lowercase:\n",
        "        comment = comment.lower()\n",
        "    comment = nlp(comment)\n",
        "    lemmatized = list()\n",
        "    for word in comment:\n",
        "        lemma = word.lemma_.strip()\n",
        "        if lemma:\n",
        "            if not remove_stopwords or (remove_stopwords and lemma not in stops):\n",
        "                lemmatized.append(lemma)\n",
        "    return \" \".join(lemmatized)\n",
        "\n",
        "normalize(\"counting playing the Home\", lowercase=True, remove_stopwords=True) "
      ],
      "metadata": {
        "colab": {
          "base_uri": "https://localhost:8080/",
          "height": 70
        },
        "id": "vR30wSq68Di8",
        "outputId": "90f22aad-9e01-456f-9d68-4c4dee353543"
      },
      "execution_count": 15,
      "outputs": [
        {
          "output_type": "stream",
          "name": "stdout",
          "text": [
            "[nltk_data] Downloading package stopwords to /root/nltk_data...\n",
            "[nltk_data]   Unzipping corpora/stopwords.zip.\n"
          ]
        },
        {
          "output_type": "execute_result",
          "data": {
            "text/plain": [
              "'count play home'"
            ],
            "application/vnd.google.colaboratory.intrinsic+json": {
              "type": "string"
            }
          },
          "metadata": {},
          "execution_count": 15
        }
      ]
    },
    {
      "cell_type": "code",
      "source": [
        "df['texts'] = [remove_punctuations(i) for i in df['texts']]\n",
        "df.head()"
      ],
      "metadata": {
        "colab": {
          "base_uri": "https://localhost:8080/",
          "height": 206
        },
        "id": "QNV0grylE14s",
        "outputId": "f43e270a-f0be-4c90-ba91-1124f27c9720"
      },
      "execution_count": 16,
      "outputs": [
        {
          "output_type": "execute_result",
          "data": {
            "text/plain": [
              "                                           text_path  \\\n",
              "0  /content/drive/MyDrive/tobaco_OCR/Resume/50521...   \n",
              "1  /content/drive/MyDrive/tobaco_OCR/Resume/50630...   \n",
              "2  /content/drive/MyDrive/tobaco_OCR/Resume/40028...   \n",
              "3  /content/drive/MyDrive/tobaco_OCR/Resume/10150...   \n",
              "4  /content/drive/MyDrive/tobaco_OCR/Resume/50538...   \n",
              "\n",
              "                                               texts data_label  \n",
              "0   CURRICULUM VITAE Collaborating Investigator P...     Resume  \n",
              "1  FF Principal investigatorProgram Director Last...     Resume  \n",
              "2  Name Address Date of Birth Place of Birth Educ...     Resume  \n",
              "3   UNIVERSITY OF MIAMI CURRICULUM VITAE Standard...     Resume  \n",
              "4  BIOGRAPHICAL SKETCH Provide the following info...     Resume  "
            ],
            "text/html": [
              "\n",
              "  <div id=\"df-543f168e-ab91-4565-a49d-024493652192\">\n",
              "    <div class=\"colab-df-container\">\n",
              "      <div>\n",
              "<style scoped>\n",
              "    .dataframe tbody tr th:only-of-type {\n",
              "        vertical-align: middle;\n",
              "    }\n",
              "\n",
              "    .dataframe tbody tr th {\n",
              "        vertical-align: top;\n",
              "    }\n",
              "\n",
              "    .dataframe thead th {\n",
              "        text-align: right;\n",
              "    }\n",
              "</style>\n",
              "<table border=\"1\" class=\"dataframe\">\n",
              "  <thead>\n",
              "    <tr style=\"text-align: right;\">\n",
              "      <th></th>\n",
              "      <th>text_path</th>\n",
              "      <th>texts</th>\n",
              "      <th>data_label</th>\n",
              "    </tr>\n",
              "  </thead>\n",
              "  <tbody>\n",
              "    <tr>\n",
              "      <th>0</th>\n",
              "      <td>/content/drive/MyDrive/tobaco_OCR/Resume/50521...</td>\n",
              "      <td>CURRICULUM VITAE Collaborating Investigator P...</td>\n",
              "      <td>Resume</td>\n",
              "    </tr>\n",
              "    <tr>\n",
              "      <th>1</th>\n",
              "      <td>/content/drive/MyDrive/tobaco_OCR/Resume/50630...</td>\n",
              "      <td>FF Principal investigatorProgram Director Last...</td>\n",
              "      <td>Resume</td>\n",
              "    </tr>\n",
              "    <tr>\n",
              "      <th>2</th>\n",
              "      <td>/content/drive/MyDrive/tobaco_OCR/Resume/40028...</td>\n",
              "      <td>Name Address Date of Birth Place of Birth Educ...</td>\n",
              "      <td>Resume</td>\n",
              "    </tr>\n",
              "    <tr>\n",
              "      <th>3</th>\n",
              "      <td>/content/drive/MyDrive/tobaco_OCR/Resume/10150...</td>\n",
              "      <td>UNIVERSITY OF MIAMI CURRICULUM VITAE Standard...</td>\n",
              "      <td>Resume</td>\n",
              "    </tr>\n",
              "    <tr>\n",
              "      <th>4</th>\n",
              "      <td>/content/drive/MyDrive/tobaco_OCR/Resume/50538...</td>\n",
              "      <td>BIOGRAPHICAL SKETCH Provide the following info...</td>\n",
              "      <td>Resume</td>\n",
              "    </tr>\n",
              "  </tbody>\n",
              "</table>\n",
              "</div>\n",
              "      <button class=\"colab-df-convert\" onclick=\"convertToInteractive('df-543f168e-ab91-4565-a49d-024493652192')\"\n",
              "              title=\"Convert this dataframe to an interactive table.\"\n",
              "              style=\"display:none;\">\n",
              "        \n",
              "  <svg xmlns=\"http://www.w3.org/2000/svg\" height=\"24px\"viewBox=\"0 0 24 24\"\n",
              "       width=\"24px\">\n",
              "    <path d=\"M0 0h24v24H0V0z\" fill=\"none\"/>\n",
              "    <path d=\"M18.56 5.44l.94 2.06.94-2.06 2.06-.94-2.06-.94-.94-2.06-.94 2.06-2.06.94zm-11 1L8.5 8.5l.94-2.06 2.06-.94-2.06-.94L8.5 2.5l-.94 2.06-2.06.94zm10 10l.94 2.06.94-2.06 2.06-.94-2.06-.94-.94-2.06-.94 2.06-2.06.94z\"/><path d=\"M17.41 7.96l-1.37-1.37c-.4-.4-.92-.59-1.43-.59-.52 0-1.04.2-1.43.59L10.3 9.45l-7.72 7.72c-.78.78-.78 2.05 0 2.83L4 21.41c.39.39.9.59 1.41.59.51 0 1.02-.2 1.41-.59l7.78-7.78 2.81-2.81c.8-.78.8-2.07 0-2.86zM5.41 20L4 18.59l7.72-7.72 1.47 1.35L5.41 20z\"/>\n",
              "  </svg>\n",
              "      </button>\n",
              "      \n",
              "  <style>\n",
              "    .colab-df-container {\n",
              "      display:flex;\n",
              "      flex-wrap:wrap;\n",
              "      gap: 12px;\n",
              "    }\n",
              "\n",
              "    .colab-df-convert {\n",
              "      background-color: #E8F0FE;\n",
              "      border: none;\n",
              "      border-radius: 50%;\n",
              "      cursor: pointer;\n",
              "      display: none;\n",
              "      fill: #1967D2;\n",
              "      height: 32px;\n",
              "      padding: 0 0 0 0;\n",
              "      width: 32px;\n",
              "    }\n",
              "\n",
              "    .colab-df-convert:hover {\n",
              "      background-color: #E2EBFA;\n",
              "      box-shadow: 0px 1px 2px rgba(60, 64, 67, 0.3), 0px 1px 3px 1px rgba(60, 64, 67, 0.15);\n",
              "      fill: #174EA6;\n",
              "    }\n",
              "\n",
              "    [theme=dark] .colab-df-convert {\n",
              "      background-color: #3B4455;\n",
              "      fill: #D2E3FC;\n",
              "    }\n",
              "\n",
              "    [theme=dark] .colab-df-convert:hover {\n",
              "      background-color: #434B5C;\n",
              "      box-shadow: 0px 1px 3px 1px rgba(0, 0, 0, 0.15);\n",
              "      filter: drop-shadow(0px 1px 2px rgba(0, 0, 0, 0.3));\n",
              "      fill: #FFFFFF;\n",
              "    }\n",
              "  </style>\n",
              "\n",
              "      <script>\n",
              "        const buttonEl =\n",
              "          document.querySelector('#df-543f168e-ab91-4565-a49d-024493652192 button.colab-df-convert');\n",
              "        buttonEl.style.display =\n",
              "          google.colab.kernel.accessAllowed ? 'block' : 'none';\n",
              "\n",
              "        async function convertToInteractive(key) {\n",
              "          const element = document.querySelector('#df-543f168e-ab91-4565-a49d-024493652192');\n",
              "          const dataTable =\n",
              "            await google.colab.kernel.invokeFunction('convertToInteractive',\n",
              "                                                     [key], {});\n",
              "          if (!dataTable) return;\n",
              "\n",
              "          const docLinkHtml = 'Like what you see? Visit the ' +\n",
              "            '<a target=\"_blank\" href=https://colab.research.google.com/notebooks/data_table.ipynb>data table notebook</a>'\n",
              "            + ' to learn more about interactive tables.';\n",
              "          element.innerHTML = '';\n",
              "          dataTable['output_type'] = 'display_data';\n",
              "          await google.colab.output.renderOutput(dataTable, element);\n",
              "          const docLink = document.createElement('div');\n",
              "          docLink.innerHTML = docLinkHtml;\n",
              "          element.appendChild(docLink);\n",
              "        }\n",
              "      </script>\n",
              "    </div>\n",
              "  </div>\n",
              "  "
            ]
          },
          "metadata": {},
          "execution_count": 16
        }
      ]
    },
    {
      "cell_type": "code",
      "source": [
        "df['texts'] = [normalize(i, lowercase=True, remove_stopwords=True) for i in df['texts']]\n",
        "df.head()"
      ],
      "metadata": {
        "colab": {
          "base_uri": "https://localhost:8080/",
          "height": 206
        },
        "id": "uQmyFNMWQQFs",
        "outputId": "6137099c-fad3-4cde-ba88-ea3219735c26"
      },
      "execution_count": 17,
      "outputs": [
        {
          "output_type": "execute_result",
          "data": {
            "text/plain": [
              "                                           text_path  \\\n",
              "0  /content/drive/MyDrive/tobaco_OCR/Resume/50521...   \n",
              "1  /content/drive/MyDrive/tobaco_OCR/Resume/50630...   \n",
              "2  /content/drive/MyDrive/tobaco_OCR/Resume/40028...   \n",
              "3  /content/drive/MyDrive/tobaco_OCR/Resume/10150...   \n",
              "4  /content/drive/MyDrive/tobaco_OCR/Resume/50538...   \n",
              "\n",
              "                                               texts data_label  \n",
              "0  curriculum vita collaborate investigator ptast...     Resume  \n",
              "1  ff principal investigatorprogram director last...     Resume  \n",
              "2  name address date birth place birth education ...     Resume  \n",
              "3  university miami curriculum vita standard form...     Resume  \n",
              "4  biographical sketch provide follow information...     Resume  "
            ],
            "text/html": [
              "\n",
              "  <div id=\"df-c81849eb-c1c8-453f-b0bd-6e64d3981e1b\">\n",
              "    <div class=\"colab-df-container\">\n",
              "      <div>\n",
              "<style scoped>\n",
              "    .dataframe tbody tr th:only-of-type {\n",
              "        vertical-align: middle;\n",
              "    }\n",
              "\n",
              "    .dataframe tbody tr th {\n",
              "        vertical-align: top;\n",
              "    }\n",
              "\n",
              "    .dataframe thead th {\n",
              "        text-align: right;\n",
              "    }\n",
              "</style>\n",
              "<table border=\"1\" class=\"dataframe\">\n",
              "  <thead>\n",
              "    <tr style=\"text-align: right;\">\n",
              "      <th></th>\n",
              "      <th>text_path</th>\n",
              "      <th>texts</th>\n",
              "      <th>data_label</th>\n",
              "    </tr>\n",
              "  </thead>\n",
              "  <tbody>\n",
              "    <tr>\n",
              "      <th>0</th>\n",
              "      <td>/content/drive/MyDrive/tobaco_OCR/Resume/50521...</td>\n",
              "      <td>curriculum vita collaborate investigator ptast...</td>\n",
              "      <td>Resume</td>\n",
              "    </tr>\n",
              "    <tr>\n",
              "      <th>1</th>\n",
              "      <td>/content/drive/MyDrive/tobaco_OCR/Resume/50630...</td>\n",
              "      <td>ff principal investigatorprogram director last...</td>\n",
              "      <td>Resume</td>\n",
              "    </tr>\n",
              "    <tr>\n",
              "      <th>2</th>\n",
              "      <td>/content/drive/MyDrive/tobaco_OCR/Resume/40028...</td>\n",
              "      <td>name address date birth place birth education ...</td>\n",
              "      <td>Resume</td>\n",
              "    </tr>\n",
              "    <tr>\n",
              "      <th>3</th>\n",
              "      <td>/content/drive/MyDrive/tobaco_OCR/Resume/10150...</td>\n",
              "      <td>university miami curriculum vita standard form...</td>\n",
              "      <td>Resume</td>\n",
              "    </tr>\n",
              "    <tr>\n",
              "      <th>4</th>\n",
              "      <td>/content/drive/MyDrive/tobaco_OCR/Resume/50538...</td>\n",
              "      <td>biographical sketch provide follow information...</td>\n",
              "      <td>Resume</td>\n",
              "    </tr>\n",
              "  </tbody>\n",
              "</table>\n",
              "</div>\n",
              "      <button class=\"colab-df-convert\" onclick=\"convertToInteractive('df-c81849eb-c1c8-453f-b0bd-6e64d3981e1b')\"\n",
              "              title=\"Convert this dataframe to an interactive table.\"\n",
              "              style=\"display:none;\">\n",
              "        \n",
              "  <svg xmlns=\"http://www.w3.org/2000/svg\" height=\"24px\"viewBox=\"0 0 24 24\"\n",
              "       width=\"24px\">\n",
              "    <path d=\"M0 0h24v24H0V0z\" fill=\"none\"/>\n",
              "    <path d=\"M18.56 5.44l.94 2.06.94-2.06 2.06-.94-2.06-.94-.94-2.06-.94 2.06-2.06.94zm-11 1L8.5 8.5l.94-2.06 2.06-.94-2.06-.94L8.5 2.5l-.94 2.06-2.06.94zm10 10l.94 2.06.94-2.06 2.06-.94-2.06-.94-.94-2.06-.94 2.06-2.06.94z\"/><path d=\"M17.41 7.96l-1.37-1.37c-.4-.4-.92-.59-1.43-.59-.52 0-1.04.2-1.43.59L10.3 9.45l-7.72 7.72c-.78.78-.78 2.05 0 2.83L4 21.41c.39.39.9.59 1.41.59.51 0 1.02-.2 1.41-.59l7.78-7.78 2.81-2.81c.8-.78.8-2.07 0-2.86zM5.41 20L4 18.59l7.72-7.72 1.47 1.35L5.41 20z\"/>\n",
              "  </svg>\n",
              "      </button>\n",
              "      \n",
              "  <style>\n",
              "    .colab-df-container {\n",
              "      display:flex;\n",
              "      flex-wrap:wrap;\n",
              "      gap: 12px;\n",
              "    }\n",
              "\n",
              "    .colab-df-convert {\n",
              "      background-color: #E8F0FE;\n",
              "      border: none;\n",
              "      border-radius: 50%;\n",
              "      cursor: pointer;\n",
              "      display: none;\n",
              "      fill: #1967D2;\n",
              "      height: 32px;\n",
              "      padding: 0 0 0 0;\n",
              "      width: 32px;\n",
              "    }\n",
              "\n",
              "    .colab-df-convert:hover {\n",
              "      background-color: #E2EBFA;\n",
              "      box-shadow: 0px 1px 2px rgba(60, 64, 67, 0.3), 0px 1px 3px 1px rgba(60, 64, 67, 0.15);\n",
              "      fill: #174EA6;\n",
              "    }\n",
              "\n",
              "    [theme=dark] .colab-df-convert {\n",
              "      background-color: #3B4455;\n",
              "      fill: #D2E3FC;\n",
              "    }\n",
              "\n",
              "    [theme=dark] .colab-df-convert:hover {\n",
              "      background-color: #434B5C;\n",
              "      box-shadow: 0px 1px 3px 1px rgba(0, 0, 0, 0.15);\n",
              "      filter: drop-shadow(0px 1px 2px rgba(0, 0, 0, 0.3));\n",
              "      fill: #FFFFFF;\n",
              "    }\n",
              "  </style>\n",
              "\n",
              "      <script>\n",
              "        const buttonEl =\n",
              "          document.querySelector('#df-c81849eb-c1c8-453f-b0bd-6e64d3981e1b button.colab-df-convert');\n",
              "        buttonEl.style.display =\n",
              "          google.colab.kernel.accessAllowed ? 'block' : 'none';\n",
              "\n",
              "        async function convertToInteractive(key) {\n",
              "          const element = document.querySelector('#df-c81849eb-c1c8-453f-b0bd-6e64d3981e1b');\n",
              "          const dataTable =\n",
              "            await google.colab.kernel.invokeFunction('convertToInteractive',\n",
              "                                                     [key], {});\n",
              "          if (!dataTable) return;\n",
              "\n",
              "          const docLinkHtml = 'Like what you see? Visit the ' +\n",
              "            '<a target=\"_blank\" href=https://colab.research.google.com/notebooks/data_table.ipynb>data table notebook</a>'\n",
              "            + ' to learn more about interactive tables.';\n",
              "          element.innerHTML = '';\n",
              "          dataTable['output_type'] = 'display_data';\n",
              "          await google.colab.output.renderOutput(dataTable, element);\n",
              "          const docLink = document.createElement('div');\n",
              "          docLink.innerHTML = docLinkHtml;\n",
              "          element.appendChild(docLink);\n",
              "        }\n",
              "      </script>\n",
              "    </div>\n",
              "  </div>\n",
              "  "
            ]
          },
          "metadata": {},
          "execution_count": 17
        }
      ]
    },
    {
      "cell_type": "code",
      "source": [
        "from sklearn import preprocessing\n",
        "le = preprocessing.LabelEncoder()\n",
        "df['data_label']= le.fit_transform(df['data_label'])"
      ],
      "metadata": {
        "id": "ReNamIQgQQHr"
      },
      "execution_count": 18,
      "outputs": []
    },
    {
      "cell_type": "code",
      "source": [
        "df.head()"
      ],
      "metadata": {
        "colab": {
          "base_uri": "https://localhost:8080/",
          "height": 206
        },
        "id": "qxQmzyRnQQJ2",
        "outputId": "ff1d579f-e275-4b7a-85d9-abf048ba3164"
      },
      "execution_count": 19,
      "outputs": [
        {
          "output_type": "execute_result",
          "data": {
            "text/plain": [
              "                                           text_path  \\\n",
              "0  /content/drive/MyDrive/tobaco_OCR/Resume/50521...   \n",
              "1  /content/drive/MyDrive/tobaco_OCR/Resume/50630...   \n",
              "2  /content/drive/MyDrive/tobaco_OCR/Resume/40028...   \n",
              "3  /content/drive/MyDrive/tobaco_OCR/Resume/10150...   \n",
              "4  /content/drive/MyDrive/tobaco_OCR/Resume/50538...   \n",
              "\n",
              "                                               texts  data_label  \n",
              "0  curriculum vita collaborate investigator ptast...           8  \n",
              "1  ff principal investigatorprogram director last...           8  \n",
              "2  name address date birth place birth education ...           8  \n",
              "3  university miami curriculum vita standard form...           8  \n",
              "4  biographical sketch provide follow information...           8  "
            ],
            "text/html": [
              "\n",
              "  <div id=\"df-c439add2-b8fe-4868-ba0e-919e9f386676\">\n",
              "    <div class=\"colab-df-container\">\n",
              "      <div>\n",
              "<style scoped>\n",
              "    .dataframe tbody tr th:only-of-type {\n",
              "        vertical-align: middle;\n",
              "    }\n",
              "\n",
              "    .dataframe tbody tr th {\n",
              "        vertical-align: top;\n",
              "    }\n",
              "\n",
              "    .dataframe thead th {\n",
              "        text-align: right;\n",
              "    }\n",
              "</style>\n",
              "<table border=\"1\" class=\"dataframe\">\n",
              "  <thead>\n",
              "    <tr style=\"text-align: right;\">\n",
              "      <th></th>\n",
              "      <th>text_path</th>\n",
              "      <th>texts</th>\n",
              "      <th>data_label</th>\n",
              "    </tr>\n",
              "  </thead>\n",
              "  <tbody>\n",
              "    <tr>\n",
              "      <th>0</th>\n",
              "      <td>/content/drive/MyDrive/tobaco_OCR/Resume/50521...</td>\n",
              "      <td>curriculum vita collaborate investigator ptast...</td>\n",
              "      <td>8</td>\n",
              "    </tr>\n",
              "    <tr>\n",
              "      <th>1</th>\n",
              "      <td>/content/drive/MyDrive/tobaco_OCR/Resume/50630...</td>\n",
              "      <td>ff principal investigatorprogram director last...</td>\n",
              "      <td>8</td>\n",
              "    </tr>\n",
              "    <tr>\n",
              "      <th>2</th>\n",
              "      <td>/content/drive/MyDrive/tobaco_OCR/Resume/40028...</td>\n",
              "      <td>name address date birth place birth education ...</td>\n",
              "      <td>8</td>\n",
              "    </tr>\n",
              "    <tr>\n",
              "      <th>3</th>\n",
              "      <td>/content/drive/MyDrive/tobaco_OCR/Resume/10150...</td>\n",
              "      <td>university miami curriculum vita standard form...</td>\n",
              "      <td>8</td>\n",
              "    </tr>\n",
              "    <tr>\n",
              "      <th>4</th>\n",
              "      <td>/content/drive/MyDrive/tobaco_OCR/Resume/50538...</td>\n",
              "      <td>biographical sketch provide follow information...</td>\n",
              "      <td>8</td>\n",
              "    </tr>\n",
              "  </tbody>\n",
              "</table>\n",
              "</div>\n",
              "      <button class=\"colab-df-convert\" onclick=\"convertToInteractive('df-c439add2-b8fe-4868-ba0e-919e9f386676')\"\n",
              "              title=\"Convert this dataframe to an interactive table.\"\n",
              "              style=\"display:none;\">\n",
              "        \n",
              "  <svg xmlns=\"http://www.w3.org/2000/svg\" height=\"24px\"viewBox=\"0 0 24 24\"\n",
              "       width=\"24px\">\n",
              "    <path d=\"M0 0h24v24H0V0z\" fill=\"none\"/>\n",
              "    <path d=\"M18.56 5.44l.94 2.06.94-2.06 2.06-.94-2.06-.94-.94-2.06-.94 2.06-2.06.94zm-11 1L8.5 8.5l.94-2.06 2.06-.94-2.06-.94L8.5 2.5l-.94 2.06-2.06.94zm10 10l.94 2.06.94-2.06 2.06-.94-2.06-.94-.94-2.06-.94 2.06-2.06.94z\"/><path d=\"M17.41 7.96l-1.37-1.37c-.4-.4-.92-.59-1.43-.59-.52 0-1.04.2-1.43.59L10.3 9.45l-7.72 7.72c-.78.78-.78 2.05 0 2.83L4 21.41c.39.39.9.59 1.41.59.51 0 1.02-.2 1.41-.59l7.78-7.78 2.81-2.81c.8-.78.8-2.07 0-2.86zM5.41 20L4 18.59l7.72-7.72 1.47 1.35L5.41 20z\"/>\n",
              "  </svg>\n",
              "      </button>\n",
              "      \n",
              "  <style>\n",
              "    .colab-df-container {\n",
              "      display:flex;\n",
              "      flex-wrap:wrap;\n",
              "      gap: 12px;\n",
              "    }\n",
              "\n",
              "    .colab-df-convert {\n",
              "      background-color: #E8F0FE;\n",
              "      border: none;\n",
              "      border-radius: 50%;\n",
              "      cursor: pointer;\n",
              "      display: none;\n",
              "      fill: #1967D2;\n",
              "      height: 32px;\n",
              "      padding: 0 0 0 0;\n",
              "      width: 32px;\n",
              "    }\n",
              "\n",
              "    .colab-df-convert:hover {\n",
              "      background-color: #E2EBFA;\n",
              "      box-shadow: 0px 1px 2px rgba(60, 64, 67, 0.3), 0px 1px 3px 1px rgba(60, 64, 67, 0.15);\n",
              "      fill: #174EA6;\n",
              "    }\n",
              "\n",
              "    [theme=dark] .colab-df-convert {\n",
              "      background-color: #3B4455;\n",
              "      fill: #D2E3FC;\n",
              "    }\n",
              "\n",
              "    [theme=dark] .colab-df-convert:hover {\n",
              "      background-color: #434B5C;\n",
              "      box-shadow: 0px 1px 3px 1px rgba(0, 0, 0, 0.15);\n",
              "      filter: drop-shadow(0px 1px 2px rgba(0, 0, 0, 0.3));\n",
              "      fill: #FFFFFF;\n",
              "    }\n",
              "  </style>\n",
              "\n",
              "      <script>\n",
              "        const buttonEl =\n",
              "          document.querySelector('#df-c439add2-b8fe-4868-ba0e-919e9f386676 button.colab-df-convert');\n",
              "        buttonEl.style.display =\n",
              "          google.colab.kernel.accessAllowed ? 'block' : 'none';\n",
              "\n",
              "        async function convertToInteractive(key) {\n",
              "          const element = document.querySelector('#df-c439add2-b8fe-4868-ba0e-919e9f386676');\n",
              "          const dataTable =\n",
              "            await google.colab.kernel.invokeFunction('convertToInteractive',\n",
              "                                                     [key], {});\n",
              "          if (!dataTable) return;\n",
              "\n",
              "          const docLinkHtml = 'Like what you see? Visit the ' +\n",
              "            '<a target=\"_blank\" href=https://colab.research.google.com/notebooks/data_table.ipynb>data table notebook</a>'\n",
              "            + ' to learn more about interactive tables.';\n",
              "          element.innerHTML = '';\n",
              "          dataTable['output_type'] = 'display_data';\n",
              "          await google.colab.output.renderOutput(dataTable, element);\n",
              "          const docLink = document.createElement('div');\n",
              "          docLink.innerHTML = docLinkHtml;\n",
              "          element.appendChild(docLink);\n",
              "        }\n",
              "      </script>\n",
              "    </div>\n",
              "  </div>\n",
              "  "
            ]
          },
          "metadata": {},
          "execution_count": 19
        }
      ]
    },
    {
      "cell_type": "markdown",
      "source": [
        "# Train test Split"
      ],
      "metadata": {
        "id": "bAzre5Cqr426"
      }
    },
    {
      "cell_type": "code",
      "source": [
        "from sklearn.model_selection import train_test_split\n",
        "label = df['data_label']\n",
        "X_train, X_test, y_train, y_test = train_test_split(df['texts'], df['data_label'] , test_size=0.2, random_state = 42)"
      ],
      "metadata": {
        "id": "wSHz3XWwr4PU"
      },
      "execution_count": 20,
      "outputs": []
    },
    {
      "cell_type": "code",
      "source": [
        "print(X_train.shape)\n",
        "print(y_train.shape)\n",
        "print(X_test.shape)\n",
        "print(y_test.shape)"
      ],
      "metadata": {
        "colab": {
          "base_uri": "https://localhost:8080/"
        },
        "id": "itJ8oo4at7jW",
        "outputId": "c287495c-c1e6-456a-ecb4-0877407ded71"
      },
      "execution_count": 21,
      "outputs": [
        {
          "output_type": "stream",
          "name": "stdout",
          "text": [
            "(2785,)\n",
            "(2785,)\n",
            "(697,)\n",
            "(697,)\n"
          ]
        }
      ]
    },
    {
      "cell_type": "markdown",
      "source": [
        "# padding sequence on train and test dataset seperately\n"
      ],
      "metadata": {
        "id": "lpWLzIBdn4gh"
      }
    },
    {
      "cell_type": "code",
      "source": [
        "from keras.preprocessing.text import Tokenizer\n",
        "from keras.preprocessing.sequence import pad_sequences\n",
        "\n",
        "max_len = 500"
      ],
      "metadata": {
        "id": "-TQcCvdvn4Hw"
      },
      "execution_count": 22,
      "outputs": []
    },
    {
      "cell_type": "code",
      "source": [
        "tokenizer = Tokenizer(num_words=len(X_train))\n",
        "tokenizer.fit_on_texts(X_train)"
      ],
      "metadata": {
        "id": "rFt46TG6n3Ih"
      },
      "execution_count": 23,
      "outputs": []
    },
    {
      "cell_type": "code",
      "source": [
        "train_sequence = tokenizer.texts_to_sequences(X_train)"
      ],
      "metadata": {
        "id": "BeY6u0k3n-xv"
      },
      "execution_count": 24,
      "outputs": []
    },
    {
      "cell_type": "code",
      "source": [
        "train_padded = pad_sequences(\n",
        "    train_sequence, maxlen = max_len, truncating = \"post\", padding = \"post\" \n",
        ")"
      ],
      "metadata": {
        "id": "ErBVHPN6n-zl"
      },
      "execution_count": 25,
      "outputs": []
    },
    {
      "cell_type": "code",
      "source": [
        "test_sequence = tokenizer.texts_to_sequences(X_test)\n",
        "test_padded = pad_sequences(\n",
        "    test_sequence, maxlen = max_len, truncating = \"post\", padding = \"post\" \n",
        ")"
      ],
      "metadata": {
        "id": "lDTsZiQ3n-1b"
      },
      "execution_count": 26,
      "outputs": []
    },
    {
      "cell_type": "code",
      "source": [
        "word_index = tokenizer.word_index\n",
        "len(word_index)"
      ],
      "metadata": {
        "colab": {
          "base_uri": "https://localhost:8080/"
        },
        "id": "yhQLQvqYSRx7",
        "outputId": "71861a29-5299-4602-edbd-ee5ddd2ed623"
      },
      "execution_count": 27,
      "outputs": [
        {
          "output_type": "execute_result",
          "data": {
            "text/plain": [
              "66383"
            ]
          },
          "metadata": {},
          "execution_count": 27
        }
      ]
    },
    {
      "cell_type": "markdown",
      "source": [
        "# Create the embedding matrix using fasttext model"
      ],
      "metadata": {
        "id": "VkYrxWTESv-g"
      }
    },
    {
      "cell_type": "code",
      "source": [
        "num_words = len(word_index) + 1\n",
        "embedding_matrix = np.zeros((num_words, 300))\n",
        "\n",
        "for word, i in word_index.items():\n",
        "    if i < num_words:\n",
        "        emb_vec = ft.get_word_vector(word)\n",
        "        if emb_vec is not None:\n",
        "            embedding_matrix[i] = emb_vec"
      ],
      "metadata": {
        "id": "Wt_8u6_iSR3E"
      },
      "execution_count": 28,
      "outputs": []
    },
    {
      "cell_type": "code",
      "source": [
        "embedding_matrix.shape"
      ],
      "metadata": {
        "colab": {
          "base_uri": "https://localhost:8080/"
        },
        "id": "Ms81j9UESR5E",
        "outputId": "719f0f6d-e7be-4cca-a2ab-0ef9317cb6d7"
      },
      "execution_count": 30,
      "outputs": [
        {
          "output_type": "execute_result",
          "data": {
            "text/plain": [
              "(66384, 300)"
            ]
          },
          "metadata": {},
          "execution_count": 30
        }
      ]
    },
    {
      "cell_type": "code",
      "source": [
        ""
      ],
      "metadata": {
        "id": "MsPSIeNWSR7V"
      },
      "execution_count": null,
      "outputs": []
    },
    {
      "cell_type": "markdown",
      "source": [
        "# CNN-1D"
      ],
      "metadata": {
        "id": "m08XjaFinvIM"
      }
    },
    {
      "cell_type": "code",
      "source": [
        "from keras.models import Sequential\n",
        "from keras.layers import Embedding, LSTM, Dense, Dropout, Conv1D, GlobalMaxPooling1D, MaxPooling1D\n",
        "from keras.initializers import Constant\n",
        "from tensorflow.keras.optimizers import Adam\n",
        "\n",
        "\n",
        "cnn = Sequential()\n",
        "\n",
        "cnn.add(\n",
        "    Embedding(\n",
        "        num_words,\n",
        "        300,\n",
        "        embeddings_initializer = Constant(embedding_matrix),\n",
        "        trainable = False\n",
        "    )\n",
        ")\n",
        "\n",
        "cnn.add(Dropout(0.2))\n",
        "cnn.add(Conv1D(filters=100,kernel_size=3,padding='valid',activation='relu',strides=1))\n",
        "cnn.add(MaxPooling1D())\n",
        "cnn.add(Conv1D(filters=200,kernel_size=3,padding='valid',activation='relu',strides=1))\n",
        "cnn.add(MaxPooling1D())\n",
        "cnn.add(Conv1D(filters=300,kernel_size=3,padding='valid',activation='relu',strides=1))\n",
        "cnn.add(MaxPooling1D())\n",
        "cnn.add(Conv1D(filters=512,kernel_size=3,padding='valid',activation='relu',strides=1))\n",
        "cnn.add(GlobalMaxPooling1D())\n",
        "\n",
        "cnn.add(Dense(64, activation = 'relu'))\n",
        "cnn.add(Dropout(0.4))\n",
        "cnn.add(Dense(10, activation='softmax'))\n",
        "\n",
        "optimizer = Adam(learning_rate = 1e-3)\n",
        "\n",
        "cnn.compile(loss=\"sparse_categorical_crossentropy\", optimizer=optimizer, metrics = [\"accuracy\"])"
      ],
      "metadata": {
        "id": "9-ibcNUYt976"
      },
      "execution_count": 31,
      "outputs": []
    },
    {
      "cell_type": "code",
      "source": [
        "cnn.summary()"
      ],
      "metadata": {
        "colab": {
          "base_uri": "https://localhost:8080/"
        },
        "id": "y9vSQyHT0v1D",
        "outputId": "ab2ada01-a82f-4bf9-d670-b470543f0250"
      },
      "execution_count": 32,
      "outputs": [
        {
          "output_type": "stream",
          "name": "stdout",
          "text": [
            "Model: \"sequential\"\n",
            "_________________________________________________________________\n",
            " Layer (type)                Output Shape              Param #   \n",
            "=================================================================\n",
            " embedding (Embedding)       (None, None, 300)         19915200  \n",
            "                                                                 \n",
            " dropout (Dropout)           (None, None, 300)         0         \n",
            "                                                                 \n",
            " conv1d (Conv1D)             (None, None, 100)         90100     \n",
            "                                                                 \n",
            " max_pooling1d (MaxPooling1D  (None, None, 100)        0         \n",
            " )                                                               \n",
            "                                                                 \n",
            " conv1d_1 (Conv1D)           (None, None, 200)         60200     \n",
            "                                                                 \n",
            " max_pooling1d_1 (MaxPooling  (None, None, 200)        0         \n",
            " 1D)                                                             \n",
            "                                                                 \n",
            " conv1d_2 (Conv1D)           (None, None, 300)         180300    \n",
            "                                                                 \n",
            " max_pooling1d_2 (MaxPooling  (None, None, 300)        0         \n",
            " 1D)                                                             \n",
            "                                                                 \n",
            " conv1d_3 (Conv1D)           (None, None, 512)         461312    \n",
            "                                                                 \n",
            " global_max_pooling1d (Globa  (None, 512)              0         \n",
            " lMaxPooling1D)                                                  \n",
            "                                                                 \n",
            " dense (Dense)               (None, 64)                32832     \n",
            "                                                                 \n",
            " dropout_1 (Dropout)         (None, 64)                0         \n",
            "                                                                 \n",
            " dense_1 (Dense)             (None, 10)                650       \n",
            "                                                                 \n",
            "=================================================================\n",
            "Total params: 20,740,594\n",
            "Trainable params: 825,394\n",
            "Non-trainable params: 19,915,200\n",
            "_________________________________________________________________\n"
          ]
        }
      ]
    },
    {
      "cell_type": "code",
      "source": [
        "history = cnn.fit(\n",
        "    train_padded,\n",
        "    y_train,\n",
        "    epochs = 20,\n",
        "    validation_data = (test_padded, y_test),\n",
        "    verbose=1,\n",
        ")"
      ],
      "metadata": {
        "colab": {
          "base_uri": "https://localhost:8080/"
        },
        "id": "1N2iRlnJxEci",
        "outputId": "6c1c0b1c-7361-4436-91c6-f61dadc11c21"
      },
      "execution_count": 34,
      "outputs": [
        {
          "output_type": "stream",
          "name": "stdout",
          "text": [
            "Epoch 1/20\n",
            "88/88 [==============================] - 54s 618ms/step - loss: 1.8023 - accuracy: 0.3257 - val_loss: 1.5549 - val_accuracy: 0.4864\n",
            "Epoch 2/20\n",
            "88/88 [==============================] - 54s 618ms/step - loss: 1.4714 - accuracy: 0.4779 - val_loss: 1.2901 - val_accuracy: 0.5509\n",
            "Epoch 3/20\n",
            "88/88 [==============================] - 53s 608ms/step - loss: 1.3143 - accuracy: 0.5454 - val_loss: 1.1141 - val_accuracy: 0.6227\n",
            "Epoch 4/20\n",
            "88/88 [==============================] - 53s 607ms/step - loss: 1.0422 - accuracy: 0.6391 - val_loss: 0.9449 - val_accuracy: 0.6743\n",
            "Epoch 5/20\n",
            "88/88 [==============================] - 53s 601ms/step - loss: 0.9199 - accuracy: 0.6743 - val_loss: 0.9459 - val_accuracy: 0.6786\n",
            "Epoch 6/20\n",
            "88/88 [==============================] - 53s 600ms/step - loss: 0.8674 - accuracy: 0.7002 - val_loss: 0.8383 - val_accuracy: 0.7102\n",
            "Epoch 7/20\n",
            "88/88 [==============================] - 53s 604ms/step - loss: 0.7006 - accuracy: 0.7544 - val_loss: 0.8153 - val_accuracy: 0.7274\n",
            "Epoch 8/20\n",
            "88/88 [==============================] - 54s 612ms/step - loss: 0.6306 - accuracy: 0.7874 - val_loss: 0.9363 - val_accuracy: 0.7145\n",
            "Epoch 9/20\n",
            "88/88 [==============================] - 53s 602ms/step - loss: 0.5642 - accuracy: 0.8068 - val_loss: 0.8741 - val_accuracy: 0.7475\n",
            "Epoch 10/20\n",
            "88/88 [==============================] - 54s 610ms/step - loss: 0.5697 - accuracy: 0.8169 - val_loss: 0.7780 - val_accuracy: 0.7676\n",
            "Epoch 11/20\n",
            "88/88 [==============================] - 53s 608ms/step - loss: 0.4385 - accuracy: 0.8531 - val_loss: 0.9242 - val_accuracy: 0.7403\n",
            "Epoch 12/20\n",
            "88/88 [==============================] - 53s 598ms/step - loss: 0.4282 - accuracy: 0.8521 - val_loss: 0.8296 - val_accuracy: 0.7604\n",
            "Epoch 13/20\n",
            "88/88 [==============================] - 53s 603ms/step - loss: 0.3910 - accuracy: 0.8607 - val_loss: 0.8670 - val_accuracy: 0.7461\n",
            "Epoch 14/20\n",
            "88/88 [==============================] - 53s 603ms/step - loss: 0.3588 - accuracy: 0.8776 - val_loss: 0.9314 - val_accuracy: 0.7805\n",
            "Epoch 15/20\n",
            "88/88 [==============================] - 53s 602ms/step - loss: 0.3262 - accuracy: 0.8894 - val_loss: 0.8437 - val_accuracy: 0.7877\n",
            "Epoch 16/20\n",
            "88/88 [==============================] - 54s 610ms/step - loss: 0.2581 - accuracy: 0.9160 - val_loss: 0.8885 - val_accuracy: 0.7920\n",
            "Epoch 17/20\n",
            "88/88 [==============================] - 54s 614ms/step - loss: 0.2358 - accuracy: 0.9293 - val_loss: 1.0600 - val_accuracy: 0.7561\n",
            "Epoch 18/20\n",
            "88/88 [==============================] - 54s 614ms/step - loss: 0.2383 - accuracy: 0.9257 - val_loss: 1.0972 - val_accuracy: 0.7604\n",
            "Epoch 19/20\n",
            "88/88 [==============================] - 54s 616ms/step - loss: 0.1970 - accuracy: 0.9368 - val_loss: 1.0442 - val_accuracy: 0.7661\n",
            "Epoch 20/20\n",
            "88/88 [==============================] - 53s 606ms/step - loss: 0.1931 - accuracy: 0.9325 - val_loss: 1.1502 - val_accuracy: 0.7661\n"
          ]
        }
      ]
    },
    {
      "cell_type": "code",
      "source": [
        "sequence = tokenizer.texts_to_sequences(X_test)\n",
        "padded = pad_sequences(sequence, maxlen = max_len, truncating = \"post\", padding = \"post\")"
      ],
      "metadata": {
        "id": "emrBIQRKxoc9"
      },
      "execution_count": 35,
      "outputs": []
    },
    {
      "cell_type": "code",
      "source": [
        "y_pred = cnn.predict(padded)"
      ],
      "metadata": {
        "id": "0Q7nDAYstnkS"
      },
      "execution_count": 36,
      "outputs": []
    },
    {
      "cell_type": "code",
      "source": [
        "y_pred = [np.argmax(i) for i in y_pred]"
      ],
      "metadata": {
        "id": "YhK4p5YntnmM"
      },
      "execution_count": 37,
      "outputs": []
    },
    {
      "cell_type": "code",
      "source": [
        "from sklearn import metrics\n",
        "print(\"Accuracy:\",metrics.accuracy_score(y_test, y_pred))"
      ],
      "metadata": {
        "colab": {
          "base_uri": "https://localhost:8080/"
        },
        "id": "obroL50ntnoF",
        "outputId": "89713e10-94b5-426d-a49a-f510bf780ade"
      },
      "execution_count": 38,
      "outputs": [
        {
          "output_type": "stream",
          "name": "stdout",
          "text": [
            "Accuracy: 0.7661406025824964\n"
          ]
        }
      ]
    },
    {
      "cell_type": "code",
      "source": [
        "from sklearn.metrics import classification_report, confusion_matrix\n",
        "print(confusion_matrix(y_test, y_pred))\n",
        "print(classification_report(y_test,y_pred))"
      ],
      "metadata": {
        "colab": {
          "base_uri": "https://localhost:8080/"
        },
        "id": "0f3rWtBPuHTK",
        "outputId": "de05ecab-a183-4d63-9cb5-ff17d9098f81"
      },
      "execution_count": 39,
      "outputs": [
        {
          "output_type": "stream",
          "name": "stdout",
          "text": [
            "[[ 26   0   3   1   2   1   5   1   0   1]\n",
            " [  2 109   2   3   2   0   1   1   0   0]\n",
            " [  1   0  63   3   0   0   0   4   0   2]\n",
            " [  0   0   3  80   9   1   2  11   0   7]\n",
            " [  0   2  13   7 114   1   1   4   0   6]\n",
            " [  1   0   0   0   1  30   1   3   0   2]\n",
            " [  1   2   4   1   1   0  21   0   0   1]\n",
            " [  1   1   4   7   2   3   0  25   0  13]\n",
            " [  0   0   0   0   0   0   0   0  24   1]\n",
            " [  2   0   5   0   1   1   0   2   0  42]]\n",
            "              precision    recall  f1-score   support\n",
            "\n",
            "           0       0.76      0.65      0.70        40\n",
            "           1       0.96      0.91      0.93       120\n",
            "           2       0.65      0.86      0.74        73\n",
            "           3       0.78      0.71      0.74       113\n",
            "           4       0.86      0.77      0.81       148\n",
            "           5       0.81      0.79      0.80        38\n",
            "           6       0.68      0.68      0.68        31\n",
            "           7       0.49      0.45      0.47        56\n",
            "           8       1.00      0.96      0.98        25\n",
            "           9       0.56      0.79      0.66        53\n",
            "\n",
            "    accuracy                           0.77       697\n",
            "   macro avg       0.76      0.76      0.75       697\n",
            "weighted avg       0.78      0.77      0.77       697\n",
            "\n"
          ]
        }
      ]
    },
    {
      "cell_type": "code",
      "source": [
        ""
      ],
      "metadata": {
        "id": "ywmojkdztnqC"
      },
      "execution_count": null,
      "outputs": []
    },
    {
      "cell_type": "code",
      "source": [
        ""
      ],
      "metadata": {
        "id": "9k4tzd7LSR9i"
      },
      "execution_count": null,
      "outputs": []
    },
    {
      "cell_type": "code",
      "source": [
        ""
      ],
      "metadata": {
        "id": "IrVUdeyVSR_j"
      },
      "execution_count": null,
      "outputs": []
    },
    {
      "cell_type": "code",
      "source": [
        ""
      ],
      "metadata": {
        "id": "CgSvvvDISSB0"
      },
      "execution_count": null,
      "outputs": []
    },
    {
      "cell_type": "code",
      "source": [
        ""
      ],
      "metadata": {
        "id": "cVvSmFU6SSEA"
      },
      "execution_count": null,
      "outputs": []
    },
    {
      "cell_type": "code",
      "source": [
        ""
      ],
      "metadata": {
        "id": "t6pL3WPrSSHq"
      },
      "execution_count": null,
      "outputs": []
    },
    {
      "cell_type": "code",
      "source": [
        ""
      ],
      "metadata": {
        "id": "WcKIiqNqSSJS"
      },
      "execution_count": null,
      "outputs": []
    },
    {
      "cell_type": "code",
      "source": [
        ""
      ],
      "metadata": {
        "id": "XzyaRlgJSSLG"
      },
      "execution_count": null,
      "outputs": []
    },
    {
      "cell_type": "code",
      "source": [
        ""
      ],
      "metadata": {
        "id": "zPnPtOOASSNJ"
      },
      "execution_count": null,
      "outputs": []
    },
    {
      "cell_type": "code",
      "source": [
        ""
      ],
      "metadata": {
        "id": "kuKIxUCRSSOw"
      },
      "execution_count": null,
      "outputs": []
    },
    {
      "cell_type": "code",
      "source": [
        ""
      ],
      "metadata": {
        "id": "U1OeNDbvSSQj"
      },
      "execution_count": null,
      "outputs": []
    },
    {
      "cell_type": "markdown",
      "source": [
        "# Old Code"
      ],
      "metadata": {
        "id": "8xMV6rqdQQxr"
      }
    },
    {
      "cell_type": "code",
      "source": [
        "from gensim.models.fasttext import FastText\n",
        "word_tokens = df['text']\n",
        "\n",
        "# Defining values for parameters\n",
        "embedding_size = 300\n",
        "window_size = 5\n",
        "min_word = 5\n",
        "down_sampling = 1e-2\n",
        "\n",
        "fast_Text_model = FastText(word_tokens,\n",
        "                      size=embedding_size,\n",
        "                      window=window_size,\n",
        "                      min_count=min_word,\n",
        "                      sample=down_sampling,\n",
        "                      workers = 4,\n",
        "                      sg=1,\n",
        "                      iter=100)"
      ],
      "metadata": {
        "id": "i11N0u1EIsNT"
      },
      "execution_count": null,
      "outputs": []
    },
    {
      "cell_type": "code",
      "source": [
        "# from gensim.models import Word2Vec\n",
        "# # Save fastText gensim model\n",
        "# fast_Text_model.save(\"model/ft_model_yelp\")\n",
        "# # Load saved gensim fastText model\n",
        "# fast_Text_model = Word2Vec.load(\"model/ft_model_yelp\")"
      ],
      "metadata": {
        "id": "_pxQTmt7JJlJ"
      },
      "execution_count": null,
      "outputs": []
    },
    {
      "cell_type": "code",
      "source": [
        "# Check word embedding for a perticular word\n",
        "l = fast_Text_model.wv['rjat']\n",
        "print(len(l))\n",
        "print(l)"
      ],
      "metadata": {
        "id": "RS3LlDHtKQgP",
        "colab": {
          "base_uri": "https://localhost:8080/"
        },
        "outputId": "92e6a3e5-6970-4e93-cca8-bc581f6c8d44"
      },
      "execution_count": null,
      "outputs": [
        {
          "output_type": "stream",
          "name": "stdout",
          "text": [
            "300\n",
            "[ 1.28131807e-01  2.43316293e-01 -5.58495462e-01  3.76027226e-01\n",
            "  8.70122612e-02  9.77523327e-01  5.77322364e-01 -7.14563906e-01\n",
            " -4.00593579e-01 -3.93003255e-01  3.30203474e-01  7.78421760e-01\n",
            " -4.86062691e-02  4.07951295e-01  2.35373870e-01  4.40351397e-01\n",
            "  5.07362604e-01  8.71036947e-02  1.90445721e-01  4.08024728e-01\n",
            "  1.14477903e-01  7.25169837e-01  1.04393411e+00  8.31587195e-01\n",
            "  1.17216146e+00  7.91793346e-01  9.30116713e-01  8.77907038e-01\n",
            " -7.43993163e-01 -3.17819953e-01 -4.53173667e-02 -1.32715344e+00\n",
            " -3.00891995e-01 -7.03721225e-01  1.50148153e-01 -6.95131779e-01\n",
            "  3.92318219e-01 -3.81677210e-01  1.15712035e+00 -6.34374738e-01\n",
            " -5.43438673e-01  4.68942642e-01 -4.10695940e-01  3.50514680e-01\n",
            "  1.77822739e-01  4.08260465e-01 -3.43997926e-01 -3.66054416e-01\n",
            " -1.49861097e-01 -1.19773135e-01 -8.55028629e-05  1.12735033e+00\n",
            " -1.21784516e-01  3.70789021e-01 -7.07294941e-01  3.97301108e-01\n",
            "  1.89165771e-01 -1.30255699e+00  4.38193828e-01  1.25644302e+00\n",
            "  7.19696760e-01  1.49049318e+00 -2.12029979e-01 -2.82061189e-01\n",
            " -2.20184892e-01 -6.09090507e-01 -5.98475337e-01 -1.39004016e+00\n",
            " -3.22456896e-01  2.10234821e-01 -7.61370659e-01  1.22143936e+00\n",
            "  5.96161187e-01  3.05879623e-01  7.49294996e-01 -5.69432378e-02\n",
            " -2.21988559e-03  1.42781734e-02  6.00083172e-02  1.66075841e-01\n",
            " -1.26535892e-02  9.12420154e-02  4.68192339e-01 -9.29019451e-01\n",
            " -2.22020403e-01  8.26622665e-01  2.02619746e-01 -2.12329984e-01\n",
            "  3.61542195e-01  2.74704874e-01 -1.15734458e+00  2.38342490e-02\n",
            "  9.41566348e-01 -8.09781730e-01  3.63512635e-02 -3.95116329e-01\n",
            "  1.93636626e-01 -8.86790231e-02  2.34919637e-01  1.38487294e-02\n",
            " -5.66601813e-01  8.11365098e-02  5.77609420e-01  3.20364594e-01\n",
            "  6.56802773e-01  4.13323045e-02 -1.21267423e-01 -6.28037691e-01\n",
            " -1.25854635e+00  5.99543512e-01  4.83728677e-01  3.90672445e-01\n",
            " -1.21970855e-01 -4.50474262e-01 -7.39257157e-01 -1.07855558e-01\n",
            "  7.58773565e-01  2.20461741e-01 -5.15434444e-01 -1.78865731e-01\n",
            " -8.32411349e-01  4.40926194e-01 -6.37038708e-01  4.66798007e-01\n",
            " -4.97409999e-02  7.38454938e-01  7.93709517e-01 -1.96244031e-01\n",
            " -6.71660781e-01 -2.87086397e-01  7.46411800e-01 -1.32571906e-01\n",
            " -5.15902080e-02  6.94014549e-01 -4.98244405e-01  7.84396350e-01\n",
            "  9.27268267e-01  5.10539353e-01 -1.10704863e+00  5.34275830e-01\n",
            "  2.70522296e-01 -3.51368845e-01 -1.17085010e-01 -3.37421328e-01\n",
            "  8.84308219e-02  6.87783778e-01  9.56338793e-02  3.77051294e-01\n",
            " -5.85679412e-01 -2.76211649e-01 -3.41419220e-01  8.29893589e-01\n",
            "  1.31682605e-01 -9.73469242e-02 -1.20676666e-01 -4.87917989e-01\n",
            " -2.57826120e-01  3.63461792e-01  4.78012204e-01 -4.35498685e-01\n",
            "  3.96332711e-01  2.37448618e-01 -2.00365663e-01  5.80038726e-01\n",
            " -1.15358436e+00  8.28331232e-01 -4.11629826e-01 -3.36337417e-01\n",
            "  1.40939221e-01 -9.03444350e-01 -2.63701797e-01  1.83767766e-01\n",
            "  9.49153900e-02  5.19990206e-01 -4.09505606e-01 -1.17455423e+00\n",
            "  9.35357511e-01 -2.50120610e-01  3.19129109e-01 -7.82718718e-01\n",
            "  3.83789718e-01 -5.90033829e-01  8.66560817e-01 -8.84927988e-01\n",
            "  6.27899766e-02 -1.27177334e+00  5.06870985e-01 -1.46817297e-01\n",
            "  1.87946439e-01 -5.55461764e-01 -3.80470246e-01  8.18947971e-01\n",
            " -1.83331832e-01 -3.29572037e-02  1.23135698e+00 -1.66004109e+00\n",
            "  1.34957448e-01 -1.34195387e-02  3.68883967e-01  7.78252631e-02\n",
            "  1.18257515e-02 -4.12065804e-01 -6.42199337e-01 -3.20926726e-01\n",
            "  3.48526627e-01  2.62610078e-01 -4.59160447e-01  2.34554842e-01\n",
            " -3.74453872e-01 -4.89227325e-02  1.16814661e+00 -8.32001388e-01\n",
            "  9.94404554e-01 -2.45779335e-01  4.28774416e-01  1.31683245e-01\n",
            " -2.92566180e-01  4.42946374e-01 -5.39761007e-01  8.78445923e-01\n",
            " -9.58022356e-01  7.32260704e-01  4.54075336e-01 -2.39116281e-01\n",
            " -1.47843629e-01 -8.71835589e-01 -8.38494718e-01 -2.21210122e-01\n",
            " -1.08276390e-01  2.39433914e-01 -1.55428910e+00  9.54921991e-02\n",
            "  2.81974018e-01 -1.49608999e-01 -1.21092737e-01  3.60175014e-01\n",
            "  1.14719637e-01 -4.87909436e-01  1.18358999e-01  8.84455025e-01\n",
            " -3.47442985e-01 -1.25873041e+00 -7.71943450e-01 -9.51426625e-02\n",
            "  1.01371670e+00  1.15769434e+00 -5.90272188e-01  1.88506663e-01\n",
            "  1.14991081e+00  9.93578583e-02 -3.67584527e-02 -2.21070424e-02\n",
            " -5.33758163e-01  1.99894115e-01  1.52096629e-01 -3.14055353e-01\n",
            "  1.91177696e-01  4.58742917e-01 -9.06297147e-01  9.04628038e-01\n",
            " -3.43978144e-02 -4.15413409e-01  4.85848039e-01  2.18325466e-01\n",
            "  1.77239645e+00 -4.56416607e-01  3.63518894e-01 -3.96424234e-01\n",
            "  1.45226210e-01  2.70539850e-01  1.27053738e+00  3.27747375e-01\n",
            " -8.05791691e-02  5.81572771e-01 -1.93847418e-01 -4.13305104e-01\n",
            "  5.55531830e-02 -1.30462170e-01  3.37136447e-01  6.19532913e-02\n",
            " -2.09517822e-01 -6.41008854e-01 -1.05350983e+00 -1.80418289e+00\n",
            " -9.35717583e-01 -5.74381761e-02 -4.84860003e-01 -1.13080823e+00\n",
            "  1.64082980e+00  3.58156621e-01  4.76826429e-02 -6.23540819e-01\n",
            " -3.35000753e-01  3.66731048e-01  1.48954347e-01 -7.38788009e-01\n",
            " -5.54811537e-01  5.10835886e-01 -8.97975147e-01 -5.12932360e-01]\n"
          ]
        }
      ]
    },
    {
      "cell_type": "code",
      "source": [
        "def vectorize_str(token_list):\n",
        "    embedd = []\n",
        "    for word in token_list:\n",
        "        embedd.append(fast_Text_model.wv['word'])\n",
        "\n",
        "df['text'] = [fast_Text_model.wv[word] for word in df['text']]"
      ],
      "metadata": {
        "colab": {
          "base_uri": "https://localhost:8080/",
          "height": 206
        },
        "id": "TXZ15kZbMtkA",
        "outputId": "afd21c64-b83c-4cc6-adad-e093540a7342"
      },
      "execution_count": null,
      "outputs": [
        {
          "output_type": "execute_result",
          "data": {
            "text/plain": [
              "                                                Path  \\\n",
              "0  /content/drive/MyDrive/tobaco_OCR/Resume/50521...   \n",
              "1  /content/drive/MyDrive/tobaco_OCR/Resume/50630...   \n",
              "2  /content/drive/MyDrive/tobaco_OCR/Resume/40028...   \n",
              "3  /content/drive/MyDrive/tobaco_OCR/Resume/10150...   \n",
              "4  /content/drive/MyDrive/tobaco_OCR/Resume/50538...   \n",
              "\n",
              "                                                text  \n",
              "0  [curriculum, vita, collaborate, investigator, ...  \n",
              "1  [ff, principal, investigatorprogram, director,...  \n",
              "2  [name, address, date, birth, place, birth, edu...  \n",
              "3  [_, university, miami, curriculum, vita, stand...  \n",
              "4  [biographical, sketch, provide, follow, inform...  "
            ],
            "text/html": [
              "\n",
              "  <div id=\"df-7f0f5d7c-6cf6-4141-9c86-29d54ec39f88\">\n",
              "    <div class=\"colab-df-container\">\n",
              "      <div>\n",
              "<style scoped>\n",
              "    .dataframe tbody tr th:only-of-type {\n",
              "        vertical-align: middle;\n",
              "    }\n",
              "\n",
              "    .dataframe tbody tr th {\n",
              "        vertical-align: top;\n",
              "    }\n",
              "\n",
              "    .dataframe thead th {\n",
              "        text-align: right;\n",
              "    }\n",
              "</style>\n",
              "<table border=\"1\" class=\"dataframe\">\n",
              "  <thead>\n",
              "    <tr style=\"text-align: right;\">\n",
              "      <th></th>\n",
              "      <th>Path</th>\n",
              "      <th>text</th>\n",
              "    </tr>\n",
              "  </thead>\n",
              "  <tbody>\n",
              "    <tr>\n",
              "      <th>0</th>\n",
              "      <td>/content/drive/MyDrive/tobaco_OCR/Resume/50521...</td>\n",
              "      <td>[curriculum, vita, collaborate, investigator, ...</td>\n",
              "    </tr>\n",
              "    <tr>\n",
              "      <th>1</th>\n",
              "      <td>/content/drive/MyDrive/tobaco_OCR/Resume/50630...</td>\n",
              "      <td>[ff, principal, investigatorprogram, director,...</td>\n",
              "    </tr>\n",
              "    <tr>\n",
              "      <th>2</th>\n",
              "      <td>/content/drive/MyDrive/tobaco_OCR/Resume/40028...</td>\n",
              "      <td>[name, address, date, birth, place, birth, edu...</td>\n",
              "    </tr>\n",
              "    <tr>\n",
              "      <th>3</th>\n",
              "      <td>/content/drive/MyDrive/tobaco_OCR/Resume/10150...</td>\n",
              "      <td>[_, university, miami, curriculum, vita, stand...</td>\n",
              "    </tr>\n",
              "    <tr>\n",
              "      <th>4</th>\n",
              "      <td>/content/drive/MyDrive/tobaco_OCR/Resume/50538...</td>\n",
              "      <td>[biographical, sketch, provide, follow, inform...</td>\n",
              "    </tr>\n",
              "  </tbody>\n",
              "</table>\n",
              "</div>\n",
              "      <button class=\"colab-df-convert\" onclick=\"convertToInteractive('df-7f0f5d7c-6cf6-4141-9c86-29d54ec39f88')\"\n",
              "              title=\"Convert this dataframe to an interactive table.\"\n",
              "              style=\"display:none;\">\n",
              "        \n",
              "  <svg xmlns=\"http://www.w3.org/2000/svg\" height=\"24px\"viewBox=\"0 0 24 24\"\n",
              "       width=\"24px\">\n",
              "    <path d=\"M0 0h24v24H0V0z\" fill=\"none\"/>\n",
              "    <path d=\"M18.56 5.44l.94 2.06.94-2.06 2.06-.94-2.06-.94-.94-2.06-.94 2.06-2.06.94zm-11 1L8.5 8.5l.94-2.06 2.06-.94-2.06-.94L8.5 2.5l-.94 2.06-2.06.94zm10 10l.94 2.06.94-2.06 2.06-.94-2.06-.94-.94-2.06-.94 2.06-2.06.94z\"/><path d=\"M17.41 7.96l-1.37-1.37c-.4-.4-.92-.59-1.43-.59-.52 0-1.04.2-1.43.59L10.3 9.45l-7.72 7.72c-.78.78-.78 2.05 0 2.83L4 21.41c.39.39.9.59 1.41.59.51 0 1.02-.2 1.41-.59l7.78-7.78 2.81-2.81c.8-.78.8-2.07 0-2.86zM5.41 20L4 18.59l7.72-7.72 1.47 1.35L5.41 20z\"/>\n",
              "  </svg>\n",
              "      </button>\n",
              "      \n",
              "  <style>\n",
              "    .colab-df-container {\n",
              "      display:flex;\n",
              "      flex-wrap:wrap;\n",
              "      gap: 12px;\n",
              "    }\n",
              "\n",
              "    .colab-df-convert {\n",
              "      background-color: #E8F0FE;\n",
              "      border: none;\n",
              "      border-radius: 50%;\n",
              "      cursor: pointer;\n",
              "      display: none;\n",
              "      fill: #1967D2;\n",
              "      height: 32px;\n",
              "      padding: 0 0 0 0;\n",
              "      width: 32px;\n",
              "    }\n",
              "\n",
              "    .colab-df-convert:hover {\n",
              "      background-color: #E2EBFA;\n",
              "      box-shadow: 0px 1px 2px rgba(60, 64, 67, 0.3), 0px 1px 3px 1px rgba(60, 64, 67, 0.15);\n",
              "      fill: #174EA6;\n",
              "    }\n",
              "\n",
              "    [theme=dark] .colab-df-convert {\n",
              "      background-color: #3B4455;\n",
              "      fill: #D2E3FC;\n",
              "    }\n",
              "\n",
              "    [theme=dark] .colab-df-convert:hover {\n",
              "      background-color: #434B5C;\n",
              "      box-shadow: 0px 1px 3px 1px rgba(0, 0, 0, 0.15);\n",
              "      filter: drop-shadow(0px 1px 2px rgba(0, 0, 0, 0.3));\n",
              "      fill: #FFFFFF;\n",
              "    }\n",
              "  </style>\n",
              "\n",
              "      <script>\n",
              "        const buttonEl =\n",
              "          document.querySelector('#df-7f0f5d7c-6cf6-4141-9c86-29d54ec39f88 button.colab-df-convert');\n",
              "        buttonEl.style.display =\n",
              "          google.colab.kernel.accessAllowed ? 'block' : 'none';\n",
              "\n",
              "        async function convertToInteractive(key) {\n",
              "          const element = document.querySelector('#df-7f0f5d7c-6cf6-4141-9c86-29d54ec39f88');\n",
              "          const dataTable =\n",
              "            await google.colab.kernel.invokeFunction('convertToInteractive',\n",
              "                                                     [key], {});\n",
              "          if (!dataTable) return;\n",
              "\n",
              "          const docLinkHtml = 'Like what you see? Visit the ' +\n",
              "            '<a target=\"_blank\" href=https://colab.research.google.com/notebooks/data_table.ipynb>data table notebook</a>'\n",
              "            + ' to learn more about interactive tables.';\n",
              "          element.innerHTML = '';\n",
              "          dataTable['output_type'] = 'display_data';\n",
              "          await google.colab.output.renderOutput(dataTable, element);\n",
              "          const docLink = document.createElement('div');\n",
              "          docLink.innerHTML = docLinkHtml;\n",
              "          element.appendChild(docLink);\n",
              "        }\n",
              "      </script>\n",
              "    </div>\n",
              "  </div>\n",
              "  "
            ]
          },
          "metadata": {},
          "execution_count": 24
        }
      ]
    },
    {
      "cell_type": "code",
      "source": [
        "biglist = []\n",
        "for this_list in df['text']:\n",
        "    for i in this_list:\n",
        "        biglist.append(i)\n",
        "\n",
        "print(len(biglist))\n",
        "print(len(set(biglist)))"
      ],
      "metadata": {
        "colab": {
          "base_uri": "https://localhost:8080/"
        },
        "id": "6vesJp81MzCH",
        "outputId": "fd3a718b-8422-4328-d947-b51a5e01a3da"
      },
      "execution_count": null,
      "outputs": [
        {
          "output_type": "stream",
          "name": "stdout",
          "text": [
            "528520\n",
            "77684\n"
          ]
        }
      ]
    },
    {
      "cell_type": "code",
      "source": [
        ""
      ],
      "metadata": {
        "id": "r_uQP3d8NwG8"
      },
      "execution_count": null,
      "outputs": []
    }
  ]
}