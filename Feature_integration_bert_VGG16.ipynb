{
  "nbformat": 4,
  "nbformat_minor": 0,
  "metadata": {
    "colab": {
      "name": "Feature_integration_bert_VGG16.ipynb",
      "provenance": [],
      "mount_file_id": "1W5j0SicwneHpYMvXAuXGq91uYBJy2VZA",
      "authorship_tag": "ABX9TyN8IYs8VhpMvO9gVZzFJRQ0",
      "include_colab_link": true
    },
    "kernelspec": {
      "name": "python3",
      "display_name": "Python 3"
    },
    "language_info": {
      "name": "python"
    },
    "accelerator": "GPU"
  },
  "cells": [
    {
      "cell_type": "markdown",
      "metadata": {
        "id": "view-in-github",
        "colab_type": "text"
      },
      "source": [
        "<a href=\"https://colab.research.google.com/github/R4HUL-ROY/Multimodal_feature_extraction/blob/main/Feature_integration_bert_VGG16.ipynb\" target=\"_parent\"><img src=\"https://colab.research.google.com/assets/colab-badge.svg\" alt=\"Open In Colab\"/></a>"
      ]
    },
    {
      "cell_type": "markdown",
      "source": [
        "# Multimodal Integration"
      ],
      "metadata": {
        "id": "beJeWKCU-SkY"
      }
    },
    {
      "cell_type": "code",
      "source": [
        "!pip install -q tensorflow_text\n",
        "from sklearn.model_selection import train_test_split\n",
        "import matplotlib.pyplot as plt\n",
        "import pandas as pd\n",
        "import numpy as np\n",
        "import os\n",
        "import pathlib\n",
        "import tensorflow as tf\n",
        "import tensorflow_hub as hub\n",
        "import tensorflow_text as text\n",
        "from tensorflow import keras\n",
        "from tensorflow.keras import regularizers\n",
        "from tensorflow.keras.models import Model, load_model\n",
        "from tensorflow.keras.optimizers import Adam, Adamax"
      ],
      "metadata": {
        "id": "UT_5pzTi-Ogv"
      },
      "execution_count": 1,
      "outputs": []
    },
    {
      "cell_type": "markdown",
      "source": [
        "# Read the dataset and merge Text and Image"
      ],
      "metadata": {
        "id": "JeNNYA2dBYnm"
      }
    },
    {
      "cell_type": "code",
      "source": [
        "img_data_root = pathlib.Path('/content/drive/MyDrive/Tobacco3482-jpg/')\n",
        "print(img_data_root)\n",
        "for item in img_data_root.iterdir():\n",
        "  print(item)\n",
        "\n",
        "print()\n",
        "\n",
        "text_data_root = pathlib.Path('/content/drive/MyDrive/tobaco_OCR/')\n",
        "print(text_data_root)\n",
        "for item in text_data_root.iterdir():\n",
        "  print(item)\n"
      ],
      "metadata": {
        "colab": {
          "base_uri": "https://localhost:8080/"
        },
        "id": "0l77eEqK-Rhb",
        "outputId": "cc46021f-8e5e-4bca-edf9-88a6dc11216f"
      },
      "execution_count": 2,
      "outputs": [
        {
          "output_type": "stream",
          "name": "stdout",
          "text": [
            "/content/drive/MyDrive/Tobacco3482-jpg\n",
            "/content/drive/MyDrive/Tobacco3482-jpg/Tobacco3482-jpg\n",
            "/content/drive/MyDrive/Tobacco3482-jpg/ADVE\n",
            "/content/drive/MyDrive/Tobacco3482-jpg/Form\n",
            "/content/drive/MyDrive/Tobacco3482-jpg/Note\n",
            "/content/drive/MyDrive/Tobacco3482-jpg/Email\n",
            "/content/drive/MyDrive/Tobacco3482-jpg/News\n",
            "/content/drive/MyDrive/Tobacco3482-jpg/Resume\n",
            "/content/drive/MyDrive/Tobacco3482-jpg/Scientific\n",
            "/content/drive/MyDrive/Tobacco3482-jpg/Memo\n",
            "/content/drive/MyDrive/Tobacco3482-jpg/Report\n",
            "/content/drive/MyDrive/Tobacco3482-jpg/Letter\n",
            "\n",
            "/content/drive/MyDrive/tobaco_OCR\n",
            "/content/drive/MyDrive/tobaco_OCR/Resume\n",
            "/content/drive/MyDrive/tobaco_OCR/Memo\n",
            "/content/drive/MyDrive/tobaco_OCR/Letter\n",
            "/content/drive/MyDrive/tobaco_OCR/Report\n",
            "/content/drive/MyDrive/tobaco_OCR/Email\n",
            "/content/drive/MyDrive/tobaco_OCR/ADVE\n",
            "/content/drive/MyDrive/tobaco_OCR/News\n",
            "/content/drive/MyDrive/tobaco_OCR/Note\n",
            "/content/drive/MyDrive/tobaco_OCR/Form\n",
            "/content/drive/MyDrive/tobaco_OCR/Scientific\n"
          ]
        }
      ]
    },
    {
      "cell_type": "code",
      "source": [
        "def get_corresponding_txtpath(img_path):\n",
        "    return img_path.replace(\"Tobacco3482-jpg\", \"tobaco_OCR\")[:-3] + \"txt\"\n",
        "    \n",
        "\n",
        "def get_file_paths_and_labels(img_data_root, text_data_root):\n",
        "     img_paths = [str(path) for path in img_data_root.glob('*/*.jpg')]\n",
        "     text_paths = [get_corresponding_txtpath(this_path) for this_path in img_paths]\n",
        "     img_labels = [p.split(\"/\")[-2] for p in img_paths]\n",
        "     text_labels = [p.split(\"/\")[-2] for p in text_paths]\n",
        "     return img_paths, img_labels, text_paths, text_labels\n",
        "\n",
        "img_paths, img_labels, text_paths, text_labels = get_file_paths_and_labels(img_data_root, text_data_root)\n",
        "print(len(img_paths))\n",
        "print(len(img_labels))\n",
        "print(len(text_paths))\n",
        "print(len(text_labels))\n"
      ],
      "metadata": {
        "colab": {
          "base_uri": "https://localhost:8080/"
        },
        "id": "TQ5si-SCBU-F",
        "outputId": "15e68f51-015e-4484-c426-7f33c173a5df"
      },
      "execution_count": 3,
      "outputs": [
        {
          "output_type": "stream",
          "name": "stdout",
          "text": [
            "3482\n",
            "3482\n",
            "3482\n",
            "3482\n"
          ]
        }
      ]
    },
    {
      "cell_type": "code",
      "source": [
        "def get_text_from_path(path):\n",
        "    with open(path) as f:\n",
        "        lines = f.readlines()\n",
        "        lines  = ' '.join(lines)\n",
        "        f.close()\n",
        "    return lines\n",
        "\n",
        "out_text = get_text_from_path('/content/drive/MyDrive/tobaco_OCR/ADVE/0000435350.txt') \n",
        "# out_text = preprocess_text(out_text)\n",
        "print(out_text)"
      ],
      "metadata": {
        "colab": {
          "base_uri": "https://localhost:8080/"
        },
        "id": "hhlzGlyzmUiV",
        "outputId": "026069c7-3bdf-43eb-b0c7-9bf1cee47803"
      },
      "execution_count": 4,
      "outputs": [
        {
          "output_type": "stream",
          "name": "stdout",
          "text": [
            "\n",
            " TE che fitm\n",
            " m66400 7127\n",
            " KOOLS are the only cigarettes that taste\n",
            " good when you have &® cold. They taste even\n",
            " better when you don't.\n",
            " Job No, K-2978\n",
            " ‘Mevapapars—300 iner—Mareh & April, 1956\n",
            " (5 9-4 in 4 108 ines) Pinel Proof (7) March 15, 1956\n",
            "\n"
          ]
        }
      ]
    },
    {
      "cell_type": "code",
      "source": [
        "text_contains = []\n",
        "c= 0 \n",
        "for i, this_path in enumerate(text_paths):\n",
        "    text_contains.append(get_text_from_path(this_path))\n",
        "    print(c, end=\" \")\n",
        "    c +=1 "
      ],
      "metadata": {
        "colab": {
          "base_uri": "https://localhost:8080/"
        },
        "id": "cB_oa6twmqzz",
        "outputId": "6470f07b-7fa0-48a5-95d8-79c63f761a50"
      },
      "execution_count": 5,
      "outputs": [
        {
          "output_type": "stream",
          "name": "stdout",
          "text": [
            "0 1 2 3 4 5 6 7 8 9 10 11 12 13 14 15 16 17 18 19 20 21 22 23 24 25 26 27 28 29 30 31 32 33 34 35 36 37 38 39 40 41 42 43 44 45 46 47 48 49 50 51 52 53 54 55 56 57 58 59 60 61 62 63 64 65 66 67 68 69 70 71 72 73 74 75 76 77 78 79 80 81 82 83 84 85 86 87 88 89 90 91 92 93 94 95 96 97 98 99 100 101 102 103 104 105 106 107 108 109 110 111 112 113 114 115 116 117 118 119 120 121 122 123 124 125 126 127 128 129 130 131 132 133 134 135 136 137 138 139 140 141 142 143 144 145 146 147 148 149 150 151 152 153 154 155 156 157 158 159 160 161 162 163 164 165 166 167 168 169 170 171 172 173 174 175 176 177 178 179 180 181 182 183 184 185 186 187 188 189 190 191 192 193 194 195 196 197 198 199 200 201 202 203 204 205 206 207 208 209 210 211 212 213 214 215 216 217 218 219 220 221 222 223 224 225 226 227 228 229 230 231 232 233 234 235 236 237 238 239 240 241 242 243 244 245 246 247 248 249 250 251 252 253 254 255 256 257 258 259 260 261 262 263 264 265 266 267 268 269 270 271 272 273 274 275 276 277 278 279 280 281 282 283 284 285 286 287 288 289 290 291 292 293 294 295 296 297 298 299 300 301 302 303 304 305 306 307 308 309 310 311 312 313 314 315 316 317 318 319 320 321 322 323 324 325 326 327 328 329 330 331 332 333 334 335 336 337 338 339 340 341 342 343 344 345 346 347 348 349 350 351 352 353 354 355 356 357 358 359 360 361 362 363 364 365 366 367 368 369 370 371 372 373 374 375 376 377 378 379 380 381 382 383 384 385 386 387 388 389 390 391 392 393 394 395 396 397 398 399 400 401 402 403 404 405 406 407 408 409 410 411 412 413 414 415 416 417 418 419 420 421 422 423 424 425 426 427 428 429 430 431 432 433 434 435 436 437 438 439 440 441 442 443 444 445 446 447 448 449 450 451 452 453 454 455 456 457 458 459 460 461 462 463 464 465 466 467 468 469 470 471 472 473 474 475 476 477 478 479 480 481 482 483 484 485 486 487 488 489 490 491 492 493 494 495 496 497 498 499 500 501 502 503 504 505 506 507 508 509 510 511 512 513 514 515 516 517 518 519 520 521 522 523 524 525 526 527 528 529 530 531 532 533 534 535 536 537 538 539 540 541 542 543 544 545 546 547 548 549 550 551 552 553 554 555 556 557 558 559 560 561 562 563 564 565 566 567 568 569 570 571 572 573 574 575 576 577 578 579 580 581 582 583 584 585 586 587 588 589 590 591 592 593 594 595 596 597 598 599 600 601 602 603 604 605 606 607 608 609 610 611 612 613 614 615 616 617 618 619 620 621 622 623 624 625 626 627 628 629 630 631 632 633 634 635 636 637 638 639 640 641 642 643 644 645 646 647 648 649 650 651 652 653 654 655 656 657 658 659 660 661 662 663 664 665 666 667 668 669 670 671 672 673 674 675 676 677 678 679 680 681 682 683 684 685 686 687 688 689 690 691 692 693 694 695 696 697 698 699 700 701 702 703 704 705 706 707 708 709 710 711 712 713 714 715 716 717 718 719 720 721 722 723 724 725 726 727 728 729 730 731 732 733 734 735 736 737 738 739 740 741 742 743 744 745 746 747 748 749 750 751 752 753 754 755 756 757 758 759 760 761 762 763 764 765 766 767 768 769 770 771 772 773 774 775 776 777 778 779 780 781 782 783 784 785 786 787 788 789 790 791 792 793 794 795 796 797 798 799 800 801 802 803 804 805 806 807 808 809 810 811 812 813 814 815 816 817 818 819 820 821 822 823 824 825 826 827 828 829 830 831 832 833 834 835 836 837 838 839 840 841 842 843 844 845 846 847 848 849 850 851 852 853 854 855 856 857 858 859 860 861 862 863 864 865 866 867 868 869 870 871 872 873 874 875 876 877 878 879 880 881 882 883 884 885 886 887 888 889 890 891 892 893 894 895 896 897 898 899 900 901 902 903 904 905 906 907 908 909 910 911 912 913 914 915 916 917 918 919 920 921 922 923 924 925 926 927 928 929 930 931 932 933 934 935 936 937 938 939 940 941 942 943 944 945 946 947 948 949 950 951 952 953 954 955 956 957 958 959 960 961 962 963 964 965 966 967 968 969 970 971 972 973 974 975 976 977 978 979 980 981 982 983 984 985 986 987 988 989 990 991 992 993 994 995 996 997 998 999 1000 1001 1002 1003 1004 1005 1006 1007 1008 1009 1010 1011 1012 1013 1014 1015 1016 1017 1018 1019 1020 1021 1022 1023 1024 1025 1026 1027 1028 1029 1030 1031 1032 1033 1034 1035 1036 1037 1038 1039 1040 1041 1042 1043 1044 1045 1046 1047 1048 1049 1050 1051 1052 1053 1054 1055 1056 1057 1058 1059 1060 1061 1062 1063 1064 1065 1066 1067 1068 1069 1070 1071 1072 1073 1074 1075 1076 1077 1078 1079 1080 1081 1082 1083 1084 1085 1086 1087 1088 1089 1090 1091 1092 1093 1094 1095 1096 1097 1098 1099 1100 1101 1102 1103 1104 1105 1106 1107 1108 1109 1110 1111 1112 1113 1114 1115 1116 1117 1118 1119 1120 1121 1122 1123 1124 1125 1126 1127 1128 1129 1130 1131 1132 1133 1134 1135 1136 1137 1138 1139 1140 1141 1142 1143 1144 1145 1146 1147 1148 1149 1150 1151 1152 1153 1154 1155 1156 1157 1158 1159 1160 1161 1162 1163 1164 1165 1166 1167 1168 1169 1170 1171 1172 1173 1174 1175 1176 1177 1178 1179 1180 1181 1182 1183 1184 1185 1186 1187 1188 1189 1190 1191 1192 1193 1194 1195 1196 1197 1198 1199 1200 1201 1202 1203 1204 1205 1206 1207 1208 1209 1210 1211 1212 1213 1214 1215 1216 1217 1218 1219 1220 1221 1222 1223 1224 1225 1226 1227 1228 1229 1230 1231 1232 1233 1234 1235 1236 1237 1238 1239 1240 1241 1242 1243 1244 1245 1246 1247 1248 1249 1250 1251 1252 1253 1254 1255 1256 1257 1258 1259 1260 1261 1262 1263 1264 1265 1266 1267 1268 1269 1270 1271 1272 1273 1274 1275 1276 1277 1278 1279 1280 1281 1282 1283 1284 1285 1286 1287 1288 1289 1290 1291 1292 1293 1294 1295 1296 1297 1298 1299 1300 1301 1302 1303 1304 1305 1306 1307 1308 1309 1310 1311 1312 1313 1314 1315 1316 1317 1318 1319 1320 1321 1322 1323 1324 1325 1326 1327 1328 1329 1330 1331 1332 1333 1334 1335 1336 1337 1338 1339 1340 1341 1342 1343 1344 1345 1346 1347 1348 1349 1350 1351 1352 1353 1354 1355 1356 1357 1358 1359 1360 1361 1362 1363 1364 1365 1366 1367 1368 1369 1370 1371 1372 1373 1374 1375 1376 1377 1378 1379 1380 1381 1382 1383 1384 1385 1386 1387 1388 1389 1390 1391 1392 1393 1394 1395 1396 1397 1398 1399 1400 1401 1402 1403 1404 1405 1406 1407 1408 1409 1410 1411 1412 1413 1414 1415 1416 1417 1418 1419 1420 1421 1422 1423 1424 1425 1426 1427 1428 1429 1430 1431 1432 1433 1434 1435 1436 1437 1438 1439 1440 1441 1442 1443 1444 1445 1446 1447 1448 1449 1450 1451 1452 1453 1454 1455 1456 1457 1458 1459 1460 1461 1462 1463 1464 1465 1466 1467 1468 1469 1470 1471 1472 1473 1474 1475 1476 1477 1478 1479 1480 1481 1482 1483 1484 1485 1486 1487 1488 1489 1490 1491 1492 1493 1494 1495 1496 1497 1498 1499 1500 1501 1502 1503 1504 1505 1506 1507 1508 1509 1510 1511 1512 1513 1514 1515 1516 1517 1518 1519 1520 1521 1522 1523 1524 1525 1526 1527 1528 1529 1530 1531 1532 1533 1534 1535 1536 1537 1538 1539 1540 1541 1542 1543 1544 1545 1546 1547 1548 1549 1550 1551 1552 1553 1554 1555 1556 1557 1558 1559 1560 1561 1562 1563 1564 1565 1566 1567 1568 1569 1570 1571 1572 1573 1574 1575 1576 1577 1578 1579 1580 1581 1582 1583 1584 1585 1586 1587 1588 1589 1590 1591 1592 1593 1594 1595 1596 1597 1598 1599 1600 1601 1602 1603 1604 1605 1606 1607 1608 1609 1610 1611 1612 1613 1614 1615 1616 1617 1618 1619 1620 1621 1622 1623 1624 1625 1626 1627 1628 1629 1630 1631 1632 1633 1634 1635 1636 1637 1638 1639 1640 1641 1642 1643 1644 1645 1646 1647 1648 1649 1650 1651 1652 1653 1654 1655 1656 1657 1658 1659 1660 1661 1662 1663 1664 1665 1666 1667 1668 1669 1670 1671 1672 1673 1674 1675 1676 1677 1678 1679 1680 1681 1682 1683 1684 1685 1686 1687 1688 1689 1690 1691 1692 1693 1694 1695 1696 1697 1698 1699 1700 1701 1702 1703 1704 1705 1706 1707 1708 1709 1710 1711 1712 1713 1714 1715 1716 1717 1718 1719 1720 1721 1722 1723 1724 1725 1726 1727 1728 1729 1730 1731 1732 1733 1734 1735 1736 1737 1738 1739 1740 1741 1742 1743 1744 1745 1746 1747 1748 1749 1750 1751 1752 1753 1754 1755 1756 1757 1758 1759 1760 1761 1762 1763 1764 1765 1766 1767 1768 1769 1770 1771 1772 1773 1774 1775 1776 1777 1778 1779 1780 1781 1782 1783 1784 1785 1786 1787 1788 1789 1790 1791 1792 1793 1794 1795 1796 1797 1798 1799 1800 1801 1802 1803 1804 1805 1806 1807 1808 1809 1810 1811 1812 1813 1814 1815 1816 1817 1818 1819 1820 1821 1822 1823 1824 1825 1826 1827 1828 1829 1830 1831 1832 1833 1834 1835 1836 1837 1838 1839 1840 1841 1842 1843 1844 1845 1846 1847 1848 1849 1850 1851 1852 1853 1854 1855 1856 1857 1858 1859 1860 1861 1862 1863 1864 1865 1866 1867 1868 1869 1870 1871 1872 1873 1874 1875 1876 1877 1878 1879 1880 1881 1882 1883 1884 1885 1886 1887 1888 1889 1890 1891 1892 1893 1894 1895 1896 1897 1898 1899 1900 1901 1902 1903 1904 1905 1906 1907 1908 1909 1910 1911 1912 1913 1914 1915 1916 1917 1918 1919 1920 1921 1922 1923 1924 1925 1926 1927 1928 1929 1930 1931 1932 1933 1934 1935 1936 1937 1938 1939 1940 1941 1942 1943 1944 1945 1946 1947 1948 1949 1950 1951 1952 1953 1954 1955 1956 1957 1958 1959 1960 1961 1962 1963 1964 1965 1966 1967 1968 1969 1970 1971 1972 1973 1974 1975 1976 1977 1978 1979 1980 1981 1982 1983 1984 1985 1986 1987 1988 1989 1990 1991 1992 1993 1994 1995 1996 1997 1998 1999 2000 2001 2002 2003 2004 2005 2006 2007 2008 2009 2010 2011 2012 2013 2014 2015 2016 2017 2018 2019 2020 2021 2022 2023 2024 2025 2026 2027 2028 2029 2030 2031 2032 2033 2034 2035 2036 2037 2038 2039 2040 2041 2042 2043 2044 2045 2046 2047 2048 2049 2050 2051 2052 2053 2054 2055 2056 2057 2058 2059 2060 2061 2062 2063 2064 2065 2066 2067 2068 2069 2070 2071 2072 2073 2074 2075 2076 2077 2078 2079 2080 2081 2082 2083 2084 2085 2086 2087 2088 2089 2090 2091 2092 2093 2094 2095 2096 2097 2098 2099 2100 2101 2102 2103 2104 2105 2106 2107 2108 2109 2110 2111 2112 2113 2114 2115 2116 2117 2118 2119 2120 2121 2122 2123 2124 2125 2126 2127 2128 2129 2130 2131 2132 2133 2134 2135 2136 2137 2138 2139 2140 2141 2142 2143 2144 2145 2146 2147 2148 2149 2150 2151 2152 2153 2154 2155 2156 2157 2158 2159 2160 2161 2162 2163 2164 2165 2166 2167 2168 2169 2170 2171 2172 2173 2174 2175 2176 2177 2178 2179 2180 2181 2182 2183 2184 2185 2186 2187 2188 2189 2190 2191 2192 2193 2194 2195 2196 2197 2198 2199 2200 2201 2202 2203 2204 2205 2206 2207 2208 2209 2210 2211 2212 2213 2214 2215 2216 2217 2218 2219 2220 2221 2222 2223 2224 2225 2226 2227 2228 2229 2230 2231 2232 2233 2234 2235 2236 2237 2238 2239 2240 2241 2242 2243 2244 2245 2246 2247 2248 2249 2250 2251 2252 2253 2254 2255 2256 2257 2258 2259 2260 2261 2262 2263 2264 2265 2266 2267 2268 2269 2270 2271 2272 2273 2274 2275 2276 2277 2278 2279 2280 2281 2282 2283 2284 2285 2286 2287 2288 2289 2290 2291 2292 2293 2294 2295 2296 2297 2298 2299 2300 2301 2302 2303 2304 2305 2306 2307 2308 2309 2310 2311 2312 2313 2314 2315 2316 2317 2318 2319 2320 2321 2322 2323 2324 2325 2326 2327 2328 2329 2330 2331 2332 2333 2334 2335 2336 2337 2338 2339 2340 2341 2342 2343 2344 2345 2346 2347 2348 2349 2350 2351 2352 2353 2354 2355 2356 2357 2358 2359 2360 2361 2362 2363 2364 2365 2366 2367 2368 2369 2370 2371 2372 2373 2374 2375 2376 2377 2378 2379 2380 2381 2382 2383 2384 2385 2386 2387 2388 2389 2390 2391 2392 2393 2394 2395 2396 2397 2398 2399 2400 2401 2402 2403 2404 2405 2406 2407 2408 2409 2410 2411 2412 2413 2414 2415 2416 2417 2418 2419 2420 2421 2422 2423 2424 2425 2426 2427 2428 2429 2430 2431 2432 2433 2434 2435 2436 2437 2438 2439 2440 2441 2442 2443 2444 2445 2446 2447 2448 2449 2450 2451 2452 2453 2454 2455 2456 2457 2458 2459 2460 2461 2462 2463 2464 2465 2466 2467 2468 2469 2470 2471 2472 2473 2474 2475 2476 2477 2478 2479 2480 2481 2482 2483 2484 2485 2486 2487 2488 2489 2490 2491 2492 2493 2494 2495 2496 2497 2498 2499 2500 2501 2502 2503 2504 2505 2506 2507 2508 2509 2510 2511 2512 2513 2514 2515 2516 2517 2518 2519 2520 2521 2522 2523 2524 2525 2526 2527 2528 2529 2530 2531 2532 2533 2534 2535 2536 2537 2538 2539 2540 2541 2542 2543 2544 2545 2546 2547 2548 2549 2550 2551 2552 2553 2554 2555 2556 2557 2558 2559 2560 2561 2562 2563 2564 2565 2566 2567 2568 2569 2570 2571 2572 2573 2574 2575 2576 2577 2578 2579 2580 2581 2582 2583 2584 2585 2586 2587 2588 2589 2590 2591 2592 2593 2594 2595 2596 2597 2598 2599 2600 2601 2602 2603 2604 2605 2606 2607 2608 2609 2610 2611 2612 2613 2614 2615 2616 2617 2618 2619 2620 2621 2622 2623 2624 2625 2626 2627 2628 2629 2630 2631 2632 2633 2634 2635 2636 2637 2638 2639 2640 2641 2642 2643 2644 2645 2646 2647 2648 2649 2650 2651 2652 2653 2654 2655 2656 2657 2658 2659 2660 2661 2662 2663 2664 2665 2666 2667 2668 2669 2670 2671 2672 2673 2674 2675 2676 2677 2678 2679 2680 2681 2682 2683 2684 2685 2686 2687 2688 2689 2690 2691 2692 2693 2694 2695 2696 2697 2698 2699 2700 2701 2702 2703 2704 2705 2706 2707 2708 2709 2710 2711 2712 2713 2714 2715 2716 2717 2718 2719 2720 2721 2722 2723 2724 2725 2726 2727 2728 2729 2730 2731 2732 2733 2734 2735 2736 2737 2738 2739 2740 2741 2742 2743 2744 2745 2746 2747 2748 2749 2750 2751 2752 2753 2754 2755 2756 2757 2758 2759 2760 2761 2762 2763 2764 2765 2766 2767 2768 2769 2770 2771 2772 2773 2774 2775 2776 2777 2778 2779 2780 2781 2782 2783 2784 2785 2786 2787 2788 2789 2790 2791 2792 2793 2794 2795 2796 2797 2798 2799 2800 2801 2802 2803 2804 2805 2806 2807 2808 2809 2810 2811 2812 2813 2814 2815 2816 2817 2818 2819 2820 2821 2822 2823 2824 2825 2826 2827 2828 2829 2830 2831 2832 2833 2834 2835 2836 2837 2838 2839 2840 2841 2842 2843 2844 2845 2846 2847 2848 2849 2850 2851 2852 2853 2854 2855 2856 2857 2858 2859 2860 2861 2862 2863 2864 2865 2866 2867 2868 2869 2870 2871 2872 2873 2874 2875 2876 2877 2878 2879 2880 2881 2882 2883 2884 2885 2886 2887 2888 2889 2890 2891 2892 2893 2894 2895 2896 2897 2898 2899 2900 2901 2902 2903 2904 2905 2906 2907 2908 2909 2910 2911 2912 2913 2914 2915 2916 2917 2918 2919 2920 2921 2922 2923 2924 2925 2926 2927 2928 2929 2930 2931 2932 2933 2934 2935 2936 2937 2938 2939 2940 2941 2942 2943 2944 2945 2946 2947 2948 2949 2950 2951 2952 2953 2954 2955 2956 2957 2958 2959 2960 2961 2962 2963 2964 2965 2966 2967 2968 2969 2970 2971 2972 2973 2974 2975 2976 2977 2978 2979 2980 2981 2982 2983 2984 2985 2986 2987 2988 2989 2990 2991 2992 2993 2994 2995 2996 2997 2998 2999 3000 3001 3002 3003 3004 3005 3006 3007 3008 3009 3010 3011 3012 3013 3014 3015 3016 3017 3018 3019 3020 3021 3022 3023 3024 3025 3026 3027 3028 3029 3030 3031 3032 3033 3034 3035 3036 3037 3038 3039 3040 3041 3042 3043 3044 3045 3046 3047 3048 3049 3050 3051 3052 3053 3054 3055 3056 3057 3058 3059 3060 3061 3062 3063 3064 3065 3066 3067 3068 3069 3070 3071 3072 3073 3074 3075 3076 3077 3078 3079 3080 3081 3082 3083 3084 3085 3086 3087 3088 3089 3090 3091 3092 3093 3094 3095 3096 3097 3098 3099 3100 3101 3102 3103 3104 3105 3106 3107 3108 3109 3110 3111 3112 3113 3114 3115 3116 3117 3118 3119 3120 3121 3122 3123 3124 3125 3126 3127 3128 3129 3130 3131 3132 3133 3134 3135 3136 3137 3138 3139 3140 3141 3142 3143 3144 3145 3146 3147 3148 3149 3150 3151 3152 3153 3154 3155 3156 3157 3158 3159 3160 3161 3162 3163 3164 3165 3166 3167 3168 3169 3170 3171 3172 3173 3174 3175 3176 3177 3178 3179 3180 3181 3182 3183 3184 3185 3186 3187 3188 3189 3190 3191 3192 3193 3194 3195 3196 3197 3198 3199 3200 3201 3202 3203 3204 3205 3206 3207 3208 3209 3210 3211 3212 3213 3214 3215 3216 3217 3218 3219 3220 3221 3222 3223 3224 3225 3226 3227 3228 3229 3230 3231 3232 3233 3234 3235 3236 3237 3238 3239 3240 3241 3242 3243 3244 3245 3246 3247 3248 3249 3250 3251 3252 3253 3254 3255 3256 3257 3258 3259 3260 3261 3262 3263 3264 3265 3266 3267 3268 3269 3270 3271 3272 3273 3274 3275 3276 3277 3278 3279 3280 3281 3282 3283 3284 3285 3286 3287 3288 3289 3290 3291 3292 3293 3294 3295 3296 3297 3298 3299 3300 3301 3302 3303 3304 3305 3306 3307 3308 3309 3310 3311 3312 3313 3314 3315 3316 3317 3318 3319 3320 3321 3322 3323 3324 3325 3326 3327 3328 3329 3330 3331 3332 3333 3334 3335 3336 3337 3338 3339 3340 3341 3342 3343 3344 3345 3346 3347 3348 3349 3350 3351 3352 3353 3354 3355 3356 3357 3358 3359 3360 3361 3362 3363 3364 3365 3366 3367 3368 3369 3370 3371 3372 3373 3374 3375 3376 3377 3378 3379 3380 3381 3382 3383 3384 3385 3386 3387 3388 3389 3390 3391 3392 3393 3394 3395 3396 3397 3398 3399 3400 3401 3402 3403 3404 3405 3406 3407 3408 3409 3410 3411 3412 3413 3414 3415 3416 3417 3418 3419 3420 3421 3422 3423 3424 3425 3426 3427 3428 3429 3430 3431 3432 3433 3434 3435 3436 3437 3438 3439 3440 3441 3442 3443 3444 3445 3446 3447 3448 3449 3450 3451 3452 3453 3454 3455 3456 3457 3458 3459 3460 3461 3462 3463 3464 3465 3466 3467 3468 3469 3470 3471 3472 3473 3474 3475 3476 3477 3478 3479 3480 3481 "
          ]
        }
      ]
    },
    {
      "cell_type": "code",
      "source": [
        "df = pd.DataFrame(list(zip(text_paths, text_contains, img_paths, img_labels)),\n",
        "               columns =['text_paths','texts', 'img_paths', 'data_label'])\n",
        "\n",
        "# Merged Dataframe\n",
        "df.head()"
      ],
      "metadata": {
        "colab": {
          "base_uri": "https://localhost:8080/",
          "height": 337
        },
        "id": "GJ6GIILid0y0",
        "outputId": "cb8f5e1b-e008-4ef2-a7f2-aea5ee736188"
      },
      "execution_count": 6,
      "outputs": [
        {
          "output_type": "execute_result",
          "data": {
            "text/plain": [
              "                                          text_paths  \\\n",
              "0  /content/drive/MyDrive/tobaco_OCR/ADVE/0000136...   \n",
              "1  /content/drive/MyDrive/tobaco_OCR/ADVE/0000435...   \n",
              "2  /content/drive/MyDrive/tobaco_OCR/ADVE/0030049...   \n",
              "3  /content/drive/MyDrive/tobaco_OCR/ADVE/0000556...   \n",
              "4  /content/drive/MyDrive/tobaco_OCR/ADVE/0349627...   \n",
              "\n",
              "                                               texts  \\\n",
              "0  \\n \\n \\n \\n A Mpertant as yar\\n sesiye teaeter...   \n",
              "1  \\n TE che fitm\\n m66400 7127\\n KOOLS are the o...   \n",
              "2  SR Onrel ules cee\\n Nee dss\\n The one tales WT...   \n",
              "3  so ARN Rr nr\\n BWR Ga ||\\n Vending Operators\\n...   \n",
              "4  \\n &\\n BR. :\\n er non\\n be 4\\n op Re eo eee ee...   \n",
              "\n",
              "                                           img_paths data_label  \n",
              "0  /content/drive/MyDrive/Tobacco3482-jpg/ADVE/00...       ADVE  \n",
              "1  /content/drive/MyDrive/Tobacco3482-jpg/ADVE/00...       ADVE  \n",
              "2  /content/drive/MyDrive/Tobacco3482-jpg/ADVE/00...       ADVE  \n",
              "3  /content/drive/MyDrive/Tobacco3482-jpg/ADVE/00...       ADVE  \n",
              "4  /content/drive/MyDrive/Tobacco3482-jpg/ADVE/03...       ADVE  "
            ],
            "text/html": [
              "\n",
              "  <div id=\"df-6b3582d3-b311-40a0-89d0-ba1cddbdb459\">\n",
              "    <div class=\"colab-df-container\">\n",
              "      <div>\n",
              "<style scoped>\n",
              "    .dataframe tbody tr th:only-of-type {\n",
              "        vertical-align: middle;\n",
              "    }\n",
              "\n",
              "    .dataframe tbody tr th {\n",
              "        vertical-align: top;\n",
              "    }\n",
              "\n",
              "    .dataframe thead th {\n",
              "        text-align: right;\n",
              "    }\n",
              "</style>\n",
              "<table border=\"1\" class=\"dataframe\">\n",
              "  <thead>\n",
              "    <tr style=\"text-align: right;\">\n",
              "      <th></th>\n",
              "      <th>text_paths</th>\n",
              "      <th>texts</th>\n",
              "      <th>img_paths</th>\n",
              "      <th>data_label</th>\n",
              "    </tr>\n",
              "  </thead>\n",
              "  <tbody>\n",
              "    <tr>\n",
              "      <th>0</th>\n",
              "      <td>/content/drive/MyDrive/tobaco_OCR/ADVE/0000136...</td>\n",
              "      <td>\\n \\n \\n \\n A Mpertant as yar\\n sesiye teaeter...</td>\n",
              "      <td>/content/drive/MyDrive/Tobacco3482-jpg/ADVE/00...</td>\n",
              "      <td>ADVE</td>\n",
              "    </tr>\n",
              "    <tr>\n",
              "      <th>1</th>\n",
              "      <td>/content/drive/MyDrive/tobaco_OCR/ADVE/0000435...</td>\n",
              "      <td>\\n TE che fitm\\n m66400 7127\\n KOOLS are the o...</td>\n",
              "      <td>/content/drive/MyDrive/Tobacco3482-jpg/ADVE/00...</td>\n",
              "      <td>ADVE</td>\n",
              "    </tr>\n",
              "    <tr>\n",
              "      <th>2</th>\n",
              "      <td>/content/drive/MyDrive/tobaco_OCR/ADVE/0030049...</td>\n",
              "      <td>SR Onrel ules cee\\n Nee dss\\n The one tales WT...</td>\n",
              "      <td>/content/drive/MyDrive/Tobacco3482-jpg/ADVE/00...</td>\n",
              "      <td>ADVE</td>\n",
              "    </tr>\n",
              "    <tr>\n",
              "      <th>3</th>\n",
              "      <td>/content/drive/MyDrive/tobaco_OCR/ADVE/0000556...</td>\n",
              "      <td>so ARN Rr nr\\n BWR Ga ||\\n Vending Operators\\n...</td>\n",
              "      <td>/content/drive/MyDrive/Tobacco3482-jpg/ADVE/00...</td>\n",
              "      <td>ADVE</td>\n",
              "    </tr>\n",
              "    <tr>\n",
              "      <th>4</th>\n",
              "      <td>/content/drive/MyDrive/tobaco_OCR/ADVE/0349627...</td>\n",
              "      <td>\\n &amp;\\n BR. :\\n er non\\n be 4\\n op Re eo eee ee...</td>\n",
              "      <td>/content/drive/MyDrive/Tobacco3482-jpg/ADVE/03...</td>\n",
              "      <td>ADVE</td>\n",
              "    </tr>\n",
              "  </tbody>\n",
              "</table>\n",
              "</div>\n",
              "      <button class=\"colab-df-convert\" onclick=\"convertToInteractive('df-6b3582d3-b311-40a0-89d0-ba1cddbdb459')\"\n",
              "              title=\"Convert this dataframe to an interactive table.\"\n",
              "              style=\"display:none;\">\n",
              "        \n",
              "  <svg xmlns=\"http://www.w3.org/2000/svg\" height=\"24px\"viewBox=\"0 0 24 24\"\n",
              "       width=\"24px\">\n",
              "    <path d=\"M0 0h24v24H0V0z\" fill=\"none\"/>\n",
              "    <path d=\"M18.56 5.44l.94 2.06.94-2.06 2.06-.94-2.06-.94-.94-2.06-.94 2.06-2.06.94zm-11 1L8.5 8.5l.94-2.06 2.06-.94-2.06-.94L8.5 2.5l-.94 2.06-2.06.94zm10 10l.94 2.06.94-2.06 2.06-.94-2.06-.94-.94-2.06-.94 2.06-2.06.94z\"/><path d=\"M17.41 7.96l-1.37-1.37c-.4-.4-.92-.59-1.43-.59-.52 0-1.04.2-1.43.59L10.3 9.45l-7.72 7.72c-.78.78-.78 2.05 0 2.83L4 21.41c.39.39.9.59 1.41.59.51 0 1.02-.2 1.41-.59l7.78-7.78 2.81-2.81c.8-.78.8-2.07 0-2.86zM5.41 20L4 18.59l7.72-7.72 1.47 1.35L5.41 20z\"/>\n",
              "  </svg>\n",
              "      </button>\n",
              "      \n",
              "  <style>\n",
              "    .colab-df-container {\n",
              "      display:flex;\n",
              "      flex-wrap:wrap;\n",
              "      gap: 12px;\n",
              "    }\n",
              "\n",
              "    .colab-df-convert {\n",
              "      background-color: #E8F0FE;\n",
              "      border: none;\n",
              "      border-radius: 50%;\n",
              "      cursor: pointer;\n",
              "      display: none;\n",
              "      fill: #1967D2;\n",
              "      height: 32px;\n",
              "      padding: 0 0 0 0;\n",
              "      width: 32px;\n",
              "    }\n",
              "\n",
              "    .colab-df-convert:hover {\n",
              "      background-color: #E2EBFA;\n",
              "      box-shadow: 0px 1px 2px rgba(60, 64, 67, 0.3), 0px 1px 3px 1px rgba(60, 64, 67, 0.15);\n",
              "      fill: #174EA6;\n",
              "    }\n",
              "\n",
              "    [theme=dark] .colab-df-convert {\n",
              "      background-color: #3B4455;\n",
              "      fill: #D2E3FC;\n",
              "    }\n",
              "\n",
              "    [theme=dark] .colab-df-convert:hover {\n",
              "      background-color: #434B5C;\n",
              "      box-shadow: 0px 1px 3px 1px rgba(0, 0, 0, 0.15);\n",
              "      filter: drop-shadow(0px 1px 2px rgba(0, 0, 0, 0.3));\n",
              "      fill: #FFFFFF;\n",
              "    }\n",
              "  </style>\n",
              "\n",
              "      <script>\n",
              "        const buttonEl =\n",
              "          document.querySelector('#df-6b3582d3-b311-40a0-89d0-ba1cddbdb459 button.colab-df-convert');\n",
              "        buttonEl.style.display =\n",
              "          google.colab.kernel.accessAllowed ? 'block' : 'none';\n",
              "\n",
              "        async function convertToInteractive(key) {\n",
              "          const element = document.querySelector('#df-6b3582d3-b311-40a0-89d0-ba1cddbdb459');\n",
              "          const dataTable =\n",
              "            await google.colab.kernel.invokeFunction('convertToInteractive',\n",
              "                                                     [key], {});\n",
              "          if (!dataTable) return;\n",
              "\n",
              "          const docLinkHtml = 'Like what you see? Visit the ' +\n",
              "            '<a target=\"_blank\" href=https://colab.research.google.com/notebooks/data_table.ipynb>data table notebook</a>'\n",
              "            + ' to learn more about interactive tables.';\n",
              "          element.innerHTML = '';\n",
              "          dataTable['output_type'] = 'display_data';\n",
              "          await google.colab.output.renderOutput(dataTable, element);\n",
              "          const docLink = document.createElement('div');\n",
              "          docLink.innerHTML = docLinkHtml;\n",
              "          element.appendChild(docLink);\n",
              "        }\n",
              "      </script>\n",
              "    </div>\n",
              "  </div>\n",
              "  "
            ]
          },
          "metadata": {},
          "execution_count": 6
        }
      ]
    },
    {
      "cell_type": "code",
      "source": [
        "from sklearn import preprocessing\n",
        "le = preprocessing.LabelEncoder()\n",
        "df['data_label']= le.fit_transform(df['data_label'])\n",
        "df.head()"
      ],
      "metadata": {
        "colab": {
          "base_uri": "https://localhost:8080/",
          "height": 337
        },
        "id": "-vJsa6_Oj8eO",
        "outputId": "edb22248-1866-488d-8dfd-d6ff79912e59"
      },
      "execution_count": 7,
      "outputs": [
        {
          "output_type": "execute_result",
          "data": {
            "text/plain": [
              "                                          text_paths  \\\n",
              "0  /content/drive/MyDrive/tobaco_OCR/ADVE/0000136...   \n",
              "1  /content/drive/MyDrive/tobaco_OCR/ADVE/0000435...   \n",
              "2  /content/drive/MyDrive/tobaco_OCR/ADVE/0030049...   \n",
              "3  /content/drive/MyDrive/tobaco_OCR/ADVE/0000556...   \n",
              "4  /content/drive/MyDrive/tobaco_OCR/ADVE/0349627...   \n",
              "\n",
              "                                               texts  \\\n",
              "0  \\n \\n \\n \\n A Mpertant as yar\\n sesiye teaeter...   \n",
              "1  \\n TE che fitm\\n m66400 7127\\n KOOLS are the o...   \n",
              "2  SR Onrel ules cee\\n Nee dss\\n The one tales WT...   \n",
              "3  so ARN Rr nr\\n BWR Ga ||\\n Vending Operators\\n...   \n",
              "4  \\n &\\n BR. :\\n er non\\n be 4\\n op Re eo eee ee...   \n",
              "\n",
              "                                           img_paths  data_label  \n",
              "0  /content/drive/MyDrive/Tobacco3482-jpg/ADVE/00...           0  \n",
              "1  /content/drive/MyDrive/Tobacco3482-jpg/ADVE/00...           0  \n",
              "2  /content/drive/MyDrive/Tobacco3482-jpg/ADVE/00...           0  \n",
              "3  /content/drive/MyDrive/Tobacco3482-jpg/ADVE/00...           0  \n",
              "4  /content/drive/MyDrive/Tobacco3482-jpg/ADVE/03...           0  "
            ],
            "text/html": [
              "\n",
              "  <div id=\"df-998f0174-c445-404a-bf91-62b5e132378a\">\n",
              "    <div class=\"colab-df-container\">\n",
              "      <div>\n",
              "<style scoped>\n",
              "    .dataframe tbody tr th:only-of-type {\n",
              "        vertical-align: middle;\n",
              "    }\n",
              "\n",
              "    .dataframe tbody tr th {\n",
              "        vertical-align: top;\n",
              "    }\n",
              "\n",
              "    .dataframe thead th {\n",
              "        text-align: right;\n",
              "    }\n",
              "</style>\n",
              "<table border=\"1\" class=\"dataframe\">\n",
              "  <thead>\n",
              "    <tr style=\"text-align: right;\">\n",
              "      <th></th>\n",
              "      <th>text_paths</th>\n",
              "      <th>texts</th>\n",
              "      <th>img_paths</th>\n",
              "      <th>data_label</th>\n",
              "    </tr>\n",
              "  </thead>\n",
              "  <tbody>\n",
              "    <tr>\n",
              "      <th>0</th>\n",
              "      <td>/content/drive/MyDrive/tobaco_OCR/ADVE/0000136...</td>\n",
              "      <td>\\n \\n \\n \\n A Mpertant as yar\\n sesiye teaeter...</td>\n",
              "      <td>/content/drive/MyDrive/Tobacco3482-jpg/ADVE/00...</td>\n",
              "      <td>0</td>\n",
              "    </tr>\n",
              "    <tr>\n",
              "      <th>1</th>\n",
              "      <td>/content/drive/MyDrive/tobaco_OCR/ADVE/0000435...</td>\n",
              "      <td>\\n TE che fitm\\n m66400 7127\\n KOOLS are the o...</td>\n",
              "      <td>/content/drive/MyDrive/Tobacco3482-jpg/ADVE/00...</td>\n",
              "      <td>0</td>\n",
              "    </tr>\n",
              "    <tr>\n",
              "      <th>2</th>\n",
              "      <td>/content/drive/MyDrive/tobaco_OCR/ADVE/0030049...</td>\n",
              "      <td>SR Onrel ules cee\\n Nee dss\\n The one tales WT...</td>\n",
              "      <td>/content/drive/MyDrive/Tobacco3482-jpg/ADVE/00...</td>\n",
              "      <td>0</td>\n",
              "    </tr>\n",
              "    <tr>\n",
              "      <th>3</th>\n",
              "      <td>/content/drive/MyDrive/tobaco_OCR/ADVE/0000556...</td>\n",
              "      <td>so ARN Rr nr\\n BWR Ga ||\\n Vending Operators\\n...</td>\n",
              "      <td>/content/drive/MyDrive/Tobacco3482-jpg/ADVE/00...</td>\n",
              "      <td>0</td>\n",
              "    </tr>\n",
              "    <tr>\n",
              "      <th>4</th>\n",
              "      <td>/content/drive/MyDrive/tobaco_OCR/ADVE/0349627...</td>\n",
              "      <td>\\n &amp;\\n BR. :\\n er non\\n be 4\\n op Re eo eee ee...</td>\n",
              "      <td>/content/drive/MyDrive/Tobacco3482-jpg/ADVE/03...</td>\n",
              "      <td>0</td>\n",
              "    </tr>\n",
              "  </tbody>\n",
              "</table>\n",
              "</div>\n",
              "      <button class=\"colab-df-convert\" onclick=\"convertToInteractive('df-998f0174-c445-404a-bf91-62b5e132378a')\"\n",
              "              title=\"Convert this dataframe to an interactive table.\"\n",
              "              style=\"display:none;\">\n",
              "        \n",
              "  <svg xmlns=\"http://www.w3.org/2000/svg\" height=\"24px\"viewBox=\"0 0 24 24\"\n",
              "       width=\"24px\">\n",
              "    <path d=\"M0 0h24v24H0V0z\" fill=\"none\"/>\n",
              "    <path d=\"M18.56 5.44l.94 2.06.94-2.06 2.06-.94-2.06-.94-.94-2.06-.94 2.06-2.06.94zm-11 1L8.5 8.5l.94-2.06 2.06-.94-2.06-.94L8.5 2.5l-.94 2.06-2.06.94zm10 10l.94 2.06.94-2.06 2.06-.94-2.06-.94-.94-2.06-.94 2.06-2.06.94z\"/><path d=\"M17.41 7.96l-1.37-1.37c-.4-.4-.92-.59-1.43-.59-.52 0-1.04.2-1.43.59L10.3 9.45l-7.72 7.72c-.78.78-.78 2.05 0 2.83L4 21.41c.39.39.9.59 1.41.59.51 0 1.02-.2 1.41-.59l7.78-7.78 2.81-2.81c.8-.78.8-2.07 0-2.86zM5.41 20L4 18.59l7.72-7.72 1.47 1.35L5.41 20z\"/>\n",
              "  </svg>\n",
              "      </button>\n",
              "      \n",
              "  <style>\n",
              "    .colab-df-container {\n",
              "      display:flex;\n",
              "      flex-wrap:wrap;\n",
              "      gap: 12px;\n",
              "    }\n",
              "\n",
              "    .colab-df-convert {\n",
              "      background-color: #E8F0FE;\n",
              "      border: none;\n",
              "      border-radius: 50%;\n",
              "      cursor: pointer;\n",
              "      display: none;\n",
              "      fill: #1967D2;\n",
              "      height: 32px;\n",
              "      padding: 0 0 0 0;\n",
              "      width: 32px;\n",
              "    }\n",
              "\n",
              "    .colab-df-convert:hover {\n",
              "      background-color: #E2EBFA;\n",
              "      box-shadow: 0px 1px 2px rgba(60, 64, 67, 0.3), 0px 1px 3px 1px rgba(60, 64, 67, 0.15);\n",
              "      fill: #174EA6;\n",
              "    }\n",
              "\n",
              "    [theme=dark] .colab-df-convert {\n",
              "      background-color: #3B4455;\n",
              "      fill: #D2E3FC;\n",
              "    }\n",
              "\n",
              "    [theme=dark] .colab-df-convert:hover {\n",
              "      background-color: #434B5C;\n",
              "      box-shadow: 0px 1px 3px 1px rgba(0, 0, 0, 0.15);\n",
              "      filter: drop-shadow(0px 1px 2px rgba(0, 0, 0, 0.3));\n",
              "      fill: #FFFFFF;\n",
              "    }\n",
              "  </style>\n",
              "\n",
              "      <script>\n",
              "        const buttonEl =\n",
              "          document.querySelector('#df-998f0174-c445-404a-bf91-62b5e132378a button.colab-df-convert');\n",
              "        buttonEl.style.display =\n",
              "          google.colab.kernel.accessAllowed ? 'block' : 'none';\n",
              "\n",
              "        async function convertToInteractive(key) {\n",
              "          const element = document.querySelector('#df-998f0174-c445-404a-bf91-62b5e132378a');\n",
              "          const dataTable =\n",
              "            await google.colab.kernel.invokeFunction('convertToInteractive',\n",
              "                                                     [key], {});\n",
              "          if (!dataTable) return;\n",
              "\n",
              "          const docLinkHtml = 'Like what you see? Visit the ' +\n",
              "            '<a target=\"_blank\" href=https://colab.research.google.com/notebooks/data_table.ipynb>data table notebook</a>'\n",
              "            + ' to learn more about interactive tables.';\n",
              "          element.innerHTML = '';\n",
              "          dataTable['output_type'] = 'display_data';\n",
              "          await google.colab.output.renderOutput(dataTable, element);\n",
              "          const docLink = document.createElement('div');\n",
              "          docLink.innerHTML = docLinkHtml;\n",
              "          element.appendChild(docLink);\n",
              "        }\n",
              "      </script>\n",
              "    </div>\n",
              "  </div>\n",
              "  "
            ]
          },
          "metadata": {},
          "execution_count": 7
        }
      ]
    },
    {
      "cell_type": "code",
      "source": [
        "import re\n",
        "def preprocess_text(text_string):\n",
        "    preprocessed_string = re.sub(r'[^\\w\\s]','',text_string)\n",
        "    preprocessed_string = preprocessed_string.replace('\\n',' ')\n",
        "    preprocessed_string = preprocessed_string.replace('_',' ')\n",
        "    preprocessed_string = re.sub(' +', ' ', preprocessed_string)\n",
        "    return preprocessed_string"
      ],
      "metadata": {
        "id": "RgDQQfdJFqm3"
      },
      "execution_count": 8,
      "outputs": []
    },
    {
      "cell_type": "code",
      "source": [
        "# Tokenize, Lemmatize, stopwords removal\n",
        "import spacy \n",
        "import nltk\n",
        "nlp = spacy.load(\"en\", disable=['parser', 'tagger', 'ner'])\n",
        "from nltk.corpus import stopwords\n",
        "nltk.download('stopwords')\n",
        "stops = stopwords.words(\"english\")\n",
        "\n",
        "def normalize(comment, lowercase, remove_stopwords):\n",
        "    if lowercase:\n",
        "        comment = comment.lower()\n",
        "    comment = nlp(comment)\n",
        "    lemmatized = list()\n",
        "    for word in comment:\n",
        "        lemma = word.lemma_.strip()\n",
        "        if lemma:\n",
        "            if not remove_stopwords or (remove_stopwords and lemma not in stops):\n",
        "                lemmatized.append(lemma)\n",
        "    return \" \".join(lemmatized)\n",
        "\n",
        "normalize(\"counting playing the Home\", lowercase=True, remove_stopwords=True)"
      ],
      "metadata": {
        "colab": {
          "base_uri": "https://localhost:8080/",
          "height": 70
        },
        "id": "IwdvQ_ZQF1Zb",
        "outputId": "e619deb9-20ad-4e2f-a453-745f55abe954"
      },
      "execution_count": 9,
      "outputs": [
        {
          "output_type": "stream",
          "name": "stdout",
          "text": [
            "[nltk_data] Downloading package stopwords to /root/nltk_data...\n",
            "[nltk_data]   Unzipping corpora/stopwords.zip.\n"
          ]
        },
        {
          "output_type": "execute_result",
          "data": {
            "text/plain": [
              "'count play home'"
            ],
            "application/vnd.google.colaboratory.intrinsic+json": {
              "type": "string"
            }
          },
          "metadata": {},
          "execution_count": 9
        }
      ]
    },
    {
      "cell_type": "code",
      "source": [
        "df['texts'] = [preprocess_text(this_text) for this_text in df['texts']]\n",
        "df['texts'] = [normalize(this_text, lowercase=True, remove_stopwords=True) for this_text in df['texts']]\n",
        "df.head()"
      ],
      "metadata": {
        "colab": {
          "base_uri": "https://localhost:8080/",
          "height": 337
        },
        "id": "MR-T-UGVF3_H",
        "outputId": "24d1ad7c-3321-43b7-ece1-dc49613ace22"
      },
      "execution_count": 10,
      "outputs": [
        {
          "output_type": "execute_result",
          "data": {
            "text/plain": [
              "                                          text_paths  \\\n",
              "0  /content/drive/MyDrive/tobaco_OCR/ADVE/0000136...   \n",
              "1  /content/drive/MyDrive/tobaco_OCR/ADVE/0000435...   \n",
              "2  /content/drive/MyDrive/tobaco_OCR/ADVE/0030049...   \n",
              "3  /content/drive/MyDrive/tobaco_OCR/ADVE/0000556...   \n",
              "4  /content/drive/MyDrive/tobaco_OCR/ADVE/0349627...   \n",
              "\n",
              "                                               texts  \\\n",
              "0  mpertant yar sesiye teaetered cabiieess baely ...   \n",
              "1  te che fitm m66400 7127 kools cigarette taste ...   \n",
              "2  sr onrel ules cee nee dss one tale wt lower ta...   \n",
              "3  arn rr nr bwr ga vend operator column worth 8 ...   \n",
              "4  br er non 4 op eo eee ee eee talk smoke decide...   \n",
              "\n",
              "                                           img_paths  data_label  \n",
              "0  /content/drive/MyDrive/Tobacco3482-jpg/ADVE/00...           0  \n",
              "1  /content/drive/MyDrive/Tobacco3482-jpg/ADVE/00...           0  \n",
              "2  /content/drive/MyDrive/Tobacco3482-jpg/ADVE/00...           0  \n",
              "3  /content/drive/MyDrive/Tobacco3482-jpg/ADVE/00...           0  \n",
              "4  /content/drive/MyDrive/Tobacco3482-jpg/ADVE/03...           0  "
            ],
            "text/html": [
              "\n",
              "  <div id=\"df-75f48db1-6a57-4c63-b4df-ba0f4a518578\">\n",
              "    <div class=\"colab-df-container\">\n",
              "      <div>\n",
              "<style scoped>\n",
              "    .dataframe tbody tr th:only-of-type {\n",
              "        vertical-align: middle;\n",
              "    }\n",
              "\n",
              "    .dataframe tbody tr th {\n",
              "        vertical-align: top;\n",
              "    }\n",
              "\n",
              "    .dataframe thead th {\n",
              "        text-align: right;\n",
              "    }\n",
              "</style>\n",
              "<table border=\"1\" class=\"dataframe\">\n",
              "  <thead>\n",
              "    <tr style=\"text-align: right;\">\n",
              "      <th></th>\n",
              "      <th>text_paths</th>\n",
              "      <th>texts</th>\n",
              "      <th>img_paths</th>\n",
              "      <th>data_label</th>\n",
              "    </tr>\n",
              "  </thead>\n",
              "  <tbody>\n",
              "    <tr>\n",
              "      <th>0</th>\n",
              "      <td>/content/drive/MyDrive/tobaco_OCR/ADVE/0000136...</td>\n",
              "      <td>mpertant yar sesiye teaetered cabiieess baely ...</td>\n",
              "      <td>/content/drive/MyDrive/Tobacco3482-jpg/ADVE/00...</td>\n",
              "      <td>0</td>\n",
              "    </tr>\n",
              "    <tr>\n",
              "      <th>1</th>\n",
              "      <td>/content/drive/MyDrive/tobaco_OCR/ADVE/0000435...</td>\n",
              "      <td>te che fitm m66400 7127 kools cigarette taste ...</td>\n",
              "      <td>/content/drive/MyDrive/Tobacco3482-jpg/ADVE/00...</td>\n",
              "      <td>0</td>\n",
              "    </tr>\n",
              "    <tr>\n",
              "      <th>2</th>\n",
              "      <td>/content/drive/MyDrive/tobaco_OCR/ADVE/0030049...</td>\n",
              "      <td>sr onrel ules cee nee dss one tale wt lower ta...</td>\n",
              "      <td>/content/drive/MyDrive/Tobacco3482-jpg/ADVE/00...</td>\n",
              "      <td>0</td>\n",
              "    </tr>\n",
              "    <tr>\n",
              "      <th>3</th>\n",
              "      <td>/content/drive/MyDrive/tobaco_OCR/ADVE/0000556...</td>\n",
              "      <td>arn rr nr bwr ga vend operator column worth 8 ...</td>\n",
              "      <td>/content/drive/MyDrive/Tobacco3482-jpg/ADVE/00...</td>\n",
              "      <td>0</td>\n",
              "    </tr>\n",
              "    <tr>\n",
              "      <th>4</th>\n",
              "      <td>/content/drive/MyDrive/tobaco_OCR/ADVE/0349627...</td>\n",
              "      <td>br er non 4 op eo eee ee eee talk smoke decide...</td>\n",
              "      <td>/content/drive/MyDrive/Tobacco3482-jpg/ADVE/03...</td>\n",
              "      <td>0</td>\n",
              "    </tr>\n",
              "  </tbody>\n",
              "</table>\n",
              "</div>\n",
              "      <button class=\"colab-df-convert\" onclick=\"convertToInteractive('df-75f48db1-6a57-4c63-b4df-ba0f4a518578')\"\n",
              "              title=\"Convert this dataframe to an interactive table.\"\n",
              "              style=\"display:none;\">\n",
              "        \n",
              "  <svg xmlns=\"http://www.w3.org/2000/svg\" height=\"24px\"viewBox=\"0 0 24 24\"\n",
              "       width=\"24px\">\n",
              "    <path d=\"M0 0h24v24H0V0z\" fill=\"none\"/>\n",
              "    <path d=\"M18.56 5.44l.94 2.06.94-2.06 2.06-.94-2.06-.94-.94-2.06-.94 2.06-2.06.94zm-11 1L8.5 8.5l.94-2.06 2.06-.94-2.06-.94L8.5 2.5l-.94 2.06-2.06.94zm10 10l.94 2.06.94-2.06 2.06-.94-2.06-.94-.94-2.06-.94 2.06-2.06.94z\"/><path d=\"M17.41 7.96l-1.37-1.37c-.4-.4-.92-.59-1.43-.59-.52 0-1.04.2-1.43.59L10.3 9.45l-7.72 7.72c-.78.78-.78 2.05 0 2.83L4 21.41c.39.39.9.59 1.41.59.51 0 1.02-.2 1.41-.59l7.78-7.78 2.81-2.81c.8-.78.8-2.07 0-2.86zM5.41 20L4 18.59l7.72-7.72 1.47 1.35L5.41 20z\"/>\n",
              "  </svg>\n",
              "      </button>\n",
              "      \n",
              "  <style>\n",
              "    .colab-df-container {\n",
              "      display:flex;\n",
              "      flex-wrap:wrap;\n",
              "      gap: 12px;\n",
              "    }\n",
              "\n",
              "    .colab-df-convert {\n",
              "      background-color: #E8F0FE;\n",
              "      border: none;\n",
              "      border-radius: 50%;\n",
              "      cursor: pointer;\n",
              "      display: none;\n",
              "      fill: #1967D2;\n",
              "      height: 32px;\n",
              "      padding: 0 0 0 0;\n",
              "      width: 32px;\n",
              "    }\n",
              "\n",
              "    .colab-df-convert:hover {\n",
              "      background-color: #E2EBFA;\n",
              "      box-shadow: 0px 1px 2px rgba(60, 64, 67, 0.3), 0px 1px 3px 1px rgba(60, 64, 67, 0.15);\n",
              "      fill: #174EA6;\n",
              "    }\n",
              "\n",
              "    [theme=dark] .colab-df-convert {\n",
              "      background-color: #3B4455;\n",
              "      fill: #D2E3FC;\n",
              "    }\n",
              "\n",
              "    [theme=dark] .colab-df-convert:hover {\n",
              "      background-color: #434B5C;\n",
              "      box-shadow: 0px 1px 3px 1px rgba(0, 0, 0, 0.15);\n",
              "      filter: drop-shadow(0px 1px 2px rgba(0, 0, 0, 0.3));\n",
              "      fill: #FFFFFF;\n",
              "    }\n",
              "  </style>\n",
              "\n",
              "      <script>\n",
              "        const buttonEl =\n",
              "          document.querySelector('#df-75f48db1-6a57-4c63-b4df-ba0f4a518578 button.colab-df-convert');\n",
              "        buttonEl.style.display =\n",
              "          google.colab.kernel.accessAllowed ? 'block' : 'none';\n",
              "\n",
              "        async function convertToInteractive(key) {\n",
              "          const element = document.querySelector('#df-75f48db1-6a57-4c63-b4df-ba0f4a518578');\n",
              "          const dataTable =\n",
              "            await google.colab.kernel.invokeFunction('convertToInteractive',\n",
              "                                                     [key], {});\n",
              "          if (!dataTable) return;\n",
              "\n",
              "          const docLinkHtml = 'Like what you see? Visit the ' +\n",
              "            '<a target=\"_blank\" href=https://colab.research.google.com/notebooks/data_table.ipynb>data table notebook</a>'\n",
              "            + ' to learn more about interactive tables.';\n",
              "          element.innerHTML = '';\n",
              "          dataTable['output_type'] = 'display_data';\n",
              "          await google.colab.output.renderOutput(dataTable, element);\n",
              "          const docLink = document.createElement('div');\n",
              "          docLink.innerHTML = docLinkHtml;\n",
              "          element.appendChild(docLink);\n",
              "        }\n",
              "      </script>\n",
              "    </div>\n",
              "  </div>\n",
              "  "
            ]
          },
          "metadata": {},
          "execution_count": 10
        }
      ]
    },
    {
      "cell_type": "code",
      "source": [
        "train_df, test_df = train_test_split(df, test_size=0.2, stratify=df[\"data_label\"].values, random_state=10)\n",
        "test_df, val_df = train_test_split(test_df, test_size=0.5, stratify=test_df[\"data_label\"].values, random_state=10)\n",
        "\n",
        "print(f\"Total training examples: {len(train_df)}\")\n",
        "print(f\"Total validation examples: {len(val_df)}\")\n",
        "print(f\"Total test examples: {len(test_df)}\")"
      ],
      "metadata": {
        "colab": {
          "base_uri": "https://localhost:8080/"
        },
        "id": "SthfuYkSXwy4",
        "outputId": "bbaecd83-22b8-4b80-b26e-b151793e6441"
      },
      "execution_count": 11,
      "outputs": [
        {
          "output_type": "stream",
          "name": "stdout",
          "text": [
            "Total training examples: 2785\n",
            "Total validation examples: 349\n",
            "Total test examples: 348\n"
          ]
        }
      ]
    },
    {
      "cell_type": "code",
      "source": [
        "print(train_df['data_label'].value_counts())\n",
        "print(test_df['data_label'].value_counts())\n",
        "print(val_df['data_label'].value_counts())"
      ],
      "metadata": {
        "colab": {
          "base_uri": "https://localhost:8080/"
        },
        "id": "nqueYvjDeIYW",
        "outputId": "c36602d1-60c1-4fd9-f1dd-385ec3366398"
      },
      "execution_count": 12,
      "outputs": [
        {
          "output_type": "stream",
          "name": "stdout",
          "text": [
            "4    496\n",
            "1    479\n",
            "3    453\n",
            "2    345\n",
            "7    212\n",
            "9    209\n",
            "0    184\n",
            "6    161\n",
            "5    150\n",
            "8     96\n",
            "Name: data_label, dtype: int64\n",
            "4    62\n",
            "1    60\n",
            "3    57\n",
            "2    43\n",
            "9    26\n",
            "7    26\n",
            "0    23\n",
            "6    20\n",
            "5    19\n",
            "8    12\n",
            "Name: data_label, dtype: int64\n",
            "4    62\n",
            "1    60\n",
            "3    57\n",
            "2    43\n",
            "7    27\n",
            "9    26\n",
            "0    23\n",
            "6    20\n",
            "5    19\n",
            "8    12\n",
            "Name: data_label, dtype: int64\n"
          ]
        }
      ]
    },
    {
      "cell_type": "code",
      "source": [
        "def dataframe_to_dataset(dataframe):\n",
        "    columns = [\"text_paths\",\"texts\", \"img_paths\", \"data_label\"]\n",
        "    dataframe = dataframe[columns].copy()\n",
        "    labels = dataframe.pop(\"data_label\")\n",
        "    ds = tf.data.Dataset.from_tensor_slices((dict(dataframe), labels))\n",
        "    ds = ds.shuffle(buffer_size=len(dataframe))\n",
        "    return ds"
      ],
      "metadata": {
        "id": "C2kQ4XkSBU6T"
      },
      "execution_count": 13,
      "outputs": []
    },
    {
      "cell_type": "code",
      "source": [
        "bert_input_features = [\"input_word_ids\", \"input_type_ids\", \"input_mask\"]\n",
        "\n",
        "def preprocess_image(image_path):\n",
        "    extension = tf.strings.split(image_path)[-1]\n",
        "\n",
        "    image = tf.io.read_file(image_path)\n",
        "    if extension == b\"jpg\":\n",
        "        image = tf.image.decode_jpeg(image, 3)\n",
        "    else:\n",
        "        image = tf.image.decode_png(image, 3)\n",
        "    image = tf.image.resize(image, (224, 224))\n",
        "\n",
        "    return image\n",
        "\n",
        "\n",
        "def preprocess_text(text):\n",
        "    preprocess_url = \"https://tfhub.dev/tensorflow/bert_en_uncased_preprocess/3\"\n",
        "    bert_preprocess_model = hub.KerasLayer(preprocess_url)\n",
        "    text = tf.convert_to_tensor([text])\n",
        "    output = bert_preprocess_model(text)\n",
        "    output = {feature: tf.squeeze(output[feature]) for feature in bert_input_features}\n",
        "    return output\n",
        "\n",
        "\n",
        "def preprocess_text_and_image(sample):\n",
        "    image = preprocess_image(sample[\"img_paths\"])\n",
        "    text = preprocess_text(sample[\"texts\"])\n",
        "    return {\"image_inputs\": image,  \"text_inputs\": text}"
      ],
      "metadata": {
        "id": "CE7tOkSrMcQn"
      },
      "execution_count": 14,
      "outputs": []
    },
    {
      "cell_type": "code",
      "source": [
        "batch_size = 32\n",
        "auto = tf.data.AUTOTUNE\n",
        "\n",
        "\n",
        "def prepare_dataset(dataframe, training=True):\n",
        "    ds = dataframe_to_dataset(dataframe)\n",
        "    if training:\n",
        "        ds = ds.shuffle(len(train_df))\n",
        "    ds = ds.map(lambda x, y: (preprocess_text_and_image(x), y)).cache()\n",
        "    ds = ds.batch(batch_size).prefetch(auto)\n",
        "    return ds\n",
        "\n",
        "\n",
        "train_ds = prepare_dataset(train_df)\n",
        "validation_ds = prepare_dataset(val_df, False)\n",
        "test_ds = prepare_dataset(test_df, False)"
      ],
      "metadata": {
        "id": "PKkwEw58McOr"
      },
      "execution_count": 15,
      "outputs": []
    },
    {
      "cell_type": "code",
      "source": [
        "def create_text_encoder(text_projection_dims, dropout_rate, text_model_trainable):\n",
        "\n",
        "    encoder_url = \"https://tfhub.dev/tensorflow/small_bert/bert_en_uncased_L-12_H-128_A-2/2\"\n",
        "    bert_model = hub.KerasLayer(encoder_url)\n",
        "\n",
        "    # Set the trainability of the base encoder.\n",
        "    bert_model.trainable = text_model_trainable\n",
        "\n",
        "    bert_input_features = [\"input_type_ids\", \"input_mask\", \"input_word_ids\"]\n",
        "    inputs = {\n",
        "        feature: keras.Input(shape=(128,), dtype=tf.int32, name=feature)\n",
        "        for feature in bert_input_features\n",
        "    }\n",
        "\n",
        "    embeddings = bert_model(inputs)[\"pooled_output\"]\n",
        "    outputs = keras.layers.Dense(units = text_projection_dims)(embeddings)\n",
        "\n",
        "    return keras.Model(inputs, outputs, name=\"text_encoder\")"
      ],
      "metadata": {
        "id": "MFTlX-ni-w-G"
      },
      "execution_count": 16,
      "outputs": []
    },
    {
      "cell_type": "code",
      "source": [
        "def create_vision_encoder(img_projection_dims, dropout_rate, img_base_model_trainable):\n",
        "    img_shape=(224,224,3)\n",
        "    seed_value = 42\n",
        "\n",
        "    base_model= tf.keras.applications.vgg16.VGG16(  include_top=False,\n",
        "                                                    input_shape=img_shape,\n",
        "                                                    pooling='avg',\n",
        "                                                    classes=10,\n",
        "                                                    weights='imagenet')\n",
        "    \n",
        "    base_model.trainable = img_base_model_trainable\n",
        "\n",
        "\n",
        "    inputs = keras.Input(shape=img_shape)\n",
        "    x = base_model(inputs, training = img_base_model_trainable)\n",
        "\n",
        "    outputs =tf.keras.layers.Dense(img_projection_dims, kernel_regularizer = regularizers.l2(l = 0.016),activity_regularizer=regularizers.l1(0.006), \n",
        "                         bias_regularizer=regularizers.l1(0.006),activation='relu',kernel_initializer=tf.keras.initializers.GlorotUniform(seed=seed_value))(x)\n",
        "\n",
        "    model=Model(inputs, outputs)\n",
        "\n",
        "    # Receive the images as inputs.\n",
        "    image_inputs = keras.Input(shape=(224, 224, 3), name=\"image_inputs\")\n",
        "    preprocessed_image = tf.keras.applications.vgg16.preprocess_input(image_inputs)\n",
        "\n",
        "    embeddings = model(preprocessed_image)\n",
        "\n",
        "    # Create the vision encoder model.\n",
        "    return keras.Model(image_inputs, embeddings, name=\"vision_encoder\")"
      ],
      "metadata": {
        "id": "wytsa4BjWeG1"
      },
      "execution_count": 17,
      "outputs": []
    },
    {
      "cell_type": "code",
      "source": [
        "def create_multimodal_model(**kwargs):\n",
        "\n",
        "    img_projection_dims = kwargs['img_projection_dims']\n",
        "    text_projection_dims = kwargs['text_projection_dims']\n",
        "    dropout_rate = kwargs['dropout_rate']\n",
        "    img_base_model_trainable = kwargs['img_base_model_trainable']\n",
        "    text_model_trainable = kwargs['text_model_trainable']\n",
        "\n",
        "    # Receive the images and text as inputs.\n",
        "    image_inputs = keras.Input(shape=(224, 224, 3), name=\"image_inputs\")\n",
        "    \n",
        "    bert_input_features = [\"input_type_ids\", \"input_mask\", \"input_word_ids\"]\n",
        "    text_inputs = {\n",
        "        feature: keras.Input(shape=(128,), dtype=tf.int32, name=feature)\n",
        "        for feature in bert_input_features\n",
        "    }\n",
        "\n",
        "    # Create the encoders.\n",
        "    vision_encoder = create_vision_encoder(img_projection_dims, dropout_rate, img_base_model_trainable)\n",
        "    text_encoder = create_text_encoder(text_projection_dims, dropout_rate, text_model_trainable)\n",
        "    # print(keras.utils.plot_model(text_encoder, show_shapes=True))\n",
        "\n",
        "    # Fetch the embedding projections.\n",
        "    vision_projections = vision_encoder(image_inputs)\n",
        "    text_projections = text_encoder(text_inputs)\n",
        "\n",
        "    # Concatenate the projections and pass through the classification layer.\n",
        "    concatenated = keras.layers.Concatenate()([vision_projections, text_projections])\n",
        "    outputs = keras.layers.Dense(10, activation=\"softmax\")(concatenated)\n",
        "    return keras.Model([image_inputs, text_inputs], outputs)\n",
        "\n",
        "\n",
        "\n",
        "multimodal_model = create_multimodal_model( img_projection_dims=512,\n",
        "                                            text_projection_dims=128,\n",
        "                                            dropout_rate=0.2,\n",
        "                                            img_base_model_trainable=False,\n",
        "                                            text_model_trainable=False\n",
        "                                           )\n",
        "keras.utils.plot_model(multimodal_model, show_shapes=True)"
      ],
      "metadata": {
        "colab": {
          "base_uri": "https://localhost:8080/",
          "height": 220
        },
        "id": "doyOBQ22-QbG",
        "outputId": "fbb0d5b4-3d23-4ab3-e038-c25a6ae0de3a"
      },
      "execution_count": 18,
      "outputs": [
        {
          "output_type": "execute_result",
          "data": {
            "text/plain": [
              "<IPython.core.display.Image object>"
            ],
            "image/png": "[encoded data removed]"
          },
          "metadata": {},
          "execution_count": 18
        }
      ]
    },
    {
      "cell_type": "code",
      "source": [
        "lr = 0.001\n",
        "multimodal_model.compile(\n",
        "    Adamax(learning_rate=lr), loss=\"sparse_categorical_crossentropy\", metrics=\"accuracy\"\n",
        ")"
      ],
      "metadata": {
        "id": "dvgEyPqA-QY6"
      },
      "execution_count": 19,
      "outputs": []
    },
    {
      "cell_type": "code",
      "source": [
        "from keras.callbacks import ModelCheckpoint\n",
        "checkpoint = ModelCheckpoint(\"/model-{epoch:03d}-{accuracy:03f}-{val_accuracy:03f}.h5\", verbose=1, monitor='val_loss',save_best_only=True, mode='auto') \n",
        "\n",
        "history = multimodal_model.fit(train_ds, validation_data=validation_ds, epochs=20, verbose=2, callbacks=[checkpoint], initial_epoch=0)"
      ],
      "metadata": {
        "id": "UrsPTPXs-QW_",
        "colab": {
          "base_uri": "https://localhost:8080/"
        },
        "outputId": "88d95e11-b77e-4bc2-947c-574da33dfcb2"
      },
      "execution_count": 20,
      "outputs": [
        {
          "output_type": "stream",
          "name": "stdout",
          "text": [
            "Epoch 1/20\n",
            "\n",
            "Epoch 1: val_loss improved from inf to 5.97899, saving model to /model-001-0.519210-0.601719.h5\n",
            "88/88 - 94s - loss: 9.6168 - accuracy: 0.5192 - val_loss: 5.9790 - val_accuracy: 0.6017 - 94s/epoch - 1s/step\n",
            "Epoch 2/20\n",
            "\n",
            "Epoch 2: val_loss improved from 5.97899 to 4.19109, saving model to /model-002-0.656732-0.681948.h5\n",
            "88/88 - 19s - loss: 4.9364 - accuracy: 0.6567 - val_loss: 4.1911 - val_accuracy: 0.6819 - 19s/epoch - 214ms/step\n",
            "Epoch 3/20\n",
            "\n",
            "Epoch 3: val_loss improved from 4.19109 to 3.39400, saving model to /model-003-0.707361-0.673352.h5\n",
            "88/88 - 19s - loss: 3.7166 - accuracy: 0.7074 - val_loss: 3.3940 - val_accuracy: 0.6734 - 19s/epoch - 221ms/step\n",
            "Epoch 4/20\n",
            "\n",
            "Epoch 4: val_loss improved from 3.39400 to 2.89641, saving model to /model-004-0.733214-0.693410.h5\n",
            "88/88 - 19s - loss: 3.0590 - accuracy: 0.7332 - val_loss: 2.8964 - val_accuracy: 0.6934 - 19s/epoch - 216ms/step\n",
            "Epoch 5/20\n",
            "\n",
            "Epoch 5: val_loss improved from 2.89641 to 2.54313, saving model to /model-005-0.751167-0.702006.h5\n",
            "88/88 - 19s - loss: 2.6172 - accuracy: 0.7512 - val_loss: 2.5431 - val_accuracy: 0.7020 - 19s/epoch - 212ms/step\n",
            "Epoch 6/20\n",
            "\n",
            "Epoch 6: val_loss improved from 2.54313 to 2.27445, saving model to /model-006-0.765530-0.713467.h5\n",
            "88/88 - 19s - loss: 2.2933 - accuracy: 0.7655 - val_loss: 2.2744 - val_accuracy: 0.7135 - 19s/epoch - 213ms/step\n",
            "Epoch 7/20\n",
            "\n",
            "Epoch 7: val_loss improved from 2.27445 to 2.06248, saving model to /model-007-0.780610-0.727794.h5\n",
            "88/88 - 19s - loss: 2.0437 - accuracy: 0.7806 - val_loss: 2.0625 - val_accuracy: 0.7278 - 19s/epoch - 215ms/step\n",
            "Epoch 8/20\n",
            "\n",
            "Epoch 8: val_loss improved from 2.06248 to 1.88866, saving model to /model-008-0.793178-0.739255.h5\n",
            "88/88 - 19s - loss: 1.8432 - accuracy: 0.7932 - val_loss: 1.8887 - val_accuracy: 0.7393 - 19s/epoch - 215ms/step\n",
            "Epoch 9/20\n",
            "\n",
            "Epoch 9: val_loss improved from 1.88866 to 1.74912, saving model to /model-009-0.801077-0.750716.h5\n",
            "88/88 - 19s - loss: 1.6798 - accuracy: 0.8011 - val_loss: 1.7491 - val_accuracy: 0.7507 - 19s/epoch - 215ms/step\n",
            "Epoch 10/20\n",
            "\n",
            "Epoch 10: val_loss improved from 1.74912 to 1.63112, saving model to /model-010-0.810413-0.756447.h5\n",
            "88/88 - 19s - loss: 1.5441 - accuracy: 0.8104 - val_loss: 1.6311 - val_accuracy: 0.7564 - 19s/epoch - 214ms/step\n",
            "Epoch 11/20\n",
            "\n",
            "Epoch 11: val_loss improved from 1.63112 to 1.53057, saving model to /model-011-0.816158-0.762178.h5\n",
            "88/88 - 19s - loss: 1.4295 - accuracy: 0.8162 - val_loss: 1.5306 - val_accuracy: 0.7622 - 19s/epoch - 214ms/step\n",
            "Epoch 12/20\n",
            "\n",
            "Epoch 12: val_loss improved from 1.53057 to 1.44730, saving model to /model-012-0.822980-0.756447.h5\n",
            "88/88 - 19s - loss: 1.3311 - accuracy: 0.8230 - val_loss: 1.4473 - val_accuracy: 0.7564 - 19s/epoch - 214ms/step\n",
            "Epoch 13/20\n",
            "\n",
            "Epoch 13: val_loss improved from 1.44730 to 1.37695, saving model to /model-013-0.826930-0.747851.h5\n",
            "88/88 - 19s - loss: 1.2468 - accuracy: 0.8269 - val_loss: 1.3769 - val_accuracy: 0.7479 - 19s/epoch - 216ms/step\n",
            "Epoch 14/20\n",
            "\n",
            "Epoch 14: val_loss improved from 1.37695 to 1.31533, saving model to /model-014-0.830880-0.744986.h5\n",
            "88/88 - 19s - loss: 1.1729 - accuracy: 0.8309 - val_loss: 1.3153 - val_accuracy: 0.7450 - 19s/epoch - 214ms/step\n",
            "Epoch 15/20\n",
            "\n",
            "Epoch 15: val_loss improved from 1.31533 to 1.26339, saving model to /model-015-0.838061-0.742120.h5\n",
            "88/88 - 19s - loss: 1.1088 - accuracy: 0.8381 - val_loss: 1.2634 - val_accuracy: 0.7421 - 19s/epoch - 213ms/step\n",
            "Epoch 16/20\n",
            "\n",
            "Epoch 16: val_loss improved from 1.26339 to 1.21796, saving model to /model-016-0.843447-0.742120.h5\n",
            "88/88 - 19s - loss: 1.0529 - accuracy: 0.8434 - val_loss: 1.2180 - val_accuracy: 0.7421 - 19s/epoch - 213ms/step\n",
            "Epoch 17/20\n",
            "\n",
            "Epoch 17: val_loss improved from 1.21796 to 1.17793, saving model to /model-017-0.847038-0.747851.h5\n",
            "88/88 - 19s - loss: 1.0035 - accuracy: 0.8470 - val_loss: 1.1779 - val_accuracy: 0.7479 - 19s/epoch - 216ms/step\n",
            "Epoch 18/20\n",
            "\n",
            "Epoch 18: val_loss improved from 1.17793 to 1.14293, saving model to /model-018-0.849910-0.744986.h5\n",
            "88/88 - 19s - loss: 0.9594 - accuracy: 0.8499 - val_loss: 1.1429 - val_accuracy: 0.7450 - 19s/epoch - 215ms/step\n",
            "Epoch 19/20\n",
            "\n",
            "Epoch 19: val_loss improved from 1.14293 to 1.11406, saving model to /model-019-0.850628-0.750716.h5\n",
            "88/88 - 19s - loss: 0.9197 - accuracy: 0.8506 - val_loss: 1.1141 - val_accuracy: 0.7507 - 19s/epoch - 215ms/step\n",
            "Epoch 20/20\n",
            "\n",
            "Epoch 20: val_loss improved from 1.11406 to 1.08623, saving model to /model-020-0.850269-0.750716.h5\n",
            "88/88 - 19s - loss: 0.8849 - accuracy: 0.8503 - val_loss: 1.0862 - val_accuracy: 0.7507 - 19s/epoch - 214ms/step\n"
          ]
        }
      ]
    },
    {
      "cell_type": "markdown",
      "source": [
        "# Fine-Tuning start"
      ],
      "metadata": {
        "id": "G8X8SXOONTqp"
      }
    },
    {
      "cell_type": "code",
      "source": [
        "wt = multimodal_model.get_weights()"
      ],
      "metadata": {
        "id": "8hV5-8APNSur"
      },
      "execution_count": 21,
      "outputs": []
    },
    {
      "cell_type": "code",
      "source": [
        "new_multimodal_model = create_multimodal_model( img_projection_dims=512,\n",
        "                                            text_projection_dims=128,\n",
        "                                            dropout_rate=0.2,\n",
        "                                            img_base_model_trainable= True,\n",
        "                                            text_model_trainable=False\n",
        "                                           )\n",
        "keras.utils.plot_model(new_multimodal_model, show_shapes=True)"
      ],
      "metadata": {
        "colab": {
          "base_uri": "https://localhost:8080/",
          "height": 220
        },
        "id": "gzuOL6VGNRV-",
        "outputId": "b6b61ea3-949d-4f30-a5ba-063e9f086310"
      },
      "execution_count": 22,
      "outputs": [
        {
          "output_type": "execute_result",
          "data": {
            "text/plain": [
              "<IPython.core.display.Image object>"
            ],
            "image/png": "[encoded data removed]"
          },
          "metadata": {},
          "execution_count": 22
        }
      ]
    },
    {
      "cell_type": "code",
      "source": [
        "multimodal_model.evaluate(test_ds, batch_size=32, verbose=2, return_dict=True)"
      ],
      "metadata": {
        "colab": {
          "base_uri": "https://localhost:8080/"
        },
        "id": "oCE0SgI-slky",
        "outputId": "3fbb0a5b-404e-42f5-bf31-8b5cab277bce"
      },
      "execution_count": 23,
      "outputs": [
        {
          "output_type": "stream",
          "name": "stdout",
          "text": [
            "11/11 - 17s - loss: 0.9706 - accuracy: 0.8046 - 17s/epoch - 2s/step\n"
          ]
        },
        {
          "output_type": "execute_result",
          "data": {
            "text/plain": [
              "{'accuracy': 0.8045976758003235, 'loss': 0.9706498980522156}"
            ]
          },
          "metadata": {},
          "execution_count": 23
        }
      ]
    },
    {
      "cell_type": "code",
      "source": [
        "new_multimodal_model.set_weights(wt)"
      ],
      "metadata": {
        "id": "XIpsFnwlNRX2"
      },
      "execution_count": 24,
      "outputs": []
    },
    {
      "cell_type": "code",
      "source": [
        "lr = 0.0001\n",
        "epochs = 20\n",
        "fine_tune_epochs = 20\n",
        "total_epochs= epochs + fine_tune_epochs\n",
        "\n",
        "new_multimodal_model.compile(\n",
        "    Adamax(learning_rate=lr), loss=\"sparse_categorical_crossentropy\", metrics=\"accuracy\"\n",
        ")"
      ],
      "metadata": {
        "id": "gMTEgrhINRaH"
      },
      "execution_count": 25,
      "outputs": []
    },
    {
      "cell_type": "code",
      "source": [
        "new_multimodal_model.evaluate(test_ds, batch_size=32, verbose=2, return_dict=True)"
      ],
      "metadata": {
        "colab": {
          "base_uri": "https://localhost:8080/"
        },
        "id": "zgobvQyvsvUu",
        "outputId": "8ae5b376-b345-473a-8ed8-7b85760258c8"
      },
      "execution_count": 26,
      "outputs": [
        {
          "output_type": "stream",
          "name": "stdout",
          "text": [
            "11/11 - 3s - loss: 0.9706 - accuracy: 0.8046 - 3s/epoch - 307ms/step\n"
          ]
        },
        {
          "output_type": "execute_result",
          "data": {
            "text/plain": [
              "{'accuracy': 0.8045976758003235, 'loss': 0.9706498980522156}"
            ]
          },
          "metadata": {},
          "execution_count": 26
        }
      ]
    },
    {
      "cell_type": "code",
      "source": [
        "from keras.callbacks import ModelCheckpoint\n",
        "checkpoint = ModelCheckpoint(\"/model-{epoch:03d}-{accuracy:03f}-{val_accuracy:03f}.h5\", verbose=1, monitor='val_loss',save_best_only=True, mode='auto') \n",
        "\n",
        "history_fine = new_multimodal_model.fit(train_ds, validation_data=validation_ds, epochs=total_epochs, verbose=2, callbacks=[checkpoint], initial_epoch=epochs)"
      ],
      "metadata": {
        "colab": {
          "base_uri": "https://localhost:8080/"
        },
        "id": "WivKflaprL2g",
        "outputId": "2dec391d-f348-4ab8-eca2-2d90548e9aa7"
      },
      "execution_count": 27,
      "outputs": [
        {
          "output_type": "stream",
          "name": "stdout",
          "text": [
            "Epoch 21/40\n",
            "\n",
            "Epoch 21: val_loss improved from inf to 1.09316, saving model to /model-021-0.670736-0.765043.h5\n",
            "88/88 - 61s - loss: 1.4659 - accuracy: 0.6707 - val_loss: 1.0932 - val_accuracy: 0.7650 - 61s/epoch - 689ms/step\n",
            "Epoch 22/40\n",
            "\n",
            "Epoch 22: val_loss improved from 1.09316 to 1.00176, saving model to /model-022-0.771634-0.793696.h5\n",
            "88/88 - 44s - loss: 0.9903 - accuracy: 0.7716 - val_loss: 1.0018 - val_accuracy: 0.7937 - 44s/epoch - 502ms/step\n",
            "Epoch 23/40\n",
            "\n",
            "Epoch 23: val_loss improved from 1.00176 to 0.92249, saving model to /model-023-0.832316-0.810888.h5\n",
            "88/88 - 43s - loss: 0.8468 - accuracy: 0.8323 - val_loss: 0.9225 - val_accuracy: 0.8109 - 43s/epoch - 494ms/step\n",
            "Epoch 24/40\n",
            "\n",
            "Epoch 24: val_loss improved from 0.92249 to 0.89837, saving model to /model-024-0.863555-0.825215.h5\n",
            "88/88 - 44s - loss: 0.7557 - accuracy: 0.8636 - val_loss: 0.8984 - val_accuracy: 0.8252 - 44s/epoch - 504ms/step\n",
            "Epoch 25/40\n",
            "\n",
            "Epoch 25: val_loss improved from 0.89837 to 0.88077, saving model to /model-025-0.885817-0.828080.h5\n",
            "88/88 - 43s - loss: 0.6829 - accuracy: 0.8858 - val_loss: 0.8808 - val_accuracy: 0.8281 - 43s/epoch - 494ms/step\n",
            "Epoch 26/40\n",
            "\n",
            "Epoch 26: val_loss improved from 0.88077 to 0.85490, saving model to /model-026-0.908438-0.836676.h5\n",
            "88/88 - 44s - loss: 0.6181 - accuracy: 0.9084 - val_loss: 0.8549 - val_accuracy: 0.8367 - 44s/epoch - 505ms/step\n",
            "Epoch 27/40\n",
            "\n",
            "Epoch 27: val_loss did not improve from 0.85490\n",
            "88/88 - 44s - loss: 0.5619 - accuracy: 0.9339 - val_loss: 0.9000 - val_accuracy: 0.8281 - 44s/epoch - 499ms/step\n",
            "Epoch 28/40\n",
            "\n",
            "Epoch 28: val_loss did not improve from 0.85490\n",
            "88/88 - 43s - loss: 0.5281 - accuracy: 0.9436 - val_loss: 1.0462 - val_accuracy: 0.7966 - 43s/epoch - 484ms/step\n",
            "Epoch 29/40\n",
            "\n",
            "Epoch 29: val_loss did not improve from 0.85490\n",
            "88/88 - 44s - loss: 0.5236 - accuracy: 0.9382 - val_loss: 1.0048 - val_accuracy: 0.8023 - 44s/epoch - 499ms/step\n",
            "Epoch 30/40\n",
            "\n",
            "Epoch 30: val_loss improved from 0.85490 to 0.82715, saving model to /model-030-0.954399-0.825215.h5\n",
            "88/88 - 44s - loss: 0.4882 - accuracy: 0.9544 - val_loss: 0.8272 - val_accuracy: 0.8252 - 44s/epoch - 502ms/step\n",
            "Epoch 31/40\n",
            "\n",
            "Epoch 31: val_loss improved from 0.82715 to 0.81256, saving model to /model-031-0.964452-0.819484.h5\n",
            "88/88 - 44s - loss: 0.4571 - accuracy: 0.9645 - val_loss: 0.8126 - val_accuracy: 0.8195 - 44s/epoch - 496ms/step\n",
            "Epoch 32/40\n",
            "\n",
            "Epoch 32: val_loss improved from 0.81256 to 0.78633, saving model to /model-032-0.972352-0.836676.h5\n",
            "88/88 - 44s - loss: 0.4319 - accuracy: 0.9724 - val_loss: 0.7863 - val_accuracy: 0.8367 - 44s/epoch - 497ms/step\n",
            "Epoch 33/40\n",
            "\n",
            "Epoch 33: val_loss did not improve from 0.78633\n",
            "88/88 - 43s - loss: 0.4191 - accuracy: 0.9759 - val_loss: 0.8272 - val_accuracy: 0.8281 - 43s/epoch - 489ms/step\n",
            "Epoch 34/40\n",
            "\n",
            "Epoch 34: val_loss did not improve from 0.78633\n",
            "88/88 - 44s - loss: 0.4008 - accuracy: 0.9785 - val_loss: 0.8429 - val_accuracy: 0.8338 - 44s/epoch - 499ms/step\n",
            "Epoch 35/40\n",
            "\n",
            "Epoch 35: val_loss did not improve from 0.78633\n",
            "88/88 - 44s - loss: 0.3953 - accuracy: 0.9763 - val_loss: 0.8768 - val_accuracy: 0.7908 - 44s/epoch - 497ms/step\n",
            "Epoch 36/40\n",
            "\n",
            "Epoch 36: val_loss did not improve from 0.78633\n",
            "88/88 - 44s - loss: 0.3643 - accuracy: 0.9846 - val_loss: 0.7959 - val_accuracy: 0.8309 - 44s/epoch - 499ms/step\n",
            "Epoch 37/40\n",
            "\n",
            "Epoch 37: val_loss did not improve from 0.78633\n",
            "88/88 - 44s - loss: 0.3382 - accuracy: 0.9892 - val_loss: 0.8245 - val_accuracy: 0.8166 - 44s/epoch - 497ms/step\n",
            "Epoch 38/40\n",
            "\n",
            "Epoch 38: val_loss did not improve from 0.78633\n",
            "88/88 - 44s - loss: 0.3142 - accuracy: 0.9928 - val_loss: 0.8445 - val_accuracy: 0.8138 - 44s/epoch - 499ms/step\n",
            "Epoch 39/40\n",
            "\n",
            "Epoch 39: val_loss did not improve from 0.78633\n",
            "88/88 - 43s - loss: 0.2999 - accuracy: 0.9946 - val_loss: 0.8303 - val_accuracy: 0.8080 - 43s/epoch - 488ms/step\n",
            "Epoch 40/40\n",
            "\n",
            "Epoch 40: val_loss did not improve from 0.78633\n",
            "88/88 - 43s - loss: 0.2892 - accuracy: 0.9953 - val_loss: 0.8123 - val_accuracy: 0.8223 - 43s/epoch - 489ms/step\n"
          ]
        }
      ]
    },
    {
      "cell_type": "code",
      "source": [
        "new_multimodal_model.evaluate(test_ds, batch_size=32, verbose=2, return_dict=True)"
      ],
      "metadata": {
        "id": "bVq_TR_0-QUx",
        "colab": {
          "base_uri": "https://localhost:8080/"
        },
        "outputId": "8150062f-b869-4d27-aec9-2a117d0cbcb9"
      },
      "execution_count": 28,
      "outputs": [
        {
          "output_type": "stream",
          "name": "stdout",
          "text": [
            "11/11 - 2s - loss: 0.7256 - accuracy: 0.8305 - 2s/epoch - 206ms/step\n"
          ]
        },
        {
          "output_type": "execute_result",
          "data": {
            "text/plain": [
              "{'accuracy': 0.8304597735404968, 'loss': 0.725635826587677}"
            ]
          },
          "metadata": {},
          "execution_count": 28
        }
      ]
    },
    {
      "cell_type": "code",
      "source": [
        "num_epoch = 20\n",
        "import matplotlib.pyplot as plt\n",
        "\n",
        "acc = history.history['accuracy'] + history_fine.history['accuracy']\n",
        "val_acc = history.history['val_accuracy'] + history_fine.history['val_accuracy']\n",
        "loss = history.history['loss'] + history_fine.history['loss']\n",
        "val_loss = history.history['val_loss'] + history_fine.history['val_loss']\n",
        "\n",
        "epochs = range(1, len(acc)+1)\n",
        "\n",
        "plt.figure(figsize = (15, 5))\n",
        "\n",
        "plt.plot(epochs, acc, 'g', label='Training accuracy')\n",
        "plt.plot(epochs, val_acc, 'r', label='Validation accuracy')\n",
        "plt.axvline(x = num_epoch , color = 'b', label = 'seperator, initial-training and fine-tune')\n",
        "plt.title('Training and validation accuracy')\n",
        "plt.legend()\n",
        "\n",
        "plt.figure(figsize = (15, 5))\n",
        "\n",
        "plt.plot(epochs, loss, 'g', label='Training loss')\n",
        "plt.plot(epochs, val_loss, 'r', label='Validation loss')\n",
        "plt.axvline(x = num_epoch , color = 'b', label = 'axvline - full height')\n",
        "plt.title('Training and validation loss')\n",
        "plt.legend()\n",
        "\n",
        "plt.show()"
      ],
      "metadata": {
        "colab": {
          "base_uri": "https://localhost:8080/",
          "height": 655
        },
        "id": "y64zIt2bEN6A",
        "outputId": "6cae4c62-7da9-4628-edfc-1a55b6cb2099"
      },
      "execution_count": 84,
      "outputs": [
        {
          "output_type": "display_data",
          "data": {
            "text/plain": [
              "<Figure size 1080x360 with 1 Axes>"
            ],
            "image/png": "[encoded data removed]"
          },
          "metadata": {
            "needs_background": "light"
          }
        },
        {
          "output_type": "display_data",
          "data": {
            "text/plain": [
              "<Figure size 1080x360 with 1 Axes>"
            ],
            "image/png": "[encoded data removed]"
          },
          "metadata": {
            "needs_background": "light"
          }
        }
      ]
    },
    {
      "cell_type": "code",
      "source": [
        ""
      ],
      "metadata": {
        "id": "-o2ndAaqEN7o"
      },
      "execution_count": null,
      "outputs": []
    },
    {
      "cell_type": "code",
      "source": [
        ""
      ],
      "metadata": {
        "id": "OwnTJUdXlBEc"
      },
      "execution_count": null,
      "outputs": []
    }
  ]
}